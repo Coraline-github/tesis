{
 "cells": [
  {
   "cell_type": "code",
   "execution_count": 6,
   "metadata": {},
   "outputs": [],
   "source": [
    "# MEDICIONES SOBRE TIERRA"
   ]
  },
  {
   "cell_type": "code",
   "execution_count": 5,
   "metadata": {},
   "outputs": [],
   "source": [
    "import numpy as np\n",
    "from scipy import signal\n",
    "from scipy.fftpack import fft, fftfreq, fftshift\n",
    "from scipy import stats\n",
    "\n",
    "from matplotlib import pyplot as plt\n",
    "from mpl_toolkits.mplot3d import Axes3D\n",
    "from matplotlib import cm\n",
    "from matplotlib.ticker import LinearLocator, FormatStrFormatter\n",
    "\n",
    "from varname import nameof\n",
    "import os"
   ]
  },
  {
   "cell_type": "code",
   "execution_count": 29,
   "metadata": {},
   "outputs": [],
   "source": [
    "%run check_import.ipynb\n",
    "%run codigos/to_baseband.ipynb\n",
    "%run codigos/FFT_ordenada.ipynb\n",
    "%run codigos/to_dB.ipynb\n",
    "%run codigos/mv_to_ep.ipynb\n",
    "%run codigos/R_Fresnel.ipynb"
   ]
  },
  {
   "cell_type": "code",
   "execution_count": 30,
   "metadata": {},
   "outputs": [],
   "source": [
    "#-----------------------------------\n",
    "## Parámetros globales de la antena\n",
    "#-----------------------------------\n",
    "\n",
    "Fs = 23.328e9 #Frecuencia de muestreo [Hz] \n",
    "Ts = 1/Fs\n",
    "BW = 1.5e9 \n",
    "corte = 150\n",
    "Nfft= 1024 # nro de frecs -> conviene que sea multiplo de 2 para calcular la FFT de manera eficiente. \n",
    "#Tiene que ser mayor a la longitud de la señal (285 para 2m, 439 para 3m)\n",
    "\n",
    "#------------------------------\n",
    "#Elegir frecuencia portadora\n",
    "#------------------------------\n",
    "\n",
    "#portadora = 'Fc7'\n",
    "portadora = 'Fc8'\n",
    "\n",
    "if portadora == 'Fc7':\n",
    "    fc = 7.290e9 \n",
    "    Fc = '7.29GHz'\n",
    "elif portadora == 'Fc8':\n",
    "    fc = 8.748e9\n",
    "    Fc = '8.74GHz'\n",
    "else:\n",
    "    print('Error: portadora debe ser Fc7 o Fc8')\n",
    "\n",
    "\n",
    "#------------------------------\n",
    "# Elegir sistema operativo\n",
    "#------------------------------\n",
    "system = 'ubuntu'\n",
    "#system = 'windows'\n"
   ]
  },
  {
   "cell_type": "markdown",
   "metadata": {},
   "source": [
    "## Mediciones"
   ]
  },
  {
   "cell_type": "code",
   "execution_count": 31,
   "metadata": {},
   "outputs": [
    {
     "name": "stdout",
     "output_type": "stream",
     "text": [
      "['c:\\\\Users\\\\User\\\\Documents\\\\Laboratorio\\\\Profesores\\\\Carolina Castedo\\\\facu\\\\codigos\\\\tesis\\\\mediciones_05_27', 'c:\\\\Users\\\\User\\\\Documents\\\\Laboratorio\\\\Profesores\\\\Carolina Castedo\\\\facu\\\\codigos\\\\tesis\\\\mediciones_06_09', 'c:\\\\Users\\\\User\\\\Documents\\\\Laboratorio\\\\Profesores\\\\Carolina Castedo\\\\facu\\\\codigos\\\\tesis\\\\mediciones_07_15', 'c:\\\\Users\\\\User\\\\Documents\\\\Laboratorio\\\\Profesores\\\\Carolina Castedo\\\\facu\\\\codigos\\\\tesis\\\\mediciones_08_22']\n"
     ]
    }
   ],
   "source": [
    "date = ['mediciones_05_27', 'mediciones_06_09', 'mediciones_07_15', 'mediciones_08_22']\n",
    "path = []\n",
    "\n",
    "for i in range(len(date)):\n",
    "    path.append(os.path.join(sys.path[0],date[i]))\n",
    "\n",
    "print(path)\n",
    "\n"
   ]
  },
  {
   "cell_type": "code",
   "execution_count": 32,
   "metadata": {},
   "outputs": [
    {
     "ename": "AttributeError",
     "evalue": "'str' object has no attribute 'readlines'",
     "output_type": "error",
     "traceback": [
      "\u001b[1;31m---------------------------------------------------------------------------\u001b[0m",
      "\u001b[1;31mAttributeError\u001b[0m                            Traceback (most recent call last)",
      "\u001b[1;32mc:\\Users\\User\\Documents\\Laboratorio\\Profesores\\Carolina Castedo\\facu\\codigos\\tesis\\ajustes.ipynb Celda 7\u001b[0m in \u001b[0;36m<cell line: 1>\u001b[1;34m()\u001b[0m\n\u001b[1;32m----> <a href='vscode-notebook-cell:/c%3A/Users/User/Documents/Laboratorio/Profesores/Carolina%20Castedo/facu/codigos/tesis/ajustes.ipynb#W6sZmlsZQ%3D%3D?line=0'>1</a>\u001b[0m S1_may \u001b[39m=\u001b[39m check_import(path[\u001b[39m0\u001b[39;49m], \u001b[39m'\u001b[39;49m\u001b[39mS1\u001b[39;49m\u001b[39m'\u001b[39;49m, portadora)\n\u001b[0;32m      <a href='vscode-notebook-cell:/c%3A/Users/User/Documents/Laboratorio/Profesores/Carolina%20Castedo/facu/codigos/tesis/ajustes.ipynb#W6sZmlsZQ%3D%3D?line=1'>2</a>\u001b[0m S1_jun \u001b[39m=\u001b[39m check_import(path[\u001b[39m1\u001b[39m], \u001b[39m'\u001b[39m\u001b[39mS1\u001b[39m\u001b[39m'\u001b[39m, portadora)\n\u001b[0;32m      <a href='vscode-notebook-cell:/c%3A/Users/User/Documents/Laboratorio/Profesores/Carolina%20Castedo/facu/codigos/tesis/ajustes.ipynb#W6sZmlsZQ%3D%3D?line=2'>3</a>\u001b[0m S1_jul \u001b[39m=\u001b[39m check_import(path[\u001b[39m2\u001b[39m], \u001b[39m'\u001b[39m\u001b[39mS1\u001b[39m\u001b[39m'\u001b[39m, portadora)\n",
      "File \u001b[1;32m~\\AppData\\Local\\Temp\\ipykernel_10124\\1328656321.py:82\u001b[0m, in \u001b[0;36mcheck_import\u001b[1;34m(Pat, target, portadora)\u001b[0m\n\u001b[0;32m     80\u001b[0m \u001b[39mfor\u001b[39;00m j \u001b[39min\u001b[39;00m \u001b[39mrange\u001b[39m(N_med): \n\u001b[0;32m     81\u001b[0m     J \u001b[39m=\u001b[39m \u001b[39mstr\u001b[39m(j\u001b[39m+\u001b[39m\u001b[39m1\u001b[39m)\n\u001b[1;32m---> 82\u001b[0m     len_data \u001b[39m=\u001b[39m \u001b[39mint\u001b[39m(\u001b[39mlen\u001b[39m(\u001b[39mopen\u001b[39m(os\u001b[39m.\u001b[39;49mpath\u001b[39m.\u001b[39;49mjoin(Pat,target,portadora,L,J\u001b[39m+\u001b[39;49m\u001b[39m'\u001b[39;49m\u001b[39m.txt\u001b[39;49m\u001b[39m'\u001b[39;49m)\u001b[39m.\u001b[39;49mreadlines())))\n\u001b[0;32m     83\u001b[0m     L_data[j] \u001b[39m=\u001b[39m len_data\n\u001b[0;32m     84\u001b[0m     \u001b[39m#print('medición ',target,' #'+J+' =',len_data)\u001b[39;00m\n\u001b[0;32m     85\u001b[0m \n\u001b[0;32m     86\u001b[0m \u001b[39m#-------------------------------------------------------------\u001b[39;00m\n\u001b[0;32m     87\u001b[0m \u001b[39m# Python program to check if all elements in a List are same \u001b[39;00m\n\u001b[0;32m     88\u001b[0m \u001b[39m#-------------------------------------------------------------\u001b[39;00m\n",
      "\u001b[1;31mAttributeError\u001b[0m: 'str' object has no attribute 'readlines'"
     ]
    }
   ],
   "source": [
    "S1_may = check_import(path[0], 'S1', portadora)\n",
    "S1_jun = check_import(path[1], 'S1', portadora)\n",
    "S1_jul = check_import(path[2], 'S1', portadora)\n",
    "S1A_ag = check_import(path[3], 'S1A', portadora)\n",
    "S1B_ag = check_import(path[3], 'S1B', portadora)\n",
    "\n",
    "print(np.shape(S1_may))\n",
    "print(np.shape(S1_jun))\n",
    "print(np.shape(S1_jul))\n",
    "print(np.shape(S1A_ag))\n",
    "print(np.shape(S1B_ag))\n",
    "\n",
    "#https://researchdatapod.com/how-to-solve-python-attributeerror-str-object-has-no-attribute-read/#:~:text=DSA-,How%20to%20Solve%20Python%20AttributeError%3A%20'str',object%20has%20no%20attribute%20'read'&text=This%20error%20typically%20occurs%20when,or%20reading%20a%20file%20object."
   ]
  },
  {
   "cell_type": "code",
   "execution_count": 27,
   "metadata": {},
   "outputs": [
    {
     "name": "stdout",
     "output_type": "stream",
     "text": [
      "c:\\Users\\User\\Documents\\Laboratorio\\Profesores\\Carolina Castedo\\facu\\codigos\\tesis\\mediciones_05_27\\S1\n"
     ]
    }
   ],
   "source": [
    "A = os.path.join(path[0],'S1')\n",
    "print(A)\n",
    "# open(os.path.join(path,'S1',portadora,'1','1'+'.txt').readlines())"
   ]
  },
  {
   "cell_type": "code",
   "execution_count": 65,
   "metadata": {},
   "outputs": [],
   "source": [
    "def transformada(señal,fc,Nfft,Ts):\n",
    "    avg  = np.mean(señal[:,:,:,1:],axis=3)\n",
    "\n",
    "    indices = np.shape(avg)\n",
    "    N_h = indices[0]\n",
    "    N_med = indices[1]\n",
    "\n",
    "    Scal_fft = np.zeros((N_h,N_med,Nfft),dtype=complex)\n",
    "    frec_fft = np.zeros((N_h,Nfft),dtype=complex)\n",
    "\n",
    "\n",
    "    ## Transformo Fourier\n",
    "    #~~~~~~~~~~~~~~~~~~~~~~~~~~~~~~~~~~~~~~~~~~~~~~~~~~~~~\n",
    "    Deltaf = 1.75e9\n",
    "    f_min = fc-Deltaf\n",
    "    f_max = fc+Deltaf\n",
    "\n",
    "    for i in range(N_h):\n",
    "\n",
    "        ## Transformo Fourier S_cal y grafico\n",
    "        for j in range(N_med):\n",
    "            Scal_fft[i,j,:] = FFT_ordenada(avg[i,j,:],Nfft,Ts)[1]\n",
    "        frec_fft[i,:] = FFT_ordenada(avg[i,0,:],Nfft,Ts)[0]\n",
    "\n",
    "        # print(np.shape(frec_fft))\n",
    "        # print(np.shape(Scal_fft))\n",
    "\n",
    "        #promedio las 10 mediciones Scal\n",
    "        Scal_fft_avg = np.zeros((N_h,Nfft), dtype=complex)\n",
    "        for j in range(Nfft):\n",
    "            Scal_fft_avg[i,j] = np.mean(Scal_fft[i,:,j])\n",
    "        \n",
    "        # print(np.shape(Scal_fft_avg))\n",
    "\n",
    "        #me quedo con las frecuencias positivas\n",
    "        f_pos = []\n",
    "\n",
    "        f_pos = frec_fft[i,(frec_fft[1]>f_min) & (frec_fft[1]<f_max)]\n",
    "        n_frecs = len(f_pos)\n",
    "\n",
    "        print(n_frecs)\n",
    "        start = int(np.min(np.where(frec_fft>f_min)))\n",
    "        end = int(np.max(np.where(frec_fft<f_max))+1)\n",
    "        f_norm = f_pos/1e9 # frec >0 normalizada en GHz\n",
    "\n",
    "        Scal_fpos = Scal_fft_avg[i,start:end]\n",
    "\n",
    "        print(np.shape(Scal_fpos))\n",
    "\n",
    "        ## Grafico\n",
    "        fig , ax = plt.subplots(nrows=1, ncols=2, figsize=(16,12))\n",
    "\n",
    "        ax[0].plot(f_norm,np.real(Scal_fpos[i,:]))\n",
    "        ax[0].grid('on')\n",
    "        ax[0].set_xlabel('F [GHz]')\n",
    "        ax[0].set_ylabel(str(nameof(señal)))   \n",
    "        ax[0].set_title('Parte Real')\n",
    "\n",
    "        ax[1].plot(f_norm,np.imag(Scal_fpos[i,:]))\n",
    "        ax[1].grid('on')\n",
    "        ax[1].set_xlabel('F [GHz]')\n",
    "        ax[1].set_ylabel(str(nameof(señal)))\n",
    "        ax[1].set_title('Parte Imag')\n",
    "\n",
    "    return f_norm, Scal_fpos"
   ]
  },
  {
   "cell_type": "code",
   "execution_count": 66,
   "metadata": {},
   "outputs": [
    {
     "ename": "ValueError",
     "evalue": "could not broadcast input array from shape (0,) into shape (1024,)",
     "output_type": "error",
     "traceback": [
      "\u001b[0;31m---------------------------------------------------------------------------\u001b[0m",
      "\u001b[0;31mValueError\u001b[0m                                Traceback (most recent call last)",
      "\u001b[1;32m/home/gordotony/Documents/GitHub/tesis/codigos/ajustes.ipynb Cell 12\u001b[0m in \u001b[0;36m<cell line: 1>\u001b[0;34m()\u001b[0m\n\u001b[0;32m----> <a href='vscode-notebook-cell:/home/gordotony/Documents/GitHub/tesis/codigos/ajustes.ipynb#X15sZmlsZQ%3D%3D?line=0'>1</a>\u001b[0m F, S \u001b[39m=\u001b[39m transformada(S1_may, fc, Nfft, Ts)\n",
      "\u001b[1;32m/home/gordotony/Documents/GitHub/tesis/codigos/ajustes.ipynb Cell 12\u001b[0m in \u001b[0;36mtransformada\u001b[0;34m(señal, fc, Nfft, Ts)\u001b[0m\n\u001b[1;32m     <a href='vscode-notebook-cell:/home/gordotony/Documents/GitHub/tesis/codigos/ajustes.ipynb#X15sZmlsZQ%3D%3D?line=32'>33</a>\u001b[0m \u001b[39m# print(np.shape(Scal_fft_avg))\u001b[39;00m\n\u001b[1;32m     <a href='vscode-notebook-cell:/home/gordotony/Documents/GitHub/tesis/codigos/ajustes.ipynb#X15sZmlsZQ%3D%3D?line=33'>34</a>\u001b[0m \n\u001b[1;32m     <a href='vscode-notebook-cell:/home/gordotony/Documents/GitHub/tesis/codigos/ajustes.ipynb#X15sZmlsZQ%3D%3D?line=34'>35</a>\u001b[0m \u001b[39m#me quedo con las frecuencias positivas\u001b[39;00m\n\u001b[1;32m     <a href='vscode-notebook-cell:/home/gordotony/Documents/GitHub/tesis/codigos/ajustes.ipynb#X15sZmlsZQ%3D%3D?line=35'>36</a>\u001b[0m f_pos \u001b[39m=\u001b[39m np\u001b[39m.\u001b[39mzeros((N_h,Nfft))\n\u001b[0;32m---> <a href='vscode-notebook-cell:/home/gordotony/Documents/GitHub/tesis/codigos/ajustes.ipynb#X15sZmlsZQ%3D%3D?line=37'>38</a>\u001b[0m f_pos[i,:] \u001b[39m=\u001b[39m frec_fft[i,(frec_fft[\u001b[39m1\u001b[39m]\u001b[39m>\u001b[39mf_min) \u001b[39m&\u001b[39m (frec_fft[\u001b[39m1\u001b[39m]\u001b[39m<\u001b[39mf_max)]\n\u001b[1;32m     <a href='vscode-notebook-cell:/home/gordotony/Documents/GitHub/tesis/codigos/ajustes.ipynb#X15sZmlsZQ%3D%3D?line=38'>39</a>\u001b[0m n_frecs \u001b[39m=\u001b[39m \u001b[39mlen\u001b[39m(f_pos)\n\u001b[1;32m     <a href='vscode-notebook-cell:/home/gordotony/Documents/GitHub/tesis/codigos/ajustes.ipynb#X15sZmlsZQ%3D%3D?line=40'>41</a>\u001b[0m \u001b[39mprint\u001b[39m(n_frecs)\n",
      "\u001b[0;31mValueError\u001b[0m: could not broadcast input array from shape (0,) into shape (1024,)"
     ]
    }
   ],
   "source": [
    "F, S = transformada(S1_may, fc, Nfft, Ts)\n"
   ]
  }
 ],
 "metadata": {
  "kernelspec": {
   "display_name": "Python 3.10.5 64-bit",
   "language": "python",
   "name": "python3"
  },
  "language_info": {
   "codemirror_mode": {
    "name": "ipython",
    "version": 3
   },
   "file_extension": ".py",
   "mimetype": "text/x-python",
   "name": "python",
   "nbconvert_exporter": "python",
   "pygments_lexer": "ipython3",
   "version": "3.10.5"
  },
  "orig_nbformat": 4,
  "vscode": {
   "interpreter": {
    "hash": "afb734500600fd355917ca529030176ea0ca205570884b88f2f6f7d791fd3fbe"
   }
  }
 },
 "nbformat": 4,
 "nbformat_minor": 2
}
