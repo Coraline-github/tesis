{
 "cells": [
  {
   "cell_type": "code",
   "execution_count": null,
   "metadata": {
    "collapsed": true
   },
   "outputs": [],
   "source": [
    "import numpy as np"
   ]
  },
  {
   "cell_type": "code",
   "execution_count": null,
   "metadata": {
    "collapsed": true
   },
   "outputs": [],
   "source": [
    "def to_dB(x,norm=None):\n",
    "    '''\n",
    "    Convierte a dB la señal x. \n",
    "    Si se pasa un segundo argumento, normaliza a 0 dB la máxima amplitud.\n",
    "    '''\n",
    "    \n",
    "    x_abs = np.abs(x)\n",
    "    x_abs_max = np.amax(x_abs)\n",
    "    \n",
    "    if norm:\n",
    "        x_dB = 10*np.log10(x_abs/x_abs_max)\n",
    "    else:\n",
    "        x_dB = 10*np.log10(x_abs)\n",
    "        \n",
    "    return x_dB"
   ]
  }
 ],
 "metadata": {
  "kernelspec": {
   "display_name": "Python 3.8.8 ('base')",
   "language": "python",
   "name": "python3"
  },
  "language_info": {
   "codemirror_mode": {
    "name": "ipython",
    "version": 3
   },
   "file_extension": ".py",
   "mimetype": "text/x-python",
   "name": "python",
   "nbconvert_exporter": "python",
   "pygments_lexer": "ipython3",
   "version": "3.8.8"
  },
  "vscode": {
   "interpreter": {
    "hash": "f6180580deba733ae6b67ff07d0619bc0e45d8154c010e604be71bef248e603e"
   }
  }
 },
 "nbformat": 4,
 "nbformat_minor": 2
}
