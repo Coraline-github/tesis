{
 "cells": [
  {
   "cell_type": "markdown",
   "metadata": {},
   "source": [
    "# Coeficientes de reflexión a incidencia normal para distintos 'targets'"
   ]
  },
  {
   "cell_type": "markdown",
   "metadata": {},
   "source": [
    "### target de espesor $d$ y constante dieléctrica $\\epsilon$ y conductor ideal debajo del dieléctrico."
   ]
  },
  {
   "cell_type": "code",
   "execution_count": null,
   "metadata": {
    "tags": []
   },
   "outputs": [],
   "source": [
    "def R_ep_cond(ep,d,f): # antes era Ref2. Solo valido para frecuencias positivas.\n",
    "    '''\n",
    "    coef dieléctrico ep de espesor d sobre conductor ideal\n",
    "    '''\n",
    "    \n",
    "    ki = 2*np.pi*f/3e8  \n",
    "    fi = 2*1j*np.sqrt(ep)*ki*d\n",
    "    \n",
    "    a = 1-np.sqrt(ep)+(1+np.sqrt(ep))*np.exp(fi)\n",
    "    b = 1+np.sqrt(ep)+(1-np.sqrt(ep))*np.exp(fi)\n",
    "    \n",
    "    return a/b"
   ]
  },
  {
   "cell_type": "markdown",
   "metadata": {},
   "source": [
    "## target un solo medio material"
   ]
  },
  {
   "cell_type": "code",
   "execution_count": null,
   "metadata": {},
   "outputs": [],
   "source": [
    "def R_ep(ep):\n",
    "    a = np.sqrt(ep)-1\n",
    "    b = np.sqrt(ep)+1\n",
    "    \n",
    "    r = a/b\n",
    "    \n",
    "    return r"
   ]
  },
  {
   "cell_type": "markdown",
   "metadata": {},
   "source": [
    "## target con dos dieléctricos: $\\epsilon_1$ con espesor $d$ y luego $\\epsilon_2$ semi-infinito"
   ]
  },
  {
   "cell_type": "code",
   "execution_count": null,
   "metadata": {
    "collapsed": true,
    "jupyter": {
     "outputs_hidden": true
    }
   },
   "outputs": [],
   "source": [
    "def R_ep1_ep2(ep1,ep2,d,f):\n",
    "    '''\n",
    "    dos dieléctricos: ep1 de espesor d y ep2 semi-infinito.\n",
    "    \n",
    "    config: aire-ep1-ep2\n",
    "    '''\n",
    "    \n",
    "    r01 = (np.sqrt(ep1)-1)/(np.sqrt(ep1)+1)\n",
    "    r12 = (np.sqrt(ep2)-np.sqrt(ep1))/(np.sqrt(ep2)+np.sqrt(ep1))\n",
    "    fase = 2*np.sqrt(ep1)*2*np.pi*f*d/3e8\n",
    "    \n",
    "    r = (r01+r12*np.exp(1j*fase))/(1+r01*r12*np.exp(1j*fase))\n",
    "    \n",
    "    return r\n",
    "    "
   ]
  },
  {
   "cell_type": "markdown",
   "metadata": {},
   "source": [
    "### target con tres dieléctricos: $\\epsilon_1$ con espesor $d_1$, $\\epsilon_2$ con espesor $d_2$ y $\\epsilon_3$ semi-infinito"
   ]
  },
  {
   "cell_type": "code",
   "execution_count": null,
   "metadata": {},
   "outputs": [],
   "source": [
    "def R_ep1_ep2_ep3(ep1, ep2, ep3, d1, d2, f):\n",
    "    '''\n",
    "      Coeficiente de reflexion de fresnell 2 interfases\n",
    "        Entradas:\n",
    "        -ep1: ϵ de la 1ra capa\n",
    "        -ep2: ϵ de la 2da capa\n",
    "        -ep: ϵ de la 3ra capa\n",
    "        -d1: ancho de la 1er capa\n",
    "        -d2: ancho de la 2da capa\n",
    "        -f: frecuencia incidente\n",
    "    \n",
    "        Salidas:\n",
    "        -R\n",
    "    '''\n",
    "    \n",
    "    phi1 = (2*np.pi*f*np.sqrt(ep1)*d1)/3e8\n",
    "    phi2 = (2*np.pi*f*np.sqrt(ep2)*d2)/3e8\n",
    "    R01 = -(1-np.sqrt(ep1))/(1+np.sqrt(ep1))\n",
    "    R12 = -(np.sqrt(ep1)-np.sqrt(ep2))/(np.sqrt(ep1)+np.sqrt(ep2))\n",
    "    R23 = -(np.sqrt(ep2)-np.sqrt(ep3))/(np.sqrt(ep2)+np.sqrt(ep3))\n",
    "\n",
    "    R123=(R12+R23*np.exp(2*1j*phi2))/(1+R12*R23*np.exp(2*1j*phi2))\n",
    "\n",
    "    a = R01+R123*np.exp(2*1j*phi1)\n",
    "    b = 1+R01*R123*np.exp(2*1j*phi1)\n",
    "\n",
    "    R = a/b\n",
    "    return R"
   ]
  },
  {
   "cell_type": "markdown",
   "metadata": {},
   "source": [
    "### target de espesor $d_1 + d_2 = d$, donde la constante dieléctrica varía en dos tramos: $\\epsilon_1$ arriba, $\\epsilon_2$ debajo, luego el conductor ideal. "
   ]
  },
  {
   "cell_type": "code",
   "execution_count": null,
   "metadata": {
    "collapsed": true,
    "jupyter": {
     "outputs_hidden": true
    }
   },
   "outputs": [],
   "source": [
    "def R_2capas(ep1,ep2,d1,d2,f):\n",
    "    '''\n",
    "    dos dieléctricos: ep1 con espesor d1, ep2 con espesor d2;\n",
    "    ep1 sobre ep2 y ep2 sobre dieléctrico.\n",
    "    \n",
    "    config: aire-ep1-ep2-conductor.\n",
    "    '''\n",
    "    \n",
    "    k0 = 2*np.pi*f/3e8\n",
    "    k1 = np.sqrt(ep1)*k0\n",
    "    k2 = np.sqrt(ep2)*k0\n",
    "    \n",
    "    z1 = np.exp(-2*1j*k1*d1)\n",
    "    z2 = np.exp(-2*1j*k2*d2)\n",
    "\n",
    "    r01 = (np.sqrt(ep1)-1)/(np.sqrt(ep1)+1) # interface ep0-ep1; ep0 = 1\n",
    "    r12 = (np.sqrt(ep2)-np.sqrt(ep1))/(np.sqrt(ep2)+np.sqrt(ep1))  # interface ep1-ep2, dentro del dieléctrico\n",
    "    r2cond = 1 # interface ep2-conductor ideal\n",
    "\n",
    "    a = r01 + r12/z1 + r01*r12*r2cond/z2 + r2cond/(z1*z2)\n",
    "    b = 1 + r01*r12/z1 + r12*r2cond/z2 + r01*r2cond/(z1*z2)\n",
    "\n",
    "    R = a/b\n",
    "\n",
    "    return R"
   ]
  },
  {
   "cell_type": "markdown",
   "metadata": {},
   "source": [
    "# Coeficientes de reflexión ($\\theta \\neq 0$) para distintos 'targets'"
   ]
  },
  {
   "cell_type": "markdown",
   "metadata": {},
   "source": [
    "## Coeficientes de reflexion y transmision de fresnell (genericos)"
   ]
  },
  {
   "cell_type": "code",
   "execution_count": null,
   "metadata": {},
   "outputs": [],
   "source": [
    "def R_ij(ep_i,ep_j,tita_i,tita_j):\n",
    "    '''\n",
    "    Coeficiente de reflexion de fresnell entre capa i y j\n",
    "    '''\n",
    "    Rij = -(np.sqrt(ep_i)*np.cos(tita_i)-np.sqrt(ep_j)*np.cos(tita_j))/(np.sqrt(ep_i)*np.cos(tita_i)+np.sqrt(ep_j)*np.cos(tita_j))\n",
    "    return Rij"
   ]
  },
  {
   "cell_type": "code",
   "execution_count": null,
   "metadata": {},
   "outputs": [],
   "source": [
    "def T_ij(ep_i,ep_j,tita_i,tita_j):\n",
    "    '''\n",
    "    Coeficiente de transmicion de fresnell entre capa i y j\n",
    "    '''\n",
    "    Tij = (2*np.sqrt(ep_i)*np.cos(tita_i))/(np.sqrt(ep_i)*np.cos(tita_i)+np.sqrt(ep_j)*np.cos(tita_j))\n",
    "    return Tij"
   ]
  },
  {
   "cell_type": "markdown",
   "metadata": {},
   "source": [
    "## Un dieléctrico"
   ]
  },
  {
   "cell_type": "markdown",
   "metadata": {},
   "source": [
    "### Target un solo medio material con constante dielectrica $\\epsilon$"
   ]
  },
  {
   "cell_type": "code",
   "execution_count": null,
   "metadata": {},
   "outputs": [],
   "source": [
    "def RR_ep(ep,tita):\n",
    "    a = np.sqrt(ep)*np.cos(tita)-1\n",
    "    b = np.sqrt(ep)*np.cos(tita)+1\n",
    "    \n",
    "    r = a/b\n",
    "    \n",
    "    return r"
   ]
  },
  {
   "cell_type": "markdown",
   "metadata": {},
   "source": [
    "## target con dos dieléctricos: $\\epsilon_1$ con espesor $d$ y luego $\\epsilon_2$ semi-infinito"
   ]
  },
  {
   "cell_type": "code",
   "execution_count": null,
   "metadata": {},
   "outputs": [],
   "source": [
    "def RR_ep1_ep2(ep1,ep2,tita,d,f):\n",
    "    '''\n",
    "    Coeficiente de reflexion de fresnell 2 interfases:\n",
    "    ep1 de espesor d y ep2 semi-infinito.\n",
    "\n",
    "    Entradas:\n",
    "    -ep1: ϵ de la 1ra capa\n",
    "    -ep2: ϵ de la 2da capa\n",
    "    -tita: angulo de incidencia inicial\n",
    "    -d: ancho de la capa\n",
    "    -f: frecuencia incidente\n",
    "\n",
    "    Salidas:\n",
    "    -R\n",
    "    '''\n",
    "    #por snell\n",
    "    tita_1 = np.arcsin(np.sin(tita)/np.sqrt(ep1))\n",
    "    r01 = R_ij(1,ep1,tita,tita_1)\n",
    "\n",
    "    #por snell\n",
    "    tita_2 = np.arcsin(np.sqrt(ep1/ep2)*np.sin(tita_1))\n",
    "    r12 = R_ij(ep1,ep2,tita_1,tita_2)\n",
    "    \n",
    "    fase = 2*np.sqrt(ep1)*2*np.pi*f*d/3e8\n",
    "    \n",
    "    R = (r01+r12*np.exp(1j*fase))/(1+r01*r12*np.exp(1j*fase))\n",
    "    \n",
    "    return R"
   ]
  },
  {
   "cell_type": "markdown",
   "metadata": {},
   "source": [
    "### target con tres dieléctricos: $\\epsilon_1$ con espesor $d_1$, $\\epsilon_2$ con espesor $d_2$ y $\\epsilon_3$ semi-infinito"
   ]
  },
  {
   "cell_type": "code",
   "execution_count": null,
   "metadata": {},
   "outputs": [],
   "source": [
    "def RR_ep1_ep2_ep3(ep1, ep2, ep3, tita, d1, d2, f):\n",
    "    '''\n",
    "      Coeficiente de reflexion de fresnell 2 interfases\n",
    "        Entradas:\n",
    "        -ep1: ϵ de la 1ra capa\n",
    "        -ep2: ϵ de la 2da capa\n",
    "        -ep3: ϵ de la 3ra capa\n",
    "        -tita: angulo de incidencia inicial\n",
    "        -d1: ancho de la 1er capa\n",
    "        -d2: ancho de la 2da capa\n",
    "        -f: frecuencia incidente\n",
    "    \n",
    "        Salidas:\n",
    "        -R\n",
    "    '''\n",
    "    \n",
    "    phi1 = (2*np.pi*f*np.sqrt(ep1)*d1)/3e8\n",
    "    phi2 = (2*np.pi*f*np.sqrt(ep2)*d2)/3e8\n",
    "\n",
    "    #por snell\n",
    "    tita_1 = np.arcsin(np.sin(tita)/np.sqrt(ep1))\n",
    "    R01 = R_ij(1,ep1,tita,tita_1)    \n",
    "    \n",
    "    #por snell\n",
    "    tita_2 = np.arcsin(np.sqrt(ep1/ep2)*np.sin(tita_1))\n",
    "    R12 = R_ij(ep1,ep2,tita_1,tita_2)\n",
    "\n",
    "    #por snell\n",
    "    tita_3 = np.arcsin(np.sqrt(ep2/ep3)*np.sin(tita_2))\n",
    "    R23 = R_ij(ep2,ep3,tita_2,tita_3)\n",
    "\n",
    "    R123=(R12+R23*np.exp(2*1j*phi2))/(1+R12*R23*np.exp(2*1j*phi2))\n",
    "\n",
    "    a = R01+R123*np.exp(2*1j*phi1)\n",
    "    b = 1+R01*R123*np.exp(2*1j*phi1)\n",
    "\n",
    "    R = a/b\n",
    "    return R"
   ]
  }
 ],
 "metadata": {
  "kernelspec": {
   "display_name": "Python 3.10.5 64-bit",
   "language": "python",
   "name": "python3"
  },
  "language_info": {
   "codemirror_mode": {
    "name": "ipython",
    "version": 3
   },
   "file_extension": ".py",
   "mimetype": "text/x-python",
   "name": "python",
   "nbconvert_exporter": "python",
   "pygments_lexer": "ipython3",
   "version": "3.10.5"
  },
  "vscode": {
   "interpreter": {
    "hash": "afb734500600fd355917ca529030176ea0ca205570884b88f2f6f7d791fd3fbe"
   }
  }
 },
 "nbformat": 4,
 "nbformat_minor": 4
}
