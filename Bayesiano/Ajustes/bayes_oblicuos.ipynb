{
 "cells": [
  {
   "cell_type": "markdown",
   "metadata": {},
   "source": [
    "# Análisis de las señales usando inferencia bayesiana"
   ]
  },
  {
   "cell_type": "code",
   "execution_count": null,
   "metadata": {},
   "outputs": [],
   "source": [
    "import numpy as np\n",
    "import matplotlib\n",
    "from matplotlib import pyplot as plt\n",
    "from scipy import interpolate\n",
    "import seaborn as sns\n",
    "sns.set()\n",
    "import pandas as pd\n",
    "import pickle\n",
    "\n",
    "import theano.tensor as TT\n",
    "import time\n",
    "import random\n",
    "\n",
    "import pymc3 as pm\n",
    "import arviz as az\n",
    "\n",
    "import sys\n",
    "#import winsound"
   ]
  },
  {
   "cell_type": "code",
   "execution_count": null,
   "metadata": {},
   "outputs": [],
   "source": [
    "portadora = input('Fc7 , Fc8')\n",
    "mediciones = ['06_09','07_15','08_22']\n",
    "dia = input('dia de medicion? (jun=1, jul=2, ag=3)')\n",
    "dia = mediciones[int(dia)]\n",
    "\n",
    "if portadora == 'Fc8':\n",
    "    f_pos = np.load('mediciones/f.npy',mmap_mode=None, allow_pickle=False, fix_imports=True, encoding='ASCII')\n",
    "    \n",
    "    if dia == '06_09':\n",
    "        altura = 1\n",
    "        tita = input('titas posibles: 5, 10, 15, 20, 25, 30, 40, 50')\n",
    "    elif dia == '07_15':\n",
    "        altura = 0\n",
    "        tita = input('titas posibles: 10, 20, 30, 40')\n",
    "    else:\n",
    "        altura = 1\n",
    "        tita = input('titas posibles: 10, 20')\n",
    "        \n",
    "    with open('mediciones/altura_'+altura+'.pkl','rb') as Q:\n",
    "        med = pickle.load(Q)\n",
    "    Scal = med.get('S1_'+dia)\n",
    "    with open('mediciones/Z2'+dia+'.pkl','rb') as QQ:\n",
    "        Z2 = pickle.load(QQ)\n",
    "    Star = Z2.get('Z2_'+int(tita))\n",
    "\n",
    "else:\n",
    "    print('las mediciones para Fc7 no estan procesadas')\n",
    "\n",
    "print('dim f_pos:',np.shape(f_pos))\n",
    "print('dim S1:',np.shape(Scal))\n",
    "print('dim Z2:',np.shape(Star)) "
   ]
  },
  {
   "cell_type": "code",
   "execution_count": null,
   "metadata": {},
   "outputs": [],
   "source": [
    "## Mediciones con el hydra\n",
    "if Y == '0':\n",
    "    # mayo\n",
    "    ep1_obs = (20.731 + 1j*8.688) - 1j #2cm\n",
    "    ep2_obs = (23.299 + 1j*9.799) - 1j #6,5cm\n",
    "    ep3_obs = (25.813+10.474j) - 1j #12cm \n",
    "    \n",
    "elif Y == '1':\n",
    "    # junio\n",
    "    ep1_obs = (11.496 +1j*4.028) - 1j #2,5cm\n",
    "    ep2_obs = (13.894 + 1j*5.12) - 1j #7cm\n",
    "    ep3_obs = (22.823 + 1j*18.73) - 1j #13cm\n",
    "\n",
    "elif Y == '2':\n",
    "    # julio\n",
    "    ep1_obs = (8.129 +1j*4.91) -1j #2cm\n",
    "    ep2_obs = (10.302 + 1j*6.12) -1j #7cm\n",
    "    ep3_obs = (11.268 + 1j*6.695) -1j#14cm\n",
    "\n",
    "else:\n",
    "    # agosto\n",
    "    ep1_obs = 7.6 + 1j*4.36 #2cm\n",
    "    ep2_obs = 7.54 + 1j*3.94 #9cm\n",
    "    ep3_obs = 'error' #no se medio otra humedad"
   ]
  },
  {
   "cell_type": "code",
   "execution_count": null,
   "metadata": {},
   "outputs": [],
   "source": []
  }
 ],
 "metadata": {
  "kernelspec": {
   "display_name": "Python 3.8.10 64-bit",
   "language": "python",
   "name": "python3"
  },
  "language_info": {
   "name": "python",
   "version": "3.8.10"
  },
  "orig_nbformat": 4,
  "vscode": {
   "interpreter": {
    "hash": "916dbcbb3f70747c44a77c7bcd40155683ae19c65e1c03b4aa3499c5328201f1"
   }
  }
 },
 "nbformat": 4,
 "nbformat_minor": 2
}
