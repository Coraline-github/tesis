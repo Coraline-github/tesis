{
 "cells": [
  {
   "cell_type": "markdown",
   "id": "03a1008e-5f4c-43f6-9e39-1d03ea39f87e",
   "metadata": {
    "tags": []
   },
   "source": [
    "## Modelo de scattering con interfaces rugosas basado en \n",
    "\n",
    "\n",
    "- Modeling of EM Wave Coherent Scattering From a Rough Multilayered Medium With the Scalar Kirchhoff Approximation for GPR Applications,\n",
    "\n",
    "    Nicolas Pinel, Cédric Le Bastard, Christophe Bourlier, IEEE Transactions on Geoscience and Remote Sensing, 58(3), 1654-1664.\n",
    "\n",
    "\n",
    "\n",
    "- DEGREE OF ROUGHNESS OF ROUGH LAYERS: EXTENSIONS OF THE RAYLEIGH ROUGHNESS CRITERION AND SOME APPLICATIONS,\n",
    "\n",
    "    N. Pinel, C. Bourlier, and J. Saillard, Progress In Electromagnetics Research B, Vol. 19, 41–63, 2010\n",
    "\n"
   ]
  },
  {
   "cell_type": "code",
   "execution_count": 2,
   "id": "093008fa-d2a3-43d4-8b05-7183b483180e",
   "metadata": {},
   "outputs": [],
   "source": [
    "import numpy as np"
   ]
  },
  {
   "cell_type": "code",
   "execution_count": null,
   "id": "6d40b691-03b3-4134-a888-6bff5a941d94",
   "metadata": {},
   "outputs": [],
   "source": [
    "def R_pinel_2L(ep1,ep2,d1,s0,s1,f):\n",
    "        \n",
    "                \n",
    "    r01 = (1-np.sqrt(ep1))/(1+np.sqrt(ep1))\n",
    "    t01 = 2/(1+np.sqrt(ep1))\n",
    "    t10 = 2*np.sqrt(ep1)/(1+np.sqrt(ep1))\n",
    "    r12 =  (np.sqrt(ep1)-np.sqrt(ep2))/(np.sqrt(ep1)+np.sqrt(ep2))\n",
    "\n",
    "    k0z = 2*np.pi*f/3e8\n",
    "    k1z = np.sqrt(np.real(ep1))*k0z\n",
    "\n",
    "    Es = r01*np.exp(-2*(k0z*s1)**2) + t01*r12*t10*np.exp(-2j*k1z*d1)*np.exp(-(k0z-k1z)**2*s0**2)*np.exp(-2*(k1z*s1)**2)\n",
    "    \n",
    "    return Es\n",
    "        \n",
    "    \n",
    "def R_pinel_3L(ep1,ep2,ep3,d1,d2,s0,s1,s2,f):\n",
    "    \n",
    "            \n",
    "    r01 = (1-np.sqrt(ep1))/(1+np.sqrt(ep1))\n",
    "    t01 = 2/(1+np.sqrt(ep1))\n",
    "    t10 = 2*np.sqrt(ep1)/(1+np.sqrt(ep1))\n",
    "\n",
    "    r12 =  (np.sqrt(ep1)-np.sqrt(ep2))/(np.sqrt(ep1)+np.sqrt(ep2))\n",
    "    t12 = 2*np.sqrt(ep1)/(np.sqrt(ep1)+np.sqrt(ep2))\n",
    "    t21 = 2*np.sqrt(ep2)/(np.sqrt(ep1)+np.sqrt(ep2))\n",
    "\n",
    "    r23 = (np.sqrt(ep2)-np.sqrt(ep3))/(np.sqrt(ep2)+np.sqrt(ep3))\n",
    "\n",
    "    k0z = 2*np.pi*f/3e8\n",
    "    k1z = np.sqrt(np.real(ep1))*k0z\n",
    "    k2z = np.sqrt(np.real(ep2))*k0z\n",
    "\n",
    "    Es = r01*np.exp(-2*(k0z*s0)**2) + t01*r12*t10*np.exp(-2j*k1z*d1)*np.exp(-(k0z-k1z)**2*s0**2)*np.exp(-2*(k1z*s1)**2)+\\\n",
    "        t01*t12*r23*t21*t10*np.exp(-2j*k1z*d1)*np.exp(-2j*k2z*(d2-d1))*np.exp(-(s0*(k0z-k1z))**2)*np.exp(-(s1*(k1z-k2z))**2)*np.exp(-2*(s2*k2z)**2)\n",
    "\n",
    "    return Es"
   ]
  }
 ],
 "metadata": {
  "kernelspec": {
   "display_name": "Python 3.8.10 64-bit",
   "language": "python",
   "name": "python3"
  },
  "language_info": {
   "codemirror_mode": {
    "name": "ipython",
    "version": 3
   },
   "file_extension": ".py",
   "mimetype": "text/x-python",
   "name": "python",
   "nbconvert_exporter": "python",
   "pygments_lexer": "ipython3",
   "version": "3.8.10"
  },
  "vscode": {
   "interpreter": {
    "hash": "916dbcbb3f70747c44a77c7bcd40155683ae19c65e1c03b4aa3499c5328201f1"
   }
  }
 },
 "nbformat": 4,
 "nbformat_minor": 5
}
