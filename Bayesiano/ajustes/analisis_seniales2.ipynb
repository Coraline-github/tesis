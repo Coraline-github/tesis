{
 "cells": [
  {
   "cell_type": "markdown",
   "metadata": {
    "id": "RjRC_bBdDpKD"
   },
   "source": [
    "# Mediciones en el patio del IAFE \n",
    "\n",
    "## Análisis de las mediciones\n",
    "\n",
    "- S1: medición con placa conductora.\n",
    "- S2: medición sobre la tierra del patio-\n",
    "\n",
    "* **S_cal = S1**: señal de calibración.\n",
    "* **S_target = S2**: señal reflejada por el target de interés.\n",
    "\n",
    "> **La señal de calibración** es la que, idealmente, emite la antena. Si uno pudiese modelar de punta a punta la antena y hacer todas las cuentas necesarias, obtendría que la antena emite el pulso $S_{cal}(t)$, o bien su transformada de Fourier $\\hat{S}_{cal}(f)$. Esto lo decimos porque medimos esta señal luego de la reflexión con un target que tiene el coeficiente de reflexión $|R|=1$. Está claro que esto es una hipótesis fuerte, que deberá ser corregida luego. Además, falta contemplar el factor de decaimiento de la señal debido al camino de ida-vuelta entre la antena emisora y la antena receptora. Pero este factor -geométrico- es independiente de las frecuencias del paquete de ondas y del target, así que por ahora podemos ignorarlo.\n",
    "\n",
    "\n",
    "> **La señal del target** es la que debemos analizar para obtener alguna de las propiedades del blanco en estudio. En principio desconocemos la constante dieléctrica $\\epsilon(\\omega)$ que tiene la placa dieléctrica de espesor $D$ puesta sobre el conductor ideal. Y, en principio, la señal reflejada por este target que recibe la antena  es $S_{teo}=R(\\omega)\\,\\times\\,S_{antena}(\\omega)=R(\\omega)\\,\\times\\,S_{cal}(\\omega)$. Entonces, aquí tenemos que comparar $S_{teo}$ vs $S_{target}$ y ver qué tan bien andamos rumbeados. Para ello debríamos saber de antemano la constante dieléctrica del target, que sería el parámetro a obtener! Pero bueno, este es el experimento de calibración del método UWB. Así que en este caso asumimos un valor (o varios) para $\\epsilon(\\omega)$ y completamos el ciclo de análisis de datos.\n",
    "\n",
    "\n",
    "\n",
    "## Skin Depth ($\\delta_D$):\n",
    "\n",
    "\n",
    "Dieléctrico: $\\epsilon = \\epsilon_r -\\imath\\,\\epsilon_i$\n",
    "\n",
    "\n",
    "### - loss-low medium:\n",
    "\n",
    "$\\delta_D = \\frac{\\lambda}{2\\,c}\\sqrt{\\frac{\\epsilon_r}{\\epsilon^2_i}}$\n",
    "\n",
    "\n",
    "\n"
   ]
  },
  {
   "cell_type": "markdown",
   "metadata": {
    "id": "5JkDYY6IMdlh"
   },
   "source": [
    "## Cargamos paquetes y funciones que usaremos después ##"
   ]
  },
  {
   "cell_type": "code",
   "execution_count": 1,
   "metadata": {
    "id": "y-M7wbwEDXD3"
   },
   "outputs": [],
   "source": [
    "import numpy as np\n",
    "from scipy import signal\n",
    "from scipy.fftpack import fft, fftfreq, fftshift\n",
    "from scipy import stats\n",
    "\n",
    "from matplotlib import pyplot as plt\n",
    "from mpl_toolkits.mplot3d import Axes3D\n",
    "from matplotlib import cm\n",
    "from matplotlib.ticker import LinearLocator, FormatStrFormatter\n",
    "\n",
    "\n",
    "import os, sys"
   ]
  },
  {
   "cell_type": "code",
   "execution_count": 1,
   "metadata": {
    "id": "0OJUAPTXM4sR"
   },
   "outputs": [],
   "source": [
    "%run /home/tele/Desktop/UWB/codigos_auxiliares/to_baseband.ipynb\n",
    "%run /home/tele/Desktop/UWB/codigos_auxiliares/FFT_ordenada.ipynb\n",
    "%run /home/tele/Desktop/UWB/codigos_auxiliares/to_dB.ipynb\n",
    "%run /home/tele/Desktop/UWB/codigos_auxiliares/mv_to_ep.ipynb\n",
    "%run /home/tele/Desktop/UWB/codigos_auxiliares/R_Fresnel.ipynb\n",
    "%run /home/tele/Desktop/UWB/codigos_auxiliares/Pinel.ipynb"
   ]
  },
  {
   "cell_type": "code",
   "execution_count": 7,
   "metadata": {
    "id": "_5ODHfoK_-ay"
   },
   "outputs": [
    {
     "name": "stdout",
     "output_type": "stream",
     "text": [
      "fc = 8.748GHz\n"
     ]
    }
   ],
   "source": [
    "## Parámetros globales de la antena\n",
    "\n",
    "Fs = 23.328e9 #Frecuencia de muestreo [Hz] \n",
    "Ts = 1/Fs\n",
    "BW = 1.5e9 \n",
    "\n",
    "corte = 150\n",
    "Nfft= 1024 # nro de frecs -> conviene que sea multiplo de 2 para calcular la FFT de manera eficiente. \n",
    "#Tiene que ser mayor a la longitud de la señal (285 para 2m, 439 para 3m)\n",
    "\n",
    "# portadora = 'Fc7/'\n",
    "\n",
    "if portadora== 'Fc7/':\n",
    "    fc = 7.290e9\n",
    "    print('fc =',str(fc/1e9) + 'GHz')\n",
    "elif portadora== 'Fc8/':\n",
    "    fc = 8.748e9\n",
    "    print('fc =',str(fc/1e9) + 'GHz')\n",
    "else:\n",
    "    print('Error: portadora debe ser Fc7 o Fc8')"
   ]
  },
  {
   "cell_type": "code",
   "execution_count": null,
   "metadata": {},
   "outputs": [],
   "source": []
  },
  {
   "cell_type": "markdown",
   "metadata": {
    "id": "9PTe5CR_OwTm"
   },
   "source": [
    "## Analizo la señal de calibración"
   ]
  },
  {
   "cell_type": "code",
   "execution_count": null,
   "metadata": {},
   "outputs": [],
   "source": [
    "\n",
    "# cuento el número de archivos en el directorio\n",
    "list = os.listdir(path_Scal+portadora+altura) # dir is your directory path\n",
    "N_med = int(len(list))\n",
    "print('# mediciones =', N_med)\n",
    "print()\n",
    "\n",
    "# miro la longitud de cada mediciòn\n",
    "L_data = np.zeros(N_med, dtype=int) # vector en donde guardo la long de cada medición\n",
    "\n",
    "\n",
    "for j in range(N_med): \n",
    "    J = str(j+1)\n",
    "    len_data = int(len(open(path_Scal+'Fc8/'+altura+J+'_S1.txt').readlines()))\n",
    "    L_data[j] = len_data\n",
    "    #print('medición #'+J+' =',len_data)\n",
    "    \n",
    "    \n",
    "print()\n",
    "\n",
    "print('long de una medición S1:',np.shape(np.genfromtxt(path_Scal+portadora+altura+'1_S1.txt', delimiter=' ')))"
   ]
  },
  {
   "cell_type": "code",
   "execution_count": null,
   "metadata": {},
   "outputs": [],
   "source": [
    "## Miro la señal en función del tiempo\n",
    "\n",
    "S1 = np.zeros((N_med,int(len_data-1),11),dtype=float)\n",
    "\n",
    "\n",
    "for j0 in range(N_med):\n",
    "    J0 = str(j0+1)\n",
    "    S1[j0,:,:] = np.genfromtxt(path_Scal+portadora+altura+J0+'_S1.txt', delimiter=' ')\n",
    "\n",
    "print('dim S1:',np.shape(S1))\n",
    "\n",
    "## Grafico S_cal(t) en banda pasante\n",
    "dist_S1 = S1[0,:,0]\n",
    "tiempo_S1 = dist_S1/3e8\n",
    "\n",
    "S1_avg  = np.mean(S1[:,:,1:],axis=2)\n",
    "print('dim. S1_avg =', np.shape(S1_avg))"
   ]
  },
  {
   "cell_type": "code",
   "execution_count": null,
   "metadata": {},
   "outputs": [],
   "source": [
    "## Recorto la señal\n",
    "\n",
    "d_ini = 25\n",
    "d_fin = 128\n",
    "\n",
    "dist_S1 = S1[0,d_ini:d_fin,0]\n",
    "tiempo_S1 = dist_S1/3e8\n",
    "\n",
    "S1_avg  = np.mean(S1[:,d_ini:d_fin,1:],axis=2)\n",
    "print('dim. S1_avg =', np.shape(S1_avg))\n"
   ]
  },
  {
   "cell_type": "code",
   "execution_count": null,
   "metadata": {
    "colab": {
     "base_uri": "https://localhost:8080/",
     "height": 1000
    },
    "executionInfo": {
     "elapsed": 7542,
     "status": "ok",
     "timestamp": 1646944561766,
     "user": {
      "displayName": "Mariano Franco",
      "photoUrl": "https://lh3.googleusercontent.com/a-/AOh14GgUayEf8m7fnugVtwhEyKUOy5ij5knJe431K_j7zg=s64",
      "userId": "02034761525585559504"
     },
     "user_tz": 180
    },
    "id": "tQAnC5Lmoedd",
    "outputId": "1b994d5d-33a7-4d86-c95a-51b9c2b75416"
   },
   "outputs": [],
   "source": [
    "## Transformo Fourier S_cal y grafico\n",
    "Scal_fft = np.zeros((N_med,Nfft),dtype=complex)\n",
    "\n",
    "for j in range(N_med):\n",
    "    Scal_fft[j,:] = FFT_ordenada(S1_avg[j,:],Nfft,Ts)[1]\n",
    "frec_fft = FFT_ordenada(S1_avg[0,:],Nfft,Ts)[0]\n",
    "\n",
    "#promedio las 10 mediciones Scal\n",
    "Scal_fft_avg = np.zeros(Nfft, dtype=complex)\n",
    "\n",
    "for j in range(Nfft):\n",
    "    Scal_fft_avg[j] = np.mean(Scal_fft[:,j])\n",
    "\n"
   ]
  },
  {
   "cell_type": "code",
   "execution_count": null,
   "metadata": {},
   "outputs": [],
   "source": [
    "fmin = 3e9 #0.25e9 #fc-1.55*BW\n",
    "print('f_min =',fmin/1e9,'GHz')\n",
    "\n",
    "f_pos = frec_fft[frec_fft>fmin]\n",
    "np.save('fpos.npy', f_pos, allow_pickle=True, fix_imports=True)\n",
    "\n",
    "n_frecs = len(f_pos)\n",
    "start = int(1024-n_frecs)\n",
    "f_norm = f_pos/1e9 # frec >0 normalizada en GHz\n",
    "\n",
    "Scal_fpos = np.zeros((N_med,n_frecs), dtype=complex)\n",
    "\n",
    "for j in range(N_med):\n",
    "    Scal_fpos[j,:] = Scal_fft[j,start:1024]\n",
    "    \n",
    "\n",
    "Scal_avg_fpos = Scal_fft_avg[start:1024]\n",
    "np.save('Scal.npy', Scal_avg_fpos, allow_pickle=True, fix_imports=True)\n",
    "print('Scal: ', np.shape(Scal_avg_fpos))\n"
   ]
  },
  {
   "cell_type": "markdown",
   "metadata": {},
   "source": [
    "## Analizo las señales target ##"
   ]
  },
  {
   "cell_type": "code",
   "execution_count": null,
   "metadata": {},
   "outputs": [],
   "source": [
    "\n",
    "# cuento el número de archivos en el directorio\n",
    "list = os.listdir(path_Star+portadora+altura) # dir is your directory path\n",
    "N_med = int(len(list))\n",
    "print('# mediciones =', N_med)\n",
    "print()\n",
    "\n",
    "# miro la longitud de cada mediciòn\n",
    "L_data = np.zeros(N_med, dtype=int) # vector en donde guardo la long de cada medición\n",
    "\n",
    "for j in range(N_med): \n",
    "    J = str(j+1)\n",
    "    len_data_s2 = int(len(open(path_Star+'Fc8/'+altura+J+'_S2.txt').readlines()))\n",
    "    L_data[j] = len_data_s2\n",
    "    #print('medición #'+J+' =',len_data)\n",
    "    \n",
    "    \n",
    "print()\n",
    "\n",
    "print('long de una medición S2:',np.shape(np.genfromtxt(path_Star+portadora+altura+'1_S2.txt', delimiter=' ')))"
   ]
  },
  {
   "cell_type": "code",
   "execution_count": null,
   "metadata": {},
   "outputs": [],
   "source": [
    "## Miro la señal target en función del tiempo\n",
    "\n",
    "S2 = np.zeros((N_med,int(len_data_s2-1),11))\n",
    "print(np.shape(S2))\n",
    "\n",
    "for j0 in range(N_med):\n",
    "    J0 = str(j0+1)\n",
    "    S2[j0,:,:] = np.genfromtxt(path_Star+portadora+altura+J0+'_S2.txt', delimiter=' ')\n",
    "\n",
    "\n",
    "\n",
    "dist_S2 = S2[0,:,0]\n",
    "tiempo_S2 = dist_S2/3e8\n",
    "\n",
    "S2_avg  = np.mean(S2[:,:,1:],axis=2)\n"
   ]
  },
  {
   "cell_type": "code",
   "execution_count": null,
   "metadata": {},
   "outputs": [],
   "source": [
    "## Transformo Fourier S_cal y grafico\n",
    "Star_fft = np.zeros((N_med,Nfft),dtype=complex)\n",
    "\n",
    "for j in range(N_med):\n",
    "    Star_fft[j,:] = FFT_ordenada(S2_avg[j,:],Nfft,Ts)[1]\n",
    "frec_fft = FFT_ordenada(S2_avg[0,:],Nfft,Ts)[0]\n",
    "\n",
    "#promedio las 10 mediciones Star\n",
    "Star_fft_avg = np.zeros(Nfft, dtype=complex)\n",
    "\n",
    "for j in range(Nfft):\n",
    "    Star_fft_avg[j] = np.mean(Star_fft[:,j])\n"
   ]
  },
  {
   "cell_type": "code",
   "execution_count": null,
   "metadata": {},
   "outputs": [],
   "source": [
    "print(fmin)\n",
    "f_pos = frec_fft[frec_fft>fmin]\n",
    "n_frecs = len(f_pos)\n",
    "start = int(1024-n_frecs)\n",
    "\n",
    "Star_fpos = np.zeros((N_med,n_frecs), dtype=complex)\n",
    "\n",
    "for j in range(N_med):\n",
    "    Star_fpos[j,:] = Star_fft[j,start:1024]\n",
    "\n",
    "Star_avg_fpos = Star_fft_avg[start:1024]\n",
    "np.save('Star.npy', Star_avg_fpos, allow_pickle=True, fix_imports=True)\n",
    "\n",
    "print(np.shape(Star_avg_fpos))"
   ]
  },
  {
   "cell_type": "markdown",
   "metadata": {},
   "source": [
    "## Comparo Scal vs. Star"
   ]
  },
  {
   "cell_type": "code",
   "execution_count": null,
   "metadata": {},
   "outputs": [],
   "source": [
    "print('Comparo Scal y Star')\n",
    "print()\n",
    "print()\n",
    "plt.figure(figsize=(12,8))\n",
    "plt.plot(f_pos/1e9,np.real(Scal_avg_fpos),'b',label=\"S_cal\")\n",
    "plt.plot(f_pos/1e9,np.real(Star_avg_fpos),'r',label=\"S_tar\")\n",
    "plt.grid('on')\n",
    "plt.legend(loc=\"best\")\n",
    "plt.xlabel('F [GHz]')\n",
    "plt.ylabel('S_cal')\n",
    "plt.show()\n",
    "print()\n",
    "print()\n",
    "\n",
    "plt.figure(figsize=(12,8))\n",
    "plt.plot(f_pos/1e9,np.imag(Scal_avg_fpos),'b',label=\"S_cal\")\n",
    "plt.plot(f_pos/1e9,np.imag(Star_avg_fpos),'r',label=\"S_tar\")\n",
    "plt.grid('on')\n",
    "plt.legend(loc=\"best\")\n",
    "plt.xlabel('F [GHz]')\n",
    "plt.ylabel('S_cal')\n",
    "plt.show()\n",
    "\n",
    "\n",
    "plt.figure(figsize=(12,8))\n",
    "plt.plot(f_pos/1e9,np.abs(Scal_avg_fpos),'b',label=\"S_cal\")\n",
    "plt.plot(f_pos/1e9,np.abs(Star_avg_fpos),'r',label=\"S_tar\")\n",
    "plt.grid('on')\n",
    "plt.legend(loc=\"best\")\n",
    "plt.xlabel('F [GHz]')\n",
    "plt.ylabel('S_cal')\n",
    "plt.show()\n"
   ]
  }
 ],
 "metadata": {
  "colab": {
   "collapsed_sections": [],
   "name": "Copy of dielectrico_y_conductor_Mariano.ipynb",
   "provenance": []
  },
  "kernelspec": {
   "display_name": "Python 3 (ipykernel)",
   "language": "python",
   "name": "python3"
  },
  "language_info": {
   "codemirror_mode": {
    "name": "ipython",
    "version": 3
   },
   "file_extension": ".py",
   "mimetype": "text/x-python",
   "name": "python",
   "nbconvert_exporter": "python",
   "pygments_lexer": "ipython3",
   "version": "3.9.12"
  }
 },
 "nbformat": 4,
 "nbformat_minor": 4
}
