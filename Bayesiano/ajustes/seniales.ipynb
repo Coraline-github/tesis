{
 "cells": [
  {
   "cell_type": "markdown",
   "metadata": {
    "id": "RjRC_bBdDpKD"
   },
   "source": [
    "# Mediciones en el patio del IAFE \n",
    "\n",
    "## Análisis de las mediciones\n",
    "\n",
    "- S1: medición con placa conductora.\n",
    "- S2: medición sobre la tierra del patio-\n",
    "\n",
    "* **S_cal = S1**: señal de calibración.\n",
    "* **S_target = S2**: señal reflejada por el target de interés.\n",
    "\n",
    "> **La señal de calibración** es la que, idealmente, emite la antena. Si uno pudiese modelar de punta a punta la antena y hacer todas las cuentas necesarias, obtendría que la antena emite el pulso $S_{cal}(t)$, o bien su transformada de Fourier $\\hat{S}_{cal}(f)$. Esto lo decimos porque medimos esta señal luego de la reflexión con un target que tiene el coeficiente de reflexión $|R|=1$. Está claro que esto es una hipótesis fuerte, que deberá ser corregida luego. Además, falta contemplar el factor de decaimiento de la señal debido al camino de ida-vuelta entre la antena emisora y la antena receptora. Pero este factor -geométrico- es independiente de las frecuencias del paquete de ondas y del target, así que por ahora podemos ignorarlo.\n",
    "\n",
    "\n",
    "> **La señal del target** es la que debemos analizar para obtener alguna de las propiedades del blanco en estudio. En principio desconocemos la constante dieléctrica $\\epsilon(\\omega)$ que tiene la placa dieléctrica de espesor $D$ puesta sobre el conductor ideal. Y, en principio, la señal reflejada por este target que recibe la antena  es $S_{teo}=R(\\omega)\\,\\times\\,S_{antena}(\\omega)=R(\\omega)\\,\\times\\,S_{cal}(\\omega)$. Entonces, aquí tenemos que comparar $S_{teo}$ vs $S_{target}$ y ver qué tan bien andamos rumbeados. Para ello debríamos saber de antemano la constante dieléctrica del target, que sería el parámetro a obtener! Pero bueno, este es el experimento de calibración del método UWB. Así que en este caso asumimos un valor (o varios) para $\\epsilon(\\omega)$ y completamos el ciclo de análisis de datos.\n",
    "\n",
    "\n",
    "\n",
    "## Skin Depth ($\\delta_D$):\n",
    "\n",
    "\n",
    "Dieléctrico: $\\epsilon = \\epsilon_r -\\imath\\,\\epsilon_i$\n",
    "\n",
    "\n",
    "### - loss-low medium:\n",
    "\n",
    "$\\delta_D = \\frac{\\lambda}{2\\,c}\\sqrt{\\frac{\\epsilon_r}{\\epsilon^2_i}}$\n",
    "\n",
    "\n",
    "\n"
   ]
  },
  {
   "cell_type": "markdown",
   "metadata": {
    "id": "5JkDYY6IMdlh"
   },
   "source": [
    "## Cargamos paquetes y funciones que usaremos después ##"
   ]
  },
  {
   "cell_type": "code",
   "execution_count": null,
   "metadata": {
    "id": "y-M7wbwEDXD3"
   },
   "outputs": [],
   "source": [
    "import numpy as np\n",
    "from scipy import signal\n",
    "from scipy.fftpack import fft, fftfreq, fftshift\n",
    "from scipy import stats\n",
    "\n",
    "from matplotlib import pyplot as plt\n",
    "from mpl_toolkits.mplot3d import Axes3D\n",
    "from matplotlib import cm\n",
    "from matplotlib.ticker import LinearLocator, FormatStrFormatter\n",
    "\n",
    "\n",
    "import os, sys"
   ]
  },
  {
   "cell_type": "code",
   "execution_count": null,
   "metadata": {
    "id": "0OJUAPTXM4sR"
   },
   "outputs": [],
   "source": [
    "%run to_baseband.ipynb\n",
    "%run FFT_ordenada.ipynb\n",
    "%run to_dB.ipynb\n",
    "%run mv_to_ep.ipynb\n",
    "%run R_Fresnel.ipynb\n",
    "%run Pinel.ipynb\n"
   ]
  },
  {
   "cell_type": "code",
   "execution_count": 7,
   "metadata": {},
   "outputs": [
    {
     "name": "stdout",
     "output_type": "stream",
     "text": [
      "/home/gordotony/Documents/GitHub/tesis/\n"
     ]
    }
   ],
   "source": [
    "path_iafe = '/home/gordotony/Documents/GitHub/tesis/Bayesiano/ajustes'\n",
    "PATH = sys.path[0]\n",
    "\n",
    "if PATH == path_iafe:\n",
    "    %run /home/gordotony/Documents/GitHub/tesis/codigos/transformada.ipynb\n",
    "    %run /home/gordotony/Documents/GitHub/tesis/codigos/check_import.ipynb\n",
    "else:\n",
    "    print('path windows')\n",
    "\n",
    "PATH = PATH[:-17]\n",
    "print(PATH)"
   ]
  },
  {
   "cell_type": "code",
   "execution_count": null,
   "metadata": {
    "id": "_5ODHfoK_-ay"
   },
   "outputs": [],
   "source": [
    "## Parámetros globales de la antena\n",
    "\n",
    "Fs = 23.328e9 #Frecuencia de muestreo [Hz] \n",
    "Ts = 1/Fs\n",
    "BW = 1.5e9 \n",
    "\n",
    "corte = 150\n",
    "Nfft= 1024 # nro de frecs -> conviene que sea multiplo de 2 para calcular la FFT de manera eficiente. \n",
    "#Tiene que ser mayor a la longitud de la señal (285 para 2m, 439 para 3m)\n",
    "\n",
    "if portadora== 'Fc7':\n",
    "    fc = 7.290e9\n",
    "    print('fc =',str(fc/1e9) + 'GHz')\n",
    "elif portadora== 'Fc8':\n",
    "    fc = 8.748e9\n",
    "    print('fc =',str(fc/1e9) + 'GHz')\n",
    "else:\n",
    "    print('Error: portadora debe ser Fc7 o Fc8')"
   ]
  },
  {
   "cell_type": "markdown",
   "metadata": {
    "id": "9PTe5CR_OwTm"
   },
   "source": [
    "## Analizo la señal de calibración"
   ]
  },
  {
   "cell_type": "code",
   "execution_count": 1,
   "metadata": {},
   "outputs": [
    {
     "name": "stdout",
     "output_type": "stream",
     "text": [
      "-----\n"
     ]
    },
    {
     "ename": "NameError",
     "evalue": "name 'dia_cal' is not defined",
     "output_type": "error",
     "traceback": [
      "\u001b[0;31m---------------------------------------------------------------------------\u001b[0m",
      "\u001b[0;31mNameError\u001b[0m                                 Traceback (most recent call last)",
      "Cell \u001b[0;32mIn [1], line 2\u001b[0m\n\u001b[1;32m      1\u001b[0m \u001b[39mprint\u001b[39m(\u001b[39m'\u001b[39m\u001b[39m-----\u001b[39m\u001b[39m'\u001b[39m)\n\u001b[0;32m----> 2\u001b[0m \u001b[39mprint\u001b[39m(\u001b[39m'\u001b[39m\u001b[39mS1\u001b[39m\u001b[39m'\u001b[39m,dia_cal)\n\u001b[1;32m      3\u001b[0m \u001b[39mprint\u001b[39m(\u001b[39m'\u001b[39m\u001b[39m-----\u001b[39m\u001b[39m'\u001b[39m)\n\u001b[1;32m      4\u001b[0m h1, S1 \u001b[39m=\u001b[39m check_import(path_Scal, \u001b[39m'\u001b[39m\u001b[39mS1\u001b[39m\u001b[39m'\u001b[39m, portadora)\n",
      "\u001b[0;31mNameError\u001b[0m: name 'dia_cal' is not defined"
     ]
    }
   ],
   "source": [
    "print('-----')\n",
    "print('S1',dia_cal)\n",
    "print('-----')\n",
    "h1, S1 = check_import(path_Scal, 'S1', portadora)\n",
    "\n",
    "S1 = S1[altura,:,:,:]\n",
    "\n",
    "f = transformada(S1,fc,Nfft,Ts)[0] #fnorm=f=f_pos/3e9\n",
    "f_pos=f*3e9\n",
    "\n",
    "Scal = transformada(S1,fc,Nfft,Ts)[1]"
   ]
  },
  {
   "cell_type": "code",
   "execution_count": null,
   "metadata": {},
   "outputs": [],
   "source": [
    "plt.plot(f_pos,np.abs(Scal))"
   ]
  },
  {
   "cell_type": "code",
   "execution_count": null,
   "metadata": {},
   "outputs": [],
   "source": [
    "# fmin = 3e9 #0.25e9 #fc-1.55*BW\n",
    "# print('f_min =',fmin/1e9,'GHz')\n",
    "\n",
    "# f_pos = frec_fft[frec_fft>fmin]\n",
    "# np.save('fpos.npy', f_pos, allow_pickle=True, fix_imports=True)\n",
    "\n",
    "# n_frecs = len(f_pos)\n",
    "# start = int(1024-n_frecs)\n",
    "# f_norm = f_pos/1e9 # frec >0 normalizada en GHz\n",
    "\n",
    "# Scal_fpos = np.zeros((N_med,n_frecs), dtype=complex)\n",
    "\n",
    "# for j in range(N_med):\n",
    "#     Scal_fpos[j,:] = Scal_fft[j,start:1024]\n",
    "    \n",
    "\n",
    "# Scal_avg_fpos = Scal_fft_avg[start:1024]\n",
    "# np.save('Scal.npy', Scal_avg_fpos, allow_pickle=True, fix_imports=True)\n",
    "# print('Scal: ', np.shape(Scal_avg_fpos))\n"
   ]
  },
  {
   "cell_type": "markdown",
   "metadata": {},
   "source": [
    "## Analizo las señales target ##"
   ]
  },
  {
   "cell_type": "code",
   "execution_count": null,
   "metadata": {},
   "outputs": [],
   "source": [
    "# print(fmin)\n",
    "# f_pos = frec_fft[frec_fft>fmin]\n",
    "# n_frecs = len(f_pos)\n",
    "# start = int(1024-n_frecs)\n",
    "\n",
    "# Star_fpos = np.zeros((N_med,n_frecs), dtype=complex)\n",
    "\n",
    "# for j in range(N_med):\n",
    "#     Star_fpos[j,:] = Star_fft[j,start:1024]\n",
    "\n",
    "# Star_avg_fpos = Star_fft_avg[start:1024]\n",
    "# np.save('Star.npy', Star_avg_fpos, allow_pickle=True, fix_imports=True)\n",
    "\n",
    "# print(np.shape(Star_avg_fpos))"
   ]
  },
  {
   "cell_type": "markdown",
   "metadata": {},
   "source": [
    "## Comparo Scal vs. Star"
   ]
  },
  {
   "cell_type": "code",
   "execution_count": null,
   "metadata": {},
   "outputs": [],
   "source": [
    "# print('Comparo Scal y Star')\n",
    "# print()\n",
    "# print()\n",
    "# plt.figure(figsize=(10,6))\n",
    "# plt.plot(f_pos/1e9,np.real(Scal_avg_fpos),label=\"S_cal\")\n",
    "# plt.plot(f_pos/1e9,np.real(Star_avg_fpos),label=\"S_tar\")\n",
    "# plt.grid('on')\n",
    "# plt.legend(loc=\"best\")\n",
    "# plt.xlabel('F [GHz]')\n",
    "# plt.ylabel('Amplitud')\n",
    "# plt.title('Parte real')\n",
    "# plt.show()\n",
    "# print()\n",
    "# print()\n",
    "\n",
    "# plt.figure(figsize=(10,6))\n",
    "# plt.plot(f_pos/1e9,np.imag(Scal_avg_fpos),label=\"S_cal\")\n",
    "# plt.plot(f_pos/1e9,np.imag(Star_avg_fpos),label=\"S_tar\")\n",
    "# plt.grid('on')\n",
    "# plt.legend(loc=\"best\")\n",
    "# plt.xlabel('F [GHz]')\n",
    "# plt.ylabel('Amplitud')\n",
    "# plt.title('Parte imaginaria')\n",
    "# plt.show()\n",
    "\n",
    "\n",
    "# plt.figure(figsize=(10,6))\n",
    "# plt.plot(f_pos/1e9,np.abs(Scal_avg_fpos),label=\"S_cal\")\n",
    "# plt.plot(f_pos/1e9,np.abs(Star_avg_fpos),label=\"S_tar\")\n",
    "# plt.grid('on')\n",
    "# plt.legend(loc=\"best\")\n",
    "# plt.xlabel('F [GHz]')\n",
    "# plt.ylabel('Amplitud')\n",
    "# plt.title('Valor absoluto')\n",
    "# plt.show()\n"
   ]
  }
 ],
 "metadata": {
  "colab": {
   "collapsed_sections": [],
   "name": "Copy of dielectrico_y_conductor_Mariano.ipynb",
   "provenance": []
  },
  "kernelspec": {
   "display_name": "Python 3.9.13 ('UWB')",
   "language": "python",
   "name": "python3"
  },
  "language_info": {
   "codemirror_mode": {
    "name": "ipython",
    "version": 3
   },
   "file_extension": ".py",
   "mimetype": "text/x-python",
   "name": "python",
   "nbconvert_exporter": "python",
   "pygments_lexer": "ipython3",
   "version": "3.9.13"
  },
  "vscode": {
   "interpreter": {
    "hash": "4191246cbe85ae18ff7a3408fe0177eabd21a61b986eaa117705ef9c136f30db"
   }
  }
 },
 "nbformat": 4,
 "nbformat_minor": 4
}
