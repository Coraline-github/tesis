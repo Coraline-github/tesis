{
 "cells": [
  {
   "cell_type": "markdown",
   "id": "785a300d-1dc0-4c3a-8c8c-ff1edf65b0e4",
   "metadata": {},
   "source": [
    "# Comparacion de mediciones\n",
    "Vamos a graficar las medicioes de mayo y junio para ver que paso co la amplitud. El tema aca tienen que ser las mediciones S1 de calibracion porque las S2 en principio parecerian dar bien"
   ]
  },
  {
   "cell_type": "code",
   "execution_count": null,
   "id": "1b3b2f7f-f7bc-4849-ae12-f8d5a8e1f961",
   "metadata": {},
   "outputs": [],
   "source": [
    "import numpy as np\n",
    "from scipy import signal\n",
    "from scipy.fftpack import fft, fftfreq, fftshift\n",
    "from scipy import stats\n",
    "\n",
    "from matplotlib import pyplot as plt\n",
    "from mpl_toolkits.mplot3d import Axes3D\n",
    "from matplotlib import cm\n",
    "from matplotlib.ticker import LinearLocator, FormatStrFormatter\n",
    "\n",
    "\n",
    "import os"
   ]
  },
  {
   "cell_type": "code",
   "execution_count": null,
   "id": "f972ca20-1699-42d0-9108-b0800ad1e95f",
   "metadata": {},
   "outputs": [],
   "source": [
    "## Parámetros globales de la antena\n",
    "\n",
    "Fs = 23.328e9 #Frecuencia de muestreo [Hz] \n",
    "Ts = 1/Fs\n",
    "BW = 1.5e9 \n",
    "\n",
    "portadora = 'Fc8/'"
   ]
  }
 ],
 "metadata": {
  "kernelspec": {
   "display_name": "Python 3",
   "language": "python",
   "name": "python3"
  },
  "language_info": {
   "codemirror_mode": {
    "name": "ipython",
    "version": 3
   },
   "file_extension": ".py",
   "mimetype": "text/x-python",
   "name": "python",
   "nbconvert_exporter": "python",
   "pygments_lexer": "ipython3",
   "version": "3.8.8"
  }
 },
 "nbformat": 4,
 "nbformat_minor": 5
}
