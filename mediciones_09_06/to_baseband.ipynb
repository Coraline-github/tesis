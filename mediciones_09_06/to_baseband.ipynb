{
 "cells": [
  {
   "cell_type": "markdown",
   "metadata": {},
   "source": [
    "### Función para pasar la señal medida de banda pasante a banda base ###"
   ]
  },
  {
   "cell_type": "code",
   "execution_count": null,
   "metadata": {
    "collapsed": true,
    "jupyter": {
     "outputs_hidden": true
    }
   },
   "outputs": [],
   "source": [
    "import numpy as np\n",
    "from scipy import signal\n",
    "# from scipy.fftpack import fft, fftfreq, fftshift\n"
   ]
  },
  {
   "cell_type": "code",
   "execution_count": 1,
   "metadata": {
    "collapsed": true,
    "jupyter": {
     "outputs_hidden": true
    }
   },
   "outputs": [],
   "source": [
    "def to_baseband(x,Ts,BW,fc):\n",
    "        \n",
    "    '''\n",
    "      Señal de banda pasante a banda base:\n",
    "  \n",
    "      Entradas:\n",
    "      - x: señal de banda pasante---> primero hacer promedio de las 10 mediciones del GUI;\n",
    "      - Ts: periodo de muestreo de señal;\n",
    "      - BW: ancho de banda filtro;\n",
    "      - fc: frec portadora.\n",
    "      \n",
    "      Salida:\n",
    "      - señal en banda base.\n",
    "    '''\n",
    "  \n",
    "    filtorder = 80\n",
    "    cutoff = BW/2\n",
    "    Fs = 1/Ts\n",
    "    h = signal.firwin(filtorder, cutoff, width=None, window='hamming', pass_zero='lowpass', scale=True, \n",
    "                      nyq=None, fs=Fs)\n",
    "    time = np.arange(x.size)*Ts\n",
    "    y = signal.lfilter(b=h,a=1,x = 2*x*np.exp(-1j*2*np.pi*fc*time))\n",
    "  \n",
    "    return y"
   ]
  }
 ],
 "metadata": {
  "kernelspec": {
   "display_name": "Python 3",
   "language": "python",
   "name": "python3"
  },
  "language_info": {
   "codemirror_mode": {
    "name": "ipython",
    "version": 3
   },
   "file_extension": ".py",
   "mimetype": "text/x-python",
   "name": "python",
   "nbconvert_exporter": "python",
   "pygments_lexer": "ipython3",
   "version": "3.8.8"
  }
 },
 "nbformat": 4,
 "nbformat_minor": 4
}
