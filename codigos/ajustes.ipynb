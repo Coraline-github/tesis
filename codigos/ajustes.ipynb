{
 "cells": [
  {
   "cell_type": "markdown",
   "metadata": {},
   "source": [
    "# MEDICIONES SOBRE TIERRA"
   ]
  },
  {
   "cell_type": "code",
   "execution_count": 1,
   "metadata": {},
   "outputs": [],
   "source": [
    "import numpy as np\n",
    "from scipy import signal\n",
    "from scipy.fftpack import fft, fftfreq, fftshift\n",
    "from scipy import stats\n",
    "\n",
    "from matplotlib import pyplot as plt\n",
    "from mpl_toolkits.mplot3d import Axes3D\n",
    "from matplotlib import cm\n",
    "from matplotlib.ticker import LinearLocator, FormatStrFormatter\n",
    "\n",
    "\n",
    "import os"
   ]
  },
  {
   "cell_type": "code",
   "execution_count": 5,
   "metadata": {},
   "outputs": [],
   "source": [
    "%run check_import.ipynb\n",
    "%run to_baseband.ipynb\n",
    "%run FFT_ordenada.ipynb\n",
    "%run to_dB.ipynb\n",
    "%run mv_to_ep.ipynb\n",
    "%run R_Fresnel.ipynb"
   ]
  },
  {
   "cell_type": "code",
   "execution_count": 6,
   "metadata": {},
   "outputs": [],
   "source": [
    "#-----------------------------------\n",
    "## Parámetros globales de la antena\n",
    "#-----------------------------------\n",
    "\n",
    "Fs = 23.328e9 #Frecuencia de muestreo [Hz] \n",
    "Ts = 1/Fs\n",
    "BW = 1.5e9 \n",
    "corte = 150\n",
    "Nfft= 1024 # nro de frecs -> conviene que sea multiplo de 2 para calcular la FFT de manera eficiente. \n",
    "#Tiene que ser mayor a la longitud de la señal (285 para 2m, 439 para 3m)"
   ]
  },
  {
   "cell_type": "code",
   "execution_count": 7,
   "metadata": {},
   "outputs": [],
   "source": [
    "#------------------------------\n",
    "#Elegir frecuencia portadora\n",
    "#------------------------------\n",
    "\n",
    "#portadora = 'Fc7'\n",
    "portadora = 'Fc8'\n",
    "\n",
    "if portadora == 'Fc7':\n",
    "    fc = 7.290e9 \n",
    "    Fc = '7.29GHz'\n",
    "elif portadora == 'Fc8':\n",
    "    fc = 8.748e9\n",
    "    Fc = '8.74GHz'\n",
    "else:\n",
    "    print('Error: portadora debe ser Fc7 o Fc8')"
   ]
  },
  {
   "cell_type": "markdown",
   "metadata": {},
   "source": [
    "## Mediciones"
   ]
  },
  {
   "cell_type": "code",
   "execution_count": 14,
   "metadata": {},
   "outputs": [
    {
     "name": "stdout",
     "output_type": "stream",
     "text": [
      "h = [0.37  0.465 0.66  0.865] dim. S1 = (4, 10, 284, 11)\n",
      "dim. S1_avg = (4, 284)\n",
      "h = [0.365 0.47  0.665 0.865] dim. S2 = (4, 10, 284, 11)\n",
      "dim. S2_avg = (4, 284)\n"
     ]
    }
   ],
   "source": [
    "path_may = r'C:\\Users\\Coraline\\Documents\\UWB\\tesis\\mediciones_05_27'\n",
    "\n",
    "h1_may, S1_may = check_import_win(path_may, 'S1', portadora)\n",
    "#print('h =',h1_may, 'dim. S1 =',np.shape(S1_may))\n",
    "S1_may_avg = np.mean(S1_may[:, 0:, :, 1:],axis=(1,3))\n",
    "#print('dim. S1_avg =', np.shape(S1_may_avg))\n",
    "\n",
    "h2_may, S2_may = check_import_win(path_may, 'S2', portadora)\n",
    "#print('h =',h2_may,'dim. S2 =', np.shape(S2_may))\n",
    "S2_may_avg = np.mean(S2_may[:, 0:, :, 1:],axis=(1,3))\n",
    "#print('dim. S2_avg =', np.shape(S2_may_avg))\n",
    "\n",
    "#---------------------------------------------------------------------------\n",
    "path_june = r'C:\\Users\\Coraline\\Documents\\UWB\\tesis\\mediciones_06_09'\n",
    "\n",
    "h1_june, S1_june = check_import_win(path_june, 'S1', portadora)\n",
    "#print('h =',h1_june, 'dim. S1 =',np.shape(S1_june))\n",
    "S1_june_avg = np.mean(S1_june[:, 0:, :, 1:],axis=(1,3))\n",
    "#print('dim. S1_avg =', np.shape(S1_june_avg))\n",
    "\n",
    "h2_june, S2_june = check_import_win(path_june, 'S2', portadora)\n",
    "#print('h =',h2_june,'dim. S2 =', np.shape(S2_june))\n",
    "S2_june_avg = np.mean(S2_june[:, 0:, :, 1:],axis=(1,3))\n",
    "#print('dim. S2_avg =', np.shape(S2_june_avg))\n",
    "\n",
    "\n"
   ]
  },
  {
   "cell_type": "code",
   "execution_count": 13,
   "metadata": {},
   "outputs": [
    {
     "name": "stdout",
     "output_type": "stream",
     "text": [
      "dim. S1_avg = (4, 284)\n"
     ]
    }
   ],
   "source": [
    "\n",
    "\n"
   ]
  }
 ],
 "metadata": {
  "kernelspec": {
   "display_name": "Python 3.8.8 ('base')",
   "language": "python",
   "name": "python3"
  },
  "language_info": {
   "codemirror_mode": {
    "name": "ipython",
    "version": 3
   },
   "file_extension": ".py",
   "mimetype": "text/x-python",
   "name": "python",
   "nbconvert_exporter": "python",
   "pygments_lexer": "ipython3",
   "version": "3.8.8"
  },
  "orig_nbformat": 4,
  "vscode": {
   "interpreter": {
    "hash": "f6180580deba733ae6b67ff07d0619bc0e45d8154c010e604be71bef248e603e"
   }
  }
 },
 "nbformat": 4,
 "nbformat_minor": 2
}
