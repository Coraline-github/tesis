{
 "cells": [
  {
   "cell_type": "markdown",
   "id": "b4b33157-87e8-40fe-a000-03a55a21ead9",
   "metadata": {},
   "source": [
    "## Coeficiente de reflexion para medios rugosos"
   ]
  },
  {
   "cell_type": "code",
   "execution_count": 7,
   "id": "ff186dce-f152-4598-a0b3-ab2923d7693e",
   "metadata": {},
   "outputs": [],
   "source": [
    "import numpy as np\n",
    "from IPython.display import Image"
   ]
  },
  {
   "cell_type": "code",
   "execution_count": 9,
   "id": "cb100f69",
   "metadata": {},
   "outputs": [],
   "source": [
    "%run R_Fresnel.ipynb"
   ]
  },
  {
   "cell_type": "markdown",
   "id": "f5fdfa1a",
   "metadata": {},
   "source": [
    "Image(C:\\Users\\Coraline\\Documents\\UWB\\tesis\\graficos\\1capaA.png)"
   ]
  },
  {
   "cell_type": "markdown",
   "id": "c45eef02-60ea-4167-9b29-3d0693a59977",
   "metadata": {},
   "source": [
    "### Una capa\n",
    "<!-- \\epsilon_0\n",
    "~~~~~~~~~~~~~\n",
    "\\epsilon_1\n",
    "~~~~~~~~~~~~~\n",
    "\\epsilon_2 -->\n",
    "\n",
    "\n",
    "\n",
    "Seguimos el modelo del paper \"Degree of roughness of rough layers\" - pinel (2010)\n",
    "\n",
    "\\begin{equation}\n",
    "<E_t>=<E_{r1}>+<E_{r2}>\n",
    "\\end{equation}\n",
    "\n",
    "\\begin{cases}\n",
    "<E_{r1}>=R_{01}E_ie^{-2k_{0z}^2\\sigma_a^2}\\\\\n",
    "<E_{r2}>=T_{01}R_{12}T_{10}E_ie^{i2k_{1z}d}e^{-(k_{0z}-k_{1z})^2\\sigma_a^2}e^{-k_{1z}^2\\sigma_b^2}\n",
    "\\end{cases}\n",
    "\n",
    "donde\n",
    "\n",
    "$d$ es el ancho de la capa\n",
    "\n",
    "$R_{ij}$ y $T_{ij}$ son los coeficienes de reflexion de fresnel\n",
    "\n",
    "$k_{0z}=\\frac{2\\pi f}{c}\\sqrt{\\epsilon_0}cos(\\theta_0)$ (obs: aire $\\epsilon_0=1$)\n",
    "\n",
    "$k_{1z}=\\frac{2\\pi f}{c}\\sqrt{\\epsilon_1}cos(\\theta_1)$ con $cos(\\theta_1)=\\sqrt{1-\\frac{\\epsilon_0}{\\epsilon_1}sen^2(\\theta_0)}$\n",
    "\n",
    "$\\sigma_a$ y $\\sigma_b$ son la altura RMS (root mean square) de las capas"
   ]
  },
  {
   "cell_type": "code",
   "execution_count": 10,
   "id": "e025b199-e4ec-4fef-a808-a9a43f8d3dd3",
   "metadata": {},
   "outputs": [],
   "source": [
    "def Rf_2(ep1,ep2,d,tita,f,rms1,rms2):\n",
    "    #---------coef fresnel-----------\n",
    "    #por snell\n",
    "    tita_1 = np.arcsin(np.sin(tita)/np.sqrt(ep1))\n",
    "\n",
    "    R01 = R_ij(1,ep1,tita, tita_1)\n",
    "    T01 = T_ij(1,ep1,tita,tita_1)\n",
    "    T10 = T_ij(ep1,1,tita_1,tita)\n",
    "\n",
    "    #por snell\n",
    "    tita_2 = np.arcsin(np.sqrt(ep1/ep2)*np.sin(tita_1))\n",
    "    R12 = R_ij(ep1,ep2,tita_1,tita_2)\n",
    "    #--------------------------------\n",
    "\n",
    "    #--------kiz---------------------\n",
    "    k0z = (2*np.pi*f*np.cos(tita))/3e8\n",
    "    k1z = (2*np.pi*f+np.sqrt(np.real(ep1))*np.cos(tita_1))/3e8\n",
    "    #--------------------------------\n",
    "\n",
    "    Rf1 = R01*np.exp(-2*k0z**2*rms1**2)\n",
    "    Rf2 = T01*R12*T10*np.exp(2*1j*k1z*d)*np.exp(-(k0z-k1z)**2*rms1**2)*np.exp(-2*k1z**2*rms2**2)\n",
    "    Rft = Rf1+Rf2\n",
    "    return Rft\n"
   ]
  },
  {
   "cell_type": "markdown",
   "id": "049acaea",
   "metadata": {},
   "source": [
    "### Una capa con 3 rebotes\n",
    "<!-- \\epsilon_0\n",
    "~~~~~~~~~~~~~\n",
    "\\epsilon_1\n",
    "~~~~~~~~~~~~~\n",
    "\\epsilon_2 -->\n",
    "\n",
    "\\begin{equation}\n",
    "<E_t>=<E_{r1}>+<E_{r2}>+<E_{r3}>\n",
    "\\end{equation}\n",
    "\n",
    "\\begin{cases}\n",
    "<E_{r1}>=R_{01}E_ie^{-2k_{0z}^2\\sigma_a^2}\\\\\n",
    "<E_{r2}>=T_{01}R_{12}T_{10}E_ie^{i2k_{1z}d}e^{-(k_{0z}-k_{1z})^2\\sigma_a^2}e^{-k_{1z}^2\\sigma_b^2}\\\\\n",
    "<E_{r3}>=T_{01}R_{12}R_{10}R_{12}T_{10}E_ie^{i4k_{1z}d}e^{-(k_{0z}-k_{1z})^2\\sigma_a^2}e^{-2k_{1z}^2(2\\sigma_b^2+\\sigma_a^2)}\n",
    "\\end{cases}\n",
    "\n",
    "donde\n",
    "\n",
    "$d$ es el ancho de la capa\n",
    "\n",
    "$R_{ij}$ y $T_{ij}$ son los coeficienes de reflexion de fresnel\n",
    "\n",
    "$k_{0z}=\\frac{2\\pi f}{c}\\sqrt{\\epsilon_0}cos(\\theta_0)$ (obs: aire $\\epsilon_0=1$)\n",
    "\n",
    "$k_{1z}=\\frac{2\\pi f}{c}\\sqrt{\\epsilon_1}cos(\\theta_1)$ con $cos(\\theta_1)=\\sqrt{1-\\frac{\\epsilon_0}{\\epsilon_1}sen^2(\\theta_0)}$\n",
    "\n",
    "$\\sigma_a$ y $\\sigma_b$ son la altura RMS (root mean square) de las capas"
   ]
  },
  {
   "cell_type": "code",
   "execution_count": 12,
   "id": "0bcd6ac7",
   "metadata": {},
   "outputs": [],
   "source": [
    "def Rf_2b(ep1,ep2,d,tita,f,rms1,rms2):\n",
    "    #---------coef fresnel-----------\n",
    "    #por snell\n",
    "    tita_1 = np.arcsin(np.sin(tita)/np.sqrt(ep1))\n",
    "\n",
    "    R01 = R_ij(1,ep1,tita, tita_1)\n",
    "    R10 = R_ij(ep1,1,tita_1,tita)\n",
    "    T01 = T_ij(1,ep1,tita,tita_1)\n",
    "    T10 = T_ij(ep1,1,tita_1,tita)\n",
    "\n",
    "    #por snell\n",
    "    tita_2 = np.arcsin(np.sqrt(ep1/ep2)*np.sin(tita_1))\n",
    "    R12 = R_ij(ep1,ep2,tita_1,tita_2)\n",
    "    #--------------------------------\n",
    "\n",
    "    #--------kiz---------------------\n",
    "    k0z = (2*np.pi*f*np.cos(tita))/3e8\n",
    "    k1z = (2*np.pi*f+np.sqrt(np.real(ep1))*np.cos(tita_1))/3e8\n",
    "    #--------------------------------\n",
    "\n",
    "    Rf1 = R01*np.exp(-2*k0z**2*rms1**2)\n",
    "    Rf2 = T01*R12*T10*np.exp(2*1j*k1z*d)*np.exp(-(k0z-k1z)**2*rms1**2)*np.exp(-2*k1z**2*rms2**2)\n",
    "    Rf3 = T01*R12**2*R10*T10*np.exp(4*1j*k1z*d)*np.exp(-(k0z-k1z)**2*rms1**2)*np.exp(-2*k1z**2*(2*rms2**2+rms1**2))\n",
    "    Rft = Rf1+Rf2+Rf3\n",
    "    return Rft"
   ]
  },
  {
   "cell_type": "markdown",
   "id": "e4c7f2ab",
   "metadata": {},
   "source": [
    "### Dos capas\n",
    "<!-- \\epsilon_0\n",
    "~~~~~~~~~~~~~    0\n",
    "\\epsilon_1\n",
    "~~~~~~~~~~~~~   d1\n",
    "\\epsilon_2 \n",
    "~~~~~~~~~~~~~   d2\n",
    "\\epsilon_3\n",
    "-->\n",
    "\n",
    "\n",
    "\n",
    "Seguimos el modelo del paper \"Degree of roughness of rough layers\" - pinel (2010)\n",
    "\n",
    "\\begin{equation}\n",
    "<E_t>=<E_{r1}>+<E_{r2}>+<E_{r3}>\n",
    "\\end{equation}\n",
    "\n",
    "\\begin{cases}\n",
    "<E_{r1}>=R_{01} E_i e^{-2k_{0z}^2\\sigma_a^2}\\\\\n",
    "<E_{r2}>=T_{01}R_{12}T_{10} E_i e^{i2k_{1z}d_1} e^{-(k_{0z}-k_{1z})^2\\sigma_a^2} e^{-k_{1z}^2\\sigma_b^2}\\\\\n",
    "<E_{r3}>=T_{01}T_{12}R_{23}T_{21}T_{10} E_i e^{i2[(k_{1z}-k_{2z})d_1+k_{2z}d_2]} e^{-(k_{0z}-k_{1z})^2\\sigma_a^2} e^{-(k_{1z}-k_{2z})^2\\sigma_b^2}e^{-k_{2z}^2\\sigma_c^2}\n",
    "\\end{cases}\n",
    "\n",
    "donde\n",
    "\n",
    "$d1$, $d2$ son los anchos de las capas\n",
    "\n",
    "$R_{ij}$ y $T_{ij}$ son los coeficienes de reflexion de fresnel\n",
    "\n",
    "$k_{0z}=\\frac{2\\pi f}{c}\\sqrt{\\epsilon_0}cos(\\theta_0)$ (obs: aire $\\epsilon_0=1$)\n",
    "\n",
    "$k_{1z}=\\frac{2\\pi f}{c}\\sqrt{\\epsilon_1}cos(\\theta_1)$ con $cos(\\theta_1)=\\sqrt{1-\\frac{\\epsilon_0}{\\epsilon_1}sen^2(\\theta_0)}$\n",
    "\n",
    "$k_{2z}=\\frac{2\\pi f}{c}\\sqrt{\\epsilon_2}cos(\\theta_2)$ con $cos(\\theta_2)=\\sqrt{1-\\frac{\\epsilon_1}{\\epsilon_2}sen^2(\\theta_1)}$\n",
    "\n",
    "$\\sigma_a$, $\\sigma_b$ y $\\sigma_c$ son la altura RMS (root mean square) de las capas"
   ]
  },
  {
   "cell_type": "code",
   "execution_count": 13,
   "id": "d1b9642f",
   "metadata": {},
   "outputs": [],
   "source": [
    "def Rf_3(ep1,ep2,ep3,d1,d2,tita_0,f,rms1,rms2,rms3):\n",
    "    #---------coef fresnel-----------\n",
    "    #por snell\n",
    "    tita_1 = np.arcsin(np.sin(tita_0)/np.sqrt(ep1))\n",
    "\n",
    "    R01 = R_ij(1,ep1,tita_0, tita_1)\n",
    "    T01 = T_ij(1,ep1,tita_0,tita_1)\n",
    "    T10 = T_ij(ep1,1,tita_1,tita_0)\n",
    "\n",
    "    #por snell\n",
    "    tita_2 = np.arcsin(np.sqrt(ep1/ep2)*np.sin(tita_1))\n",
    "    R12 = R_ij(ep1,ep2,tita_1,tita_2)\n",
    "    T12 = R_ij(ep1,ep2,tita_1,tita_2)\n",
    "    T21 = R_ij(ep1,ep2,tita_1,tita_2)\n",
    "\n",
    "    #por snell\n",
    "    tita_3 = np.arcsin(np.sqrt(ep2/ep3)*np.sin(tita_2))\n",
    "    R23 = R_ij(ep2,ep3,tita_2,tita_3)\n",
    "    #--------------------------------\n",
    "\n",
    "    #--------kiz---------------------\n",
    "    k0z = (2*np.pi*f*np.cos(tita_0))/3e8\n",
    "    k1z = (2*np.pi*f+np.sqrt(np.real(ep1))*np.cos(tita_1))/3e8\n",
    "    k2z = (2*np.pi*f+np.sqrt(np.real(ep2))*np.cos(tita_2))/3e8\n",
    "    #--------------------------------\n",
    "\n",
    "    Rf1 = R01*np.exp(-2*k0z**2*rms1**2)\n",
    "    Rf2 = T01*R12*T10*np.exp(2*1j*k1z*d1)*np.exp(-(k0z-k1z)**2*rms1**2)*np.exp(-2*k1z**2*rms2**2)\n",
    "    \n",
    "    phi = -[(k0z-k1z)*rms1]**2-[(k1z-k2z)*rms2]**2-2*[k2z*rms3]**2\n",
    "    Rf3 = T01*T12*R23*T21*T10*np.exp(2*1j*[(k1z-k2z)*d1+k2z*d2])*np.exp(phi)\n",
    "    \n",
    "    Rft = Rf1+Rf2+Rf3\n",
    "    return Rft"
   ]
  }
 ],
 "metadata": {
  "kernelspec": {
<<<<<<< Updated upstream
   "display_name": "Python 3.8.10 64-bit",
=======
   "display_name": "Python 3.8.8 ('base')",
>>>>>>> Stashed changes
   "language": "python",
   "name": "python3"
  },
  "language_info": {
   "codemirror_mode": {
    "name": "ipython",
    "version": 3
   },
   "file_extension": ".py",
   "mimetype": "text/x-python",
   "name": "python",
   "nbconvert_exporter": "python",
   "pygments_lexer": "ipython3",
<<<<<<< Updated upstream
   "version": "3.8.10"
  },
  "vscode": {
   "interpreter": {
    "hash": "916dbcbb3f70747c44a77c7bcd40155683ae19c65e1c03b4aa3499c5328201f1"
=======
   "version": "3.8.8"
  },
  "vscode": {
   "interpreter": {
    "hash": "f6180580deba733ae6b67ff07d0619bc0e45d8154c010e604be71bef248e603e"
>>>>>>> Stashed changes
   }
  }
 },
 "nbformat": 4,
 "nbformat_minor": 5
}
