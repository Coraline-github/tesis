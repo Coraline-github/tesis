{
 "cells": [
  {
   "cell_type": "markdown",
   "metadata": {},
   "source": [
    "# transformada de fourier de la señal"
   ]
  },
  {
   "cell_type": "code",
   "execution_count": 1,
   "metadata": {},
   "outputs": [],
   "source": [
    "import numpy as np\n",
    "from matplotlib import pyplot as plt\n",
    "from varname import nameof"
   ]
  },
  {
   "cell_type": "code",
   "execution_count": 2,
   "metadata": {},
   "outputs": [],
   "source": [
    "# def transformada(señal,fc,Nfft,Ts):\n",
    "#     avg  = np.mean(señal[:,:,:,1:],axis=3)\n",
    "\n",
    "#     indices = np.shape(avg)\n",
    "#     N_h = indices[0]\n",
    "#     N_med = indices[1]\n",
    "#     Scal_fft = np.zeros((N_h,N_med,Nfft),dtype=complex)\n",
    "\n",
    "#     ## Transformo Fourier\n",
    "#     #~~~~~~~~~~~~~~~~~~~~~~~~~~~~~~~~~~~~~~~~~~~~~~~~~~~~~\n",
    "#     Deltaf = 1.75e9\n",
    "#     f_min = fc-Deltaf\n",
    "#     f_max = fc+Deltaf\n",
    "\n",
    "#     for i in range(N_h):\n",
    "\n",
    "#         ## Transformo Fourier S_cal y grafico\n",
    "#         for j in range(N_med):\n",
    "#             Scal_fft[i,j,:] = FFT_ordenada(avg[i,j,:],Nfft,Ts)[1]\n",
    "#         frec_fft = FFT_ordenada(avg[i,0,:],Nfft,Ts)[0]\n",
    "\n",
    "#         #promedio las 10 mediciones Scal\n",
    "#         Scal_fft_avg = np.zeros((N_h,Nfft), dtype=complex)\n",
    "#         Scal_fft_avg = np.mean(Scal_fft[i,0:,:], axis=1)\n",
    "\n",
    "#         #me quedo con las frecuencias positivas\n",
    "#         f_pos = frec_fft[(frec_fft>f_min) & (frec_fft<f_max)]\n",
    "#         n_frecs = len(f_pos)\n",
    "#         start = int(np.min(np.where(frec_fft>f_min)))\n",
    "#         end = int(np.max(np.where(frec_fft<f_max))+1)\n",
    "#         f_norm = f_pos/1e9 # frec >0 normalizada en GHz\n",
    "\n",
    "#         Scal_fpos = Scal_fft_avg[i,start:end]\n",
    "\n",
    "#         ## Grafico\n",
    "#         fig , ax = plt.subplots(nrows=1, ncols=2, figsize=(16,12))\n",
    "\n",
    "#         ax[0,0].plot(f_norm,np.real(Scal_fpos[i,:]))\n",
    "#         ax[0,0].grid('on')\n",
    "#         ax[0,0].set_xlabel('F [GHz]')\n",
    "#         ax[0,0].set_ylabel(str(nameof(señal)))   \n",
    "#         ax[0,0].set_title('Parte Real')\n",
    "\n",
    "#         ax[0,1].plot(f_norm,np.imag(Scal_fpos[i,:]))\n",
    "#         ax[0,1].grid('on')\n",
    "#         ax[0,1].set_xlabel('F [GHz]')\n",
    "#         ax[0,1].set_ylabel(str(nameof(señal)))\n",
    "#         ax[0,1].set_title('Parte Imag')\n",
    "\n",
    "#     return f_norm, Scal_fpos"
   ]
  },
  {
   "cell_type": "code",
   "execution_count": 4,
   "metadata": {},
   "outputs": [],
   "source": [
    "def transformada(señal,fc,Nfft,Ts):\n",
    "    avg  = np.mean(señal[0:,:,1:],axis=(0,2))\n",
    "    Scal_fft = np.zeros(Nfft,dtype=complex)\n",
    "\n",
    "    ## Transformo Fourier\n",
    "    #~~~~~~~~~~~~~~~~~~~~~~~~~~~~~~~~~~~~~~~~~~~~~~~~~~~~~\n",
    "    Deltaf = 1.75e9\n",
    "    f_min = fc-Deltaf\n",
    "    f_max = fc+Deltaf\n",
    "\n",
    "    ## Transformo Fourier S_cal\n",
    "    frec_fft = FFT_ordenada(avg,Nfft,Ts)[0]\n",
    "\n",
    "    #me quedo con las frecuencias positivas\n",
    "    f_pos = frec_fft[(frec_fft>f_min) & (frec_fft<f_max)]\n",
    "    n_frecs = len(f_pos)\n",
    "    start = int(np.min(np.where(frec_fft>f_min)))\n",
    "    end = int(np.max(np.where(frec_fft<f_max))+1)\n",
    "    f_norm = f_pos/1e9 # frec >0 normalizada en GHz\n",
    "\n",
    "    Scal_fft = FFT_ordenada(avg,Nfft,Ts)[1]\n",
    "    Scal_fpos = Scal_fft[start:end]\n",
    "\n",
    "    return f_norm, Scal_fpos"
   ]
  },
  {
   "cell_type": "code",
   "execution_count": null,
   "metadata": {},
   "outputs": [],
   "source": []
  }
 ],
 "metadata": {
  "kernelspec": {
   "display_name": "Python 3.8.8 ('base')",
   "language": "python",
   "name": "python3"
  },
  "language_info": {
   "codemirror_mode": {
    "name": "ipython",
    "version": 3
   },
   "file_extension": ".py",
   "mimetype": "text/x-python",
   "name": "python",
   "nbconvert_exporter": "python",
   "pygments_lexer": "ipython3",
   "version": "3.8.8"
  },
  "orig_nbformat": 4,
  "vscode": {
   "interpreter": {
    "hash": "f6180580deba733ae6b67ff07d0619bc0e45d8154c010e604be71bef248e603e"
   }
  }
 },
 "nbformat": 4,
 "nbformat_minor": 2
}
