{
 "cells": [
  {
   "cell_type": "markdown",
   "metadata": {},
   "source": [
    "# transformada de fourier de la señal"
   ]
  },
  {
   "cell_type": "code",
   "execution_count": 4,
   "metadata": {},
   "outputs": [],
   "source": [
    "def transformada(señal,fc,Nfft,Ts):\n",
    "    avg  = np.mean(señal[0:,:,1:],axis=(0,2))\n",
    "    Scal_fft = np.zeros(Nfft,dtype=complex)\n",
    "\n",
    "    ## Transformo Fourier\n",
    "    #~~~~~~~~~~~~~~~~~~~~~~~~~~~~~~~~~~~~~~~~~~~~~~~~~~~~~\n",
    "    Deltaf = 1.75e9\n",
    "    f_min = fc-Deltaf\n",
    "    f_max = fc+Deltaf\n",
    "\n",
    "    ## Transformo Fourier S_cal\n",
    "    frec_fft = FFT_ordenada(avg,Nfft,Ts)[0]\n",
    "\n",
    "    #me quedo con las frecuencias positivas\n",
    "    f_pos = frec_fft[(frec_fft>f_min) & (frec_fft<f_max)]\n",
    "    n_frecs = len(f_pos)\n",
    "    start = int(np.min(np.where(frec_fft>f_min)))\n",
    "    end = int(np.max(np.where(frec_fft<f_max))+1)\n",
    "    f_norm = f_pos/1e9 # frec >0 normalizada en GHz\n",
    "\n",
    "    Scal_fft = FFT_ordenada(avg,Nfft,Ts)[1]\n",
    "    Scal_fpos = Scal_fft[start:end]\n",
    "\n",
    "    return f_norm, Scal_fpos"
   ]
  }
 ],
 "metadata": {
  "kernelspec": {
   "display_name": "base",
   "language": "python",
   "name": "python3"
  },
  "language_info": {
   "codemirror_mode": {
    "name": "ipython",
    "version": 3
   },
   "file_extension": ".py",
   "mimetype": "text/x-python",
   "name": "python",
   "nbconvert_exporter": "python",
   "pygments_lexer": "ipython3",
   "version": "3.8.8 (default, Apr 13 2021, 15:08:03) [MSC v.1916 64 bit (AMD64)]"
  },
  "orig_nbformat": 4,
  "vscode": {
   "interpreter": {
    "hash": "f6180580deba733ae6b67ff07d0619bc0e45d8154c010e604be71bef248e603e"
   }
  }
 },
 "nbformat": 4,
 "nbformat_minor": 2
}
