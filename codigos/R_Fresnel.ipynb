{
 "cells": [
  {
   "cell_type": "markdown",
   "metadata": {},
   "source": [
    "# Coeficientes de reflexión a incidencia normal para distintos 'targets'"
   ]
  },
  {
   "cell_type": "markdown",
   "metadata": {},
   "source": [
    "## Coeficientes de reflexion y transmision de fresnell (genericos)"
   ]
  },
  {
   "cell_type": "code",
   "execution_count": 12,
   "metadata": {},
   "outputs": [],
   "source": [
    "def R_ij(ep_i,ep_j,tita_i,tita_j):\n",
    "    '''\n",
    "    Coeficiente de reflexion de fresnell entre capa i y j\n",
    "    '''\n",
    "    Rij = (np.sqrt(ep_i)*np.cos(tita_i)-np.sqrt(ep_j)*np.cos(tita_j))/(np.sqrt(ep_i)*np.cos(tita_i)+np.sqrt(ep_j)*np.cos(tita_j))\n",
    "    return Rij"
   ]
  },
  {
   "cell_type": "code",
   "execution_count": 13,
   "metadata": {},
   "outputs": [],
   "source": [
    "def T_ij(ep_i,ep_j,tita_i,tita_j):\n",
    "    '''\n",
    "    Coeficiente de transmicion de fresnell entre capa i y j\n",
    "    '''\n",
    "    Tij = (2*np.sqrt(ep_i)*np.cos(tita_i))/(np.sqrt(ep_i)*np.cos(tita_i)+np.sqrt(ep_j)*np.cos(tita_j))\n",
    "    return Tij"
   ]
  },
  {
   "cell_type": "markdown",
   "metadata": {},
   "source": [
    "## Un dieléctrico"
   ]
  },
  {
   "attachments": {},
   "cell_type": "markdown",
   "metadata": {},
   "source": [
    "### Target semi-infinito con constante dielectrica $\\epsilon$. incidencia normal"
   ]
  },
  {
   "cell_type": "code",
   "execution_count": 14,
   "metadata": {},
   "outputs": [],
   "source": [
    "def R_1capa(ep):\n",
    "    '''\n",
    "    Coeficiente de reflexion de fresnell (capa seminf)\n",
    "    obs: no depende de la frecuencia\n",
    "  \n",
    "    Entradas:\n",
    "    -ep: Epsilon (cte dielectrica del medio)\n",
    "\n",
    "    Salidas:\n",
    "    -R\n",
    "    '''\n",
    "    r=(np.sqrt(ep)-1)/(np.sqrt(ep)+1)\n",
    "    return r\n"
   ]
  },
  {
   "cell_type": "markdown",
   "metadata": {},
   "source": [
    "### target de espesor $d$ y constante dieléctrica $\\epsilon$ y conductor ideal debajo del dieléctrico."
   ]
  },
  {
   "cell_type": "code",
   "execution_count": 1,
   "metadata": {
    "collapsed": true,
    "jupyter": {
     "outputs_hidden": true
    }
   },
   "outputs": [],
   "source": [
    "def R_ep_cond(ep,d,f): # antes era Ref2. Solo valido para frecuencias positivas.\n",
    "    '''\n",
    "    coef dieléctrico ep de espesor d sobre conductor ideal\n",
    "    '''\n",
    "    \n",
    "    ki = 2*np.pi*f/3e8  \n",
    "    fi = 2*1j*np.sqrt(ep)*ki*d\n",
    "    \n",
    "    a = 1-np.sqrt(ep)+(1+np.sqrt(ep))*np.exp(fi)\n",
    "    b = 1+np.sqrt(ep)+(1-np.sqrt(ep))*np.exp(fi)\n",
    "    \n",
    "    return a/b"
   ]
  },
  {
   "attachments": {},
   "cell_type": "markdown",
   "metadata": {},
   "source": [
    "### target de espesor $d$ y constante dieléctrica $\\epsilon_1$ y conductor real con conductividad $\\sigma(\\omega)$ debajo del dieléctrico."
   ]
  },
  {
   "cell_type": "code",
   "execution_count": null,
   "metadata": {},
   "outputs": [],
   "source": [
    "def R_ep_cond_ideal(ep1,d,sigma,f):\n",
    "\n",
    "  w = 2*np.pi*f\n",
    "  k1 = np.sqrt(ep1)*w/3e8\n",
    "\n",
    "  r01 = (np.sqrt(ep1)-1)/(np.sqrt(ep1)+1)\n",
    "  #ep_c = 1 + 1j*4*np.pi*sigma/w \n",
    "  #r1c = (np.sqrt(ep_c)-np.sqrt(ep1))/(np.sqrt(ep_c)+np.sqrt(ep1))\n",
    "  r1c = 1-np.sqrt((2*w)/(np.pi*sigma))\n",
    "\n",
    "  fase = 2*1j*k1*d\n",
    "\n",
    "  a = r01+r1c*np.exp(fase)\n",
    "  b = 1+r01*r1c*np.exp(fase)\n",
    "  r = a/b\n",
    "\n",
    "  return r"
   ]
  },
  {
   "cell_type": "markdown",
   "metadata": {},
   "source": [
    "## Dos dieléctricos"
   ]
  },
  {
   "cell_type": "markdown",
   "metadata": {},
   "source": [
    "### $\\epsilon_1$ con espesor $d$ y luego $\\epsilon_2$ semi-infinito"
   ]
  },
  {
   "cell_type": "code",
   "execution_count": 17,
   "metadata": {
    "collapsed": true,
    "jupyter": {
     "outputs_hidden": true
    }
   },
   "outputs": [],
   "source": [
    "def R_ep1_ep2(ep1,ep2,d,f):\n",
    "    '''\n",
    "    dos dieléctricos: ep1 de espesor d y ep2 semi-infinito.\n",
    "    \n",
    "    config: aire-ep1-ep2\n",
    "    '''\n",
    "    \n",
    "    ki = 2*np.pi*f/3e8 \n",
    "    fi = 2*1j*np.sqrt(ep1)*ki*d\n",
    "    r01 = (np.sqrt(ep1)-1)/(np.sqrt(ep1)+1)\n",
    "    r12 = (np.sqrt(ep2)-np.sqrt(ep1))/(np.sqrt(ep2)+np.sqrt(ep1))\n",
    "\n",
    "    r = (r01+r12*np.exp(fi))/(1+r01*r12*np.exp(fi))\n",
    "    \n",
    "    return r\n",
    "    "
   ]
  },
  {
   "cell_type": "markdown",
   "metadata": {},
   "source": [
    "### target de espesor $d_1 + d_2 = d$, donde la constante dieléctrica varía en dos tramos: $\\epsilon_1$ arriba, $\\epsilon_2$ debajo, luego el conductor ideal. "
   ]
  },
  {
   "cell_type": "code",
   "execution_count": 19,
   "metadata": {
    "collapsed": true,
    "jupyter": {
     "outputs_hidden": true
    }
   },
   "outputs": [],
   "source": [
    "def R_2capas(ep1,ep2,d1,d2,f):\n",
    "    '''\n",
    "    dos dieléctricos: ep1 con espesor d1, ep2 con espesor d2;\n",
    "    ep1 sobre ep2 y ep2 sobre conductor ideal.\n",
    "    \n",
    "    config: aire-ep1-ep2-conductor.\n",
    "    '''\n",
    "    \n",
    "    k0 = 2*np.pi*f/3e8\n",
    "\n",
    "    #codigo de mariano de labo7\n",
    "    k1 = np.sqrt(ep1)*k0\n",
    "    k2 = np.sqrt(ep2)*k0\n",
    "\n",
    "    #ex-codigo tesis\n",
    "    #k1 = np.sqrt(np.real(ep1))*k0\n",
    "    #k2 = np.sqrt(np.real(ep2))*k0\n",
    "    \n",
    "    fi1 = 2*1j*k1*d1\n",
    "    fi2 = 2*1j*k2*d2\n",
    "\n",
    "    r01 = (np.sqrt(ep1)-1)/(np.sqrt(ep1)+1) # interface ep0-ep1; ep0 = 1\n",
    "    r12 = (np.sqrt(ep2)-np.sqrt(ep1))/(np.sqrt(ep2)+np.sqrt(ep1))  # interface ep1-ep2, dentro del dieléctrico\n",
    "\n",
    "    a = r01 + r12*np.exp(fi1) + r01*r12*np.exp(fi2) + 1*np.exp(fi1+fi2)\n",
    "    b = 1 + r01*r12*np.exp(fi1) + r12*np.exp(fi2) + r01*np.exp(fi1+fi2)\n",
    "\n",
    "    R = a/b\n",
    "\n",
    "    return R"
   ]
  },
  {
   "cell_type": "markdown",
   "metadata": {},
   "source": [
    "## Tres dieléctricos"
   ]
  },
  {
   "cell_type": "markdown",
   "metadata": {},
   "source": [
    "### Coeficiente de fresnel para 3 capas"
   ]
  },
  {
   "cell_type": "code",
   "execution_count": 20,
   "metadata": {},
   "outputs": [],
   "source": [
    "def R_3capas(ep1, ep2, ep3, d1, d2, f):\n",
    "    '''\n",
    "  Coeficiente de reflexion de fresnell 2 interfases\n",
    "    Entradas:\n",
    "    -ep1: ϵ de la 1ra capa\n",
    "    -ep2: ϵ de la 2da capa\n",
    "    -ep: ϵ de la 3ra capa\n",
    "    -d1: ancho de la 1er capa\n",
    "    -d2: ancho de la 2da capa\n",
    "    -f: frecuencia incidente\n",
    "\n",
    "    Salidas:\n",
    "    -R\n",
    "  '''\n",
    "    phi1 = (2*np.pi*f*np.sqrt(ep1)*d1)/3e8\n",
    "    phi2 = (2*np.pi*f*np.sqrt(ep2)*d2)/3e8\n",
    "    R01 = (np.sqrt(ep1)-1)/(1+np.sqrt(ep1))\n",
    "    R12 = (np.sqrt(ep2)-np.sqrt(ep1))/(np.sqrt(ep1)+np.sqrt(ep2))\n",
    "    R23 = (np.sqrt(ep3)-np.sqrt(ep2))/(np.sqrt(ep2)+np.sqrt(ep3))\n",
    "    \n",
    "    RR1=(R12+R23*np.exp(2*1j*phi2))/(1+R12*R23*np.exp(2*1j*phi2))\n",
    "    \n",
    "    a = R01+RR1*np.exp(2*1j*phi1)\n",
    "    b = 1+R01*RR1*np.exp(2*1j*phi1)\n",
    "    \n",
    "    R = a/b\n",
    "    return R"
   ]
  }
 ],
 "metadata": {
  "kernelspec": {
   "display_name": "UWB",
   "language": "python",
   "name": "python3"
  },
  "language_info": {
   "codemirror_mode": {
    "name": "ipython",
    "version": 3
   },
   "file_extension": ".py",
   "mimetype": "text/x-python",
   "name": "python",
   "nbconvert_exporter": "python",
   "pygments_lexer": "ipython3",
   "version": "3.9.13"
  },
  "vscode": {
   "interpreter": {
    "hash": "a5efa58f276ce63811016fecb016ee8e4e18a00c41047d2aa2d6a825d8d684ba"
   }
  }
 },
 "nbformat": 4,
 "nbformat_minor": 4
}
