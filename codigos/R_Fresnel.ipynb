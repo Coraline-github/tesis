{
 "cells": [
  {
   "cell_type": "markdown",
   "metadata": {},
   "source": [
    "# Coeficientes de reflexión a incidencia normal para distintos 'targets'"
   ]
  },
  {
   "cell_type": "code",
   "execution_count": 1,
   "metadata": {},
   "outputs": [],
   "source": [
    "import numpy as np\n",
    "from matplotlib import pyplot as plt"
   ]
  },
  {
   "cell_type": "markdown",
   "metadata": {},
   "source": [
    "## Target semi-infinito con constante dielectrica $\\epsilon$"
   ]
  },
  {
   "cell_type": "code",
   "execution_count": 2,
   "metadata": {},
   "outputs": [],
   "source": [
    "def R_1capa(ep):\n",
    "    '''\n",
    "    Coeficiente de reflexion de fresnell (capa seminf)\n",
    "    obs: no depende de la frecuencia\n",
    "  \n",
    "    Entradas:\n",
    "    -ep: Epsilon (cte dielectrica del medio)\n",
    "\n",
    "    Salidas:\n",
    "    -R\n",
    "    '''\n",
    "    r=(np.sqrt(ep)-1)/(np.sqrt(ep)+1)\n",
    "    return r"
   ]
  },
  {
   "cell_type": "code",
   "execution_count": 5,
   "metadata": {},
   "outputs": [],
   "source": [
    "#LE FALTA PERFECCIONAMIENTO\n",
    "\n",
    "def S_teo_A(altura, f, S1, S2, ep_teo, n_mv):\n",
    "    ind = []\n",
    "    for i in range(len(altura)):\n",
    "        aux = np.zeros(n_mv,dtype=float)\n",
    "        for j in range(n_mv):\n",
    "            ep = ep_teo[j]\n",
    "        \n",
    "            #coef de reflexion depende solo de ep\n",
    "            R = R_1capa(ep)\n",
    "            S2teo_may = S1[i]*R\n",
    "            error = np.sum(np.abs(np.abs(S2teo_may)-np.abs(S1)))/np.shape(S1)[1]\n",
    "            ##error\n",
    "            aux[j] = error  \n",
    "        ind.append(np.argmin(aux))\n",
    "\n",
    "    for i in range(len(altura)):\n",
    "        ind_i = ind[i]\n",
    "        if ind_i < 9999:\n",
    "            print(ind_i)\n",
    "            # mv_op = MV[ind[i]]\n",
    "            ep_op = ep_teo[ind[i]]\n",
    "            S_op = S1*R_1capa(ep_op)\n",
    "            # error_mae = e_mae[i,ind[i]]\n",
    "        \n",
    "            plt.plot(f,np.abs(S_op[i]), label='teo')\n",
    "            plt.plot(f,np.abs(S2[i]), label='med')\n",
    "            plt.legend()\n",
    "            plt.show()\n",
    "        else:\n",
    "            print('error')\n",
    "    \n",
    "    return ep_op, S_op\n",
    "    "
   ]
  },
  {
   "cell_type": "markdown",
   "metadata": {},
   "source": [
    "### target de espesor $d$ y constante dieléctrica $\\epsilon$ y conductor ideal debajo del dieléctrico."
   ]
  },
  {
   "cell_type": "code",
   "execution_count": null,
   "metadata": {
    "collapsed": true,
    "jupyter": {
     "outputs_hidden": true
    }
   },
   "outputs": [],
   "source": [
    "def R_ep_cond(ep,d,f): # antes era Ref2. Solo valido para frecuencias positivas.\n",
    "    '''\n",
    "    coef dieléctrico ep de espesor d sobre conductor ideal\n",
    "    '''\n",
    "    \n",
    "    ki = 2*np.pi*f/3e8  \n",
    "    fi = 2*1j*np.sqrt(ep)*ki*d\n",
    "    \n",
    "    a = 1-np.sqrt(ep)+(1+np.sqrt(ep))*np.exp(fi)\n",
    "    b = 1+np.sqrt(ep)+(1-np.sqrt(ep))*np.exp(fi)\n",
    "    \n",
    "    return a/b"
   ]
  },
  {
   "cell_type": "markdown",
   "metadata": {},
   "source": [
    "## target con dos dieléctricos: $\\epsilon_1$ con espesor $d$ y luego $\\epsilon_2$ semi-infinito"
   ]
  },
  {
   "cell_type": "code",
   "execution_count": null,
   "metadata": {
    "collapsed": true,
    "jupyter": {
     "outputs_hidden": true
    }
   },
   "outputs": [],
   "source": [
    "def R_ep1_ep2(ep1,ep2,d,f):\n",
    "    '''\n",
    "    dos dieléctricos: ep1 de espesor d y ep2 semi-infinito.\n",
    "    \n",
    "    config: aire-ep1-ep2\n",
    "    '''\n",
    "    \n",
    "    landa = 3e8/f\n",
    "    r01 = (ep1-1)/(ep1+1)\n",
    "    r12 = (ep2-ep1)/(ep2+ep1)\n",
    "    fase = 2*np.sqrt(ep1)*2*np.pi*d/landa\n",
    "    \n",
    "    r = (r01+r12*np.exp(1j*fase))/(1+r01*r12*np.exp(1j*fase))\n",
    "    \n",
    "    return r\n",
    "    "
   ]
  },
  {
   "cell_type": "markdown",
   "metadata": {},
   "source": [
    "### target de espesor $d_1 + d_2 = d$, donde la constante dieléctrica varía en dos tramos: $\\epsilon_1$ arriba, $\\epsilon_2$ debajo, luego el conductor ideal. "
   ]
  },
  {
   "cell_type": "code",
   "execution_count": null,
   "metadata": {
    "collapsed": true,
    "jupyter": {
     "outputs_hidden": true
    }
   },
   "outputs": [],
   "source": [
    "def R_2capas(ep1,ep2,d1,d2,f):\n",
    "    '''\n",
    "    dos dieléctricos: ep1 con espesor d1, ep2 con espesor d2;\n",
    "    ep1 sobre ep2 y ep2 sobre dieléctrico.\n",
    "    \n",
    "    config: aire-ep1-ep2-conductor.\n",
    "    '''\n",
    "    \n",
    "    k0 = 2*np.pi*f/3e8\n",
    "    k1 = np.sqrt(ep1)*k0\n",
    "    k2 = np.sqrt(ep2)*k0\n",
    "    \n",
    "    z1 = np.exp(-2*1j*k1*d1)\n",
    "    z2 = np.exp(-2*1j*k2*d2)\n",
    "\n",
    "    r01 = (np.sqrt(ep1)-1)/(np.sqrt(ep1)+1) # interface ep0-ep1; ep0 = 1\n",
    "    r12 = (np.sqrt(ep2)-np.sqrt(ep1))/(np.sqrt(ep2)+np.sqrt(ep1))  # interface ep1-ep2, dentro del dieléctrico\n",
    "    r2cond = 1 # interface ep2-conductor ideal\n",
    "\n",
    "    a = r01 + r12/z1 + r01*r12*r2cond/z2 + r2cond/(z1*z2)\n",
    "    b = 1 + r01*r12/z1 + r12*r2cond/z2 + r01*r2cond/(z1*z2)\n",
    "\n",
    "    R = a/b\n",
    "\n",
    "    return R"
   ]
  },
  {
   "cell_type": "markdown",
   "metadata": {},
   "source": [
    "### Coeficiente de fresnell para 3 capas de dieléctrico"
   ]
  },
  {
   "cell_type": "code",
   "execution_count": 6,
   "metadata": {},
   "outputs": [],
   "source": [
    "def R_3capas(ep1, ep2, ep3, d1, d2, f):\n",
    "    '''\n",
    "  Coeficiente de reflexion de fresnell 2 interfases\n",
    "    Entradas:\n",
    "    -ep1: ϵ de la 1ra capa\n",
    "    -ep2: ϵ de la 2da capa\n",
    "    -ep: ϵ de la 3ra capa\n",
    "    -d1: ancho de la 1er capa\n",
    "    -d2: ancho de la 2da capa\n",
    "    -f: frecuencia incidente\n",
    "\n",
    "    Salidas:\n",
    "    -R\n",
    "  '''\n",
    "    phi1 = (2*np.pi*f*np.sqrt(ep1)*d1)/3e8\n",
    "    phi2 = (2*np.pi*f*np.sqrt(ep2)*d2)/3e8\n",
    "    R0 = (1-np.sqrt(ep1))/(1+np.sqrt(ep1))\n",
    "    R1 = (np.sqrt(ep1)-np.sqrt(ep2))/(np.sqrt(ep1)+np.sqrt(ep2))\n",
    "    R2 = (np.sqrt(ep2)-np.sqrt(ep3))/(np.sqrt(ep2)+np.sqrt(ep3))\n",
    "    \n",
    "    RR1=(R1+R2*np.exp(-2*1j*phi2))/(1+R1*R2*np.exp(-2*1j*phi2))\n",
    "    \n",
    "    a = R0+RR1*np.exp(-2*1j*phi1)\n",
    "    b = 1+R0*RR1*np.exp(-2*1j*phi1)\n",
    "    \n",
    "    R = a/b\n",
    "    return R"
   ]
  }
 ],
 "metadata": {
  "kernelspec": {
   "display_name": "Python 3.8.10 64-bit",
   "language": "python",
   "name": "python3"
  },
  "language_info": {
   "codemirror_mode": {
    "name": "ipython",
    "version": 3
   },
   "file_extension": ".py",
   "mimetype": "text/x-python",
   "name": "python",
   "nbconvert_exporter": "python",
   "pygments_lexer": "ipython3",
   "version": "3.8.10"
  },
  "vscode": {
   "interpreter": {
    "hash": "916dbcbb3f70747c44a77c7bcd40155683ae19c65e1c03b4aa3499c5328201f1"
   }
  }
 },
 "nbformat": 4,
 "nbformat_minor": 4
}
