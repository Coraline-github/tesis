{
 "cells": [
  {
   "cell_type": "markdown",
   "metadata": {},
   "source": [
    "### Función que calcula FFT de una señal $S(t)$ ###"
   ]
  },
  {
   "cell_type": "code",
   "execution_count": null,
   "metadata": {
    "collapsed": true,
    "jupyter": {
     "outputs_hidden": true
    }
   },
   "outputs": [],
   "source": [
    "import numpy as np\n",
    "from scipy import signal\n",
    "from scipy.fftpack import fft, fftfreq, fftshift"
   ]
  },
  {
   "cell_type": "code",
   "execution_count": null,
   "metadata": {
    "collapsed": true,
    "jupyter": {
     "outputs_hidden": true
    }
   },
   "outputs": [],
   "source": [
    "def FFT_ordenada(y,n,dt):\n",
    "    '''\n",
    "    Transformo Fourier la señal y(x).\n",
    "      \n",
    "      Entradas:\n",
    "      - y: señal a transformar;\n",
    "      - n: cantidad de datos de la señal;\n",
    "      - dt: tiempo de muestreo.\n",
    "      \n",
    "      Salidas:\n",
    "      - vector Xf: frecuencias de la FFT ordenadas de la más negativa a la más positiva; \n",
    "      - vector Yf: espectro de la señal transformada.\n",
    "    '''\n",
    "    \n",
    "    xf = fftfreq(n,dt) # frecuencias de la FFT ordenadas así: primero f>o, luego f<0\n",
    "    Xf = fftshift(xf) # frecuencias reordenadas\n",
    "  \n",
    "    Y = fftshift(fft(y,n)) # FFT de la señal, con el espectro reordenado. Comentario de Ovi: Agregué fft(), ya que fftshift sólo reacomoda la señal\n",
    "    \n",
    "    return Xf,Y # modifique esto para que pase los arrays separados, ya que son señales distintas."
   ]
  }
 ],
 "metadata": {
  "kernelspec": {
   "display_name": "Python 3.8.8 ('base')",
   "language": "python",
   "name": "python3"
  },
  "language_info": {
   "codemirror_mode": {
    "name": "ipython",
    "version": 3
   },
   "file_extension": ".py",
   "mimetype": "text/x-python",
   "name": "python",
   "nbconvert_exporter": "python",
   "pygments_lexer": "ipython3",
   "version": "3.8.8 (default, Apr 13 2021, 15:08:03) [MSC v.1916 64 bit (AMD64)]"
  },
  "vscode": {
   "interpreter": {
    "hash": "f6180580deba733ae6b67ff07d0619bc0e45d8154c010e604be71bef248e603e"
   }
  }
 },
 "nbformat": 4,
 "nbformat_minor": 4
}
