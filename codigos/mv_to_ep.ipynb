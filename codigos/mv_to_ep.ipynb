{
 "cells": [
  {
   "cell_type": "markdown",
   "metadata": {},
   "source": [
    "## Función que transforma humedad del suelo a cte dielectrica"
   ]
  },
  {
   "cell_type": "code",
   "execution_count": null,
   "metadata": {
    "tags": []
   },
   "outputs": [],
   "source": [
    "import numpy as np"
   ]
  },
  {
   "cell_type": "code",
   "execution_count": null,
   "metadata": {
    "collapsed": true,
    "jupyter": {
     "outputs_hidden": true
    }
   },
   "outputs": [],
   "source": [
    "\n",
    "def mv_to_ep(mv,S,C,mv_std):\n",
    "    ''' Convertir mv a ep usando el modelo de Hallikainen (1985)\n",
    "  \n",
    "      Entradas:\n",
    "      - S: fracción de arena\n",
    "      - C: fracción de arcilla\n",
    "      - mv: humedad del suelo\n",
    "      - Propaga errores en caso de que ingrese mv_std\n",
    "\n",
    "      Salidas:\n",
    "      - ep = (a0 + a1*S + a2*C) + (b0 + b1*S + b2*C)*mv + (c0 + c1*S + c2*C)*mv**2\n",
    "      - Delta ep = A + (B-1)*ep\n",
    "    '''\n",
    "\n",
    "    # Coeficientes calculados a 8GHz\n",
    "\n",
    "    ## Coeficientes para la parte real\n",
    "    a0r, a1r, a2r = 1.997, 0.002, 0.018\n",
    "    b0r, b1r, b2r = 25.579, -0.017, -0.412\n",
    "    c0r, c1r, c2r = 39.793, 0.723, 0.941\n",
    "\n",
    "    ## Coeficientes para la parte imag\n",
    "    a0i, a1i, a2i = -0.201, 0.003, 0.003\n",
    "    b0i, b1i, b2i = 11.266, -0.085, -0.155\n",
    "    c0i, c1i, c2i= 0.194, 0.584, 0.581\n",
    "\n",
    "    ar = a0r+a1r*S+a2r*C\n",
    "    br = b0r+b1r*S+b2r*C\n",
    "    cr = c0r+c1r*S+c2r*C\n",
    "\n",
    "    ai = a0i+a1i*S+a2i*C\n",
    "    bi = b0i+b1i*S+b2i*C\n",
    "    ci = c0i+c1i*S+c2i*C\n",
    "\n",
    "    ep_real = ar + br*mv + cr*mv**2\n",
    "    ep_imag = ai + bi*mv + ci*mv**2\n",
    "\n",
    "    ep = ep_real+1j*ep_imag\n",
    "\n",
    "    if(mv_std!=0):\n",
    "\n",
    "        deps_realdmv = br + 2*cr*mv\n",
    "        deps_imagdmv = bi + 2*ci*mv\n",
    "        ep_real_std = abs(deps_realdmv)*mv_std\n",
    "        ep_imag_std = abs(deps_imagdmv)*mv_std \n",
    "        ep_error = ep_real_std+1j*ep_imag_std\n",
    "        \n",
    "    else:\n",
    "        ep_error = 0\n",
    "\n",
    "    return {'ep': ep, 'ep_error': ep_error}"
   ]
  }
 ],
 "metadata": {
  "kernelspec": {
   "display_name": "Python 3.8.8 ('base')",
   "language": "python",
   "name": "python3"
  },
  "language_info": {
   "codemirror_mode": {
    "name": "ipython",
    "version": 3
   },
   "file_extension": ".py",
   "mimetype": "text/x-python",
   "name": "python",
   "nbconvert_exporter": "python",
   "pygments_lexer": "ipython3",
   "version": "3.8.8"
  },
  "vscode": {
   "interpreter": {
    "hash": "f6180580deba733ae6b67ff07d0619bc0e45d8154c010e604be71bef248e603e"
   }
  }
 },
 "nbformat": 4,
 "nbformat_minor": 4
}
