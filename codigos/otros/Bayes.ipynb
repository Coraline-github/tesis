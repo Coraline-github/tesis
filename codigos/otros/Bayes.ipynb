{
 "cells": [
  {
   "cell_type": "code",
   "execution_count": null,
   "id": "9617a286-0099-4b61-b7bc-67ffe8718821",
   "metadata": {},
   "outputs": [],
   "source": [
    "import numpy as np\n",
    "\n",
    "import theano.tensor as TT\n",
    "import time\n",
    "import random\n",
    "\n",
    "import pymc3 as pm\n",
    "import arviz as az"
   ]
  },
  {
   "cell_type": "code",
   "execution_count": null,
   "id": "d96fb889-f989-4ff7-a640-9e2f4bec7284",
   "metadata": {},
   "outputs": [],
   "source": []
  },
  {
   "cell_type": "markdown",
   "id": "bcac7796-319b-4763-8f7a-a02542f9efff",
   "metadata": {},
   "source": [
    "## Defino las funciones que voy a usar en el esquema bayesiano para ajustar la señal reflejada por el target."
   ]
  },
  {
   "cell_type": "code",
   "execution_count": null,
   "id": "68885961-f59b-4468-a290-35497692b564",
   "metadata": {},
   "outputs": [],
   "source": [
    "## solo un medio dieléctrico\n",
    "\n",
    "def toFit_1L(ep):\n",
    "    \n",
    "    S1_real = np.real(Scal*R_ep(ep))\n",
    "    S1_imag = np.imag(Scal*R_ep(ep))\n",
    "  \n",
    "    # return np.asarray([S1_real, S1_imag])\n",
    "    dim = int(np.shape(Scal)[0])\n",
    " \n",
    "    a = TT.zeros((2,dim))\n",
    "    a1 = TT.set_subtensor(a[0], S1_real)\n",
    "    a2 = TT.set_subtensor(a1[1], S1_imag)\n",
    " \n",
    "    return a2\n",
    "##----------------------------------------------------------------------##"
   ]
  },
  {
   "cell_type": "markdown",
   "id": "33cff4b0-8004-49a9-ba2a-edeedc753f7e",
   "metadata": {},
   "source": [
    "## Función principal del esquema bayesiano"
   ]
  },
  {
   "cell_type": "code",
   "execution_count": null,
   "id": "f43a0dff-9ef1-4d60-bd1f-9846f82a7f52",
   "metadata": {},
   "outputs": [],
   "source": [
    "def modelo(S2, samples, sigmas,n_layers):\n",
    "    \n",
    "    '''\n",
    "    S2: medición sobre el target de interés: tiene tamaño (2,n_frec);\n",
    "    el 2 es porque separé parte Real e Imaginaria de la señal.\n",
    "    samples: escalar, nro de muestras para la inferencia bayesiana.\n",
    "    sigmas: varianza de la medición, de tamaño (2, n_frec).\n",
    "    \n",
    "    n_layers = nro de medios materiales a usar en el modelo teórico.\n",
    "    \n",
    "    OBS:\n",
    "        - S1 y S2 son complejos de dimensión N\n",
    "        - frecs es un vector real de dimensión N\n",
    "    '''\n",
    "    \n",
    "    ## tomo parte real e imaginaria de la señal a ajustar\n",
    "    S2_r = np.real(S2)\n",
    "    S2_i = np.imag(S2)\n",
    "    \n",
    "    ## defino el número de capas del modelo\n",
    "    if(n_layers == 1):\n",
    "        \n",
    "        ep1r_min, ep1r_max = 4, 30\n",
    "\n",
    "        ranges = {}\n",
    "        ranges['ep1_r'] = ep1r_min, ep1r_max\n",
    "        \n",
    "        with pm.Model() as model:\n",
    "            ep1_r = pm.Uniform('ep1_r', ranges['ep1_r'][0], ranges['ep1_r'][1])\n",
    "            #ep1_i = pm.Uniform('ep1_i', 0.25*ranges['ep1_r'][0], 6*ranges['ep1_r'][0])\n",
    "            ep1_i = pm.Uniform('ep1_i', 3.0, 10)\n",
    "\n",
    "        def f(ep1_ = ep1_r + 1j*ep1_i ):\n",
    "            return toFit_1L(ep1_)\n",
    "\n",
    "        with model:\n",
    "            function_pm = pm.Deterministic('S2_teo', f())\n",
    "            observations = pm.Normal( 'S2_med',  mu = function_pm, sigma = sigmas, observed = np.asarray([S2_r,S2_i]))\n",
    "            trace = pm.sample_smc(samples, cores=6, parallel=True)\n",
    "            #ppc = pm.sample_posterior_predictive(trace, var_names=[\"ep1_r\",\"ep1_i\",\"S2_med\"], random_seed=4, samples=10)\n",
    "            \n",
    "        return trace#, ppc, model\n",
    "        \n",
    "           \n",
    "    \n",
    "    else:\n",
    "        print('N layers incorrecto')"
   ]
  }
 ],
 "metadata": {
  "kernelspec": {
   "display_name": "Python 3 (ipykernel)",
   "language": "python",
   "name": "python3"
  },
  "language_info": {
   "codemirror_mode": {
    "name": "ipython",
    "version": 3
   },
   "file_extension": ".py",
   "mimetype": "text/x-python",
   "name": "python",
   "nbconvert_exporter": "python",
   "pygments_lexer": "ipython3",
   "version": "3.9.12"
  }
 },
 "nbformat": 4,
 "nbformat_minor": 5
}
