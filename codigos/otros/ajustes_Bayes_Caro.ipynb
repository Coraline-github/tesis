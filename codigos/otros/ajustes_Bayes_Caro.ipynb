{
 "cells": [
  {
   "cell_type": "markdown",
   "id": "06b657a1-5f4e-44a9-80dc-aa6c92e062b5",
   "metadata": {},
   "source": [
    "# Análisis de las señales usando inferencia bayesiana"
   ]
  },
  {
   "cell_type": "code",
   "execution_count": 1,
   "id": "d1924712-3bbd-447c-a56f-dbe49e024cf5",
   "metadata": {},
   "outputs": [
    {
     "ename": "ModuleNotFoundError",
     "evalue": "No module named 'theano'",
     "output_type": "error",
     "traceback": [
      "\u001b[1;31m---------------------------------------------------------------------------\u001b[0m",
      "\u001b[1;31mModuleNotFoundError\u001b[0m                       Traceback (most recent call last)",
      "\u001b[1;32m<ipython-input-1-8253bfa824bd>\u001b[0m in \u001b[0;36m<module>\u001b[1;34m\u001b[0m\n\u001b[0;32m      6\u001b[0m \u001b[1;32mimport\u001b[0m \u001b[0mpandas\u001b[0m \u001b[1;32mas\u001b[0m \u001b[0mpd\u001b[0m\u001b[1;33m\u001b[0m\u001b[1;33m\u001b[0m\u001b[0m\n\u001b[0;32m      7\u001b[0m \u001b[1;33m\u001b[0m\u001b[0m\n\u001b[1;32m----> 8\u001b[1;33m \u001b[1;32mimport\u001b[0m \u001b[0mtheano\u001b[0m\u001b[1;33m.\u001b[0m\u001b[0mtensor\u001b[0m \u001b[1;32mas\u001b[0m \u001b[0mTT\u001b[0m\u001b[1;33m\u001b[0m\u001b[1;33m\u001b[0m\u001b[0m\n\u001b[0m\u001b[0;32m      9\u001b[0m \u001b[1;32mimport\u001b[0m \u001b[0mtime\u001b[0m\u001b[1;33m\u001b[0m\u001b[1;33m\u001b[0m\u001b[0m\n\u001b[0;32m     10\u001b[0m \u001b[1;32mimport\u001b[0m \u001b[0mrandom\u001b[0m\u001b[1;33m\u001b[0m\u001b[1;33m\u001b[0m\u001b[0m\n",
      "\u001b[1;31mModuleNotFoundError\u001b[0m: No module named 'theano'"
     ]
    }
   ],
   "source": [
    "import numpy as np\n",
    "import matplotlib\n",
    "from matplotlib import pyplot as plt\n",
    "from scipy import interpolate\n",
    "import seaborn as sns\n",
    "import pandas as pd\n",
    "\n",
    "import theano.tensor as TT\n",
    "import time\n",
    "import random\n",
    "\n",
    "import pymc3 as pm\n",
    "import arviz as az\n",
    "\n",
    "%run /home/tele/Desktop/UWB/codigos_auxiliares/Bayes.ipynb"
   ]
  },
  {
   "cell_type": "code",
   "execution_count": null,
   "id": "d596441d-0324-4355-be36-3953c86faf4b",
   "metadata": {},
   "outputs": [],
   "source": [
    "\n",
    "portadoras = ['Fc7/','Fc8/']\n",
    "portadora = portadoras[1]\n",
    "\n",
    "alturas = ['1/','2/','3/','4/']\n",
    "altura = alturas[2]"
   ]
  },
  {
   "cell_type": "code",
   "execution_count": null,
   "id": "631c4674-b2af-49bd-bfa4-c9a499e694d1",
   "metadata": {},
   "outputs": [],
   "source": [
    "%run /home/tele/Desktop/UWB/mediciones_09_06/ajustes_09_06_Caro.ipynb"
   ]
  },
  {
   "cell_type": "markdown",
   "id": "63721656-6cef-432e-a17e-a223771ba019",
   "metadata": {},
   "source": [
    "## Cargo las mediciones"
   ]
  },
  {
   "cell_type": "code",
   "execution_count": null,
   "id": "8c7b79a3-625b-4acf-9a9c-454923b17326",
   "metadata": {},
   "outputs": [],
   "source": [
    "## Señal de Calibración\n",
    "Scal = np.load('Scal.npy',mmap_mode=None, allow_pickle=False, fix_imports=True, encoding='ASCII')\n",
    "print('dim Scal:',np.shape(Scal)[0])\n",
    "print()\n",
    "\n",
    "## Señal del target\n",
    "Star = -np.load('Star.npy',mmap_mode=None, allow_pickle=False, fix_imports=True, encoding='ASCII')\n",
    "print('dim Star:',np.shape(Star)[0])\n",
    "print()\n",
    "\n",
    "## Frecuencias positivas obtenidas de la FFT\n",
    "fpos = np.load('fpos.npy',mmap_mode=None, allow_pickle=False, fix_imports=True, encoding='ASCII')\n",
    "print('dim fpos:',np.shape(fpos)[0])"
   ]
  },
  {
   "cell_type": "markdown",
   "id": "ecb8f771-040d-41de-a7e6-e5b369a23ff4",
   "metadata": {},
   "source": [
    "## Skin Depth de la señal UWB\n",
    "\n",
    "sea $\\epsilon_1=\\epsilon_r+i\\epsilon_i$ entonces defino:\n",
    "\n",
    "\\begin{equation}\n",
    "    \\delta_d=\\frac{2\\epsilon_r 2\\times10^8}{2\\pi f \\epsilon_i}\n",
    "\\end{equation}\n",
    "\n",
    "\n",
    "OBSERVACION: Puede que este mal ese $2\\times10^8$ y que sea $3\\times10^8=c$?\n"
   ]
  },
  {
   "cell_type": "code",
   "execution_count": null,
   "id": "c47b4bdf-085d-4b9a-becd-a1ae7a7c3789",
   "metadata": {},
   "outputs": [],
   "source": [
    "ep1_obs = 11.340 + 1j*4.104  # dieléctrico\n",
    "\n",
    "## skin depth para la portadora con ep1 medido\n",
    "landa = 3e8/fc\n",
    "print('long. onda portadora:',str(round(100*landa,2))+'cm')\n",
    "delta_d = 2*np.real(ep1_obs)*2e8/(2*np.pi*(fc)*np.imag(ep1_obs))\n",
    "print('Skin Depth a Fc:', str(round(100*delta_d,2))+'cm')\n",
    "print()\n",
    "print()\n",
    "\n",
    "landa_max = 3e8/(fc-BW)\n",
    "print('long. onda max:',str(round(100*landa_max,2))+'cm')\n",
    "delta_max = 2*np.real(ep1_obs)*2e8/(2*np.pi*(fc-BW)*np.imag(ep1_obs))\n",
    "print('Skin Depth a long. onda max:', str(round(100*delta_max,2))+'cm')\n",
    "print()"
   ]
  },
  {
   "cell_type": "code",
   "execution_count": null,
   "id": "10eddc46-640c-494c-99ae-b044beb97f6a",
   "metadata": {},
   "outputs": [],
   "source": []
  },
  {
   "cell_type": "markdown",
   "id": "aff6507b-6d29-465b-8e01-675f7615b961",
   "metadata": {},
   "source": [
    "## Simulo una medición y busco los parámetros óptimos a través del esquema bayesiano."
   ]
  },
  {
   "cell_type": "markdown",
   "id": "6a898dbe-2c39-406b-bcd3-83b8a2b6dd7b",
   "metadata": {},
   "source": [
    "## - Un solo dieléctrico"
   ]
  },
  {
   "cell_type": "code",
   "execution_count": null,
   "id": "254a44f9-ca9f-4392-9df4-fc450d135550",
   "metadata": {},
   "outputs": [],
   "source": [
    "# inputs para simular una medición\n",
    "\n",
    "# un solo medio dieléctrico\n",
    "NLayers = 1\n",
    "\n",
    "S_sim = Scal*R_ep(ep1_obs) # señal 'medida'\n",
    "\n",
    "# genero señal con ruido\n",
    "S_sim_ruido = np.zeros(len(S_sim), dtype = complex)\n",
    "noise_level = 1.2e-2\n",
    "noise = (1+1j)*noise_level*np.random.rand()\n",
    "\n",
    "for i in range(len(S_sim)):\n",
    "    S_sim_ruido[i] =  S_sim[i] + random.choice((-1,1))*noise\n",
    "\n",
    "\n",
    "fig , ax = plt.subplots(nrows=1, ncols=2, figsize=(16,6))\n",
    "\n",
    "ax[0].plot(fpos/1e9,np.real(S_sim),label=\"teorica\")\n",
    "ax[0].plot(fpos/1e9,np.real(S_sim_ruido),label=\"con ruido\")\n",
    "ax[0].plot(fpos/1e9,np.real(Star),'-.',label=\"medicion\")\n",
    "ax[0].legend(loc=\"best\")\n",
    "ax[0].set_title('Parte real')\n",
    "\n",
    "ax[1].plot(fpos/1e9,np.imag(S_sim),label=\"teorica\")\n",
    "ax[1].plot(fpos/1e9,np.imag(S_sim_ruido),label=\"con ruido\")\n",
    "ax[1].plot(fpos/1e9,np.imag(Star),'-.',label=\"medicion\")\n",
    "ax[1].legend(loc=\"best\")\n",
    "ax[1].set_title('Parte imaginaria')\n",
    "plt.show()\n",
    "\n",
    "print()\n",
    "print('nivel de ruido:', round(np.real(noise),4))"
   ]
  },
  {
   "cell_type": "code",
   "execution_count": null,
   "id": "6e8f6724-1cf5-4ee7-824b-829d9347da0d",
   "metadata": {},
   "outputs": [],
   "source": [
    "%run /home/tele/Desktop/UWB/codigos_auxiliares/Bayes.ipynb\n",
    "\n",
    "t0 = time.time()\n",
    "# nro de muestras que va a utilizar el método\n",
    "muestras = 8000\n",
    "# error de la medición\n",
    "sigmas = np.real(noise)*np.ones((2,len(Star)))\n",
    "\n",
    "\n",
    "# inferencia bayesiana\n",
    "#traza_sim_1layer, ppc, model = modelo(-Star,muestras,sigmas,NLayers)\n",
    "traza_1layer = modelo(Star,muestras,sigmas,NLayers)\n",
    "\n",
    "\n",
    "t1 = time.time()\n",
    "print('Tiempo insumido - Inf. Bayesiana: '+str(round(t1-t0,2))+' seg', '('+str(round((t1-t0)/60,2))+' min)')"
   ]
  },
  {
   "cell_type": "code",
   "execution_count": null,
   "id": "cac323e2-876f-4c09-8140-f75563aa3e3b",
   "metadata": {},
   "outputs": [],
   "source": [
    "traza_1layer['ep1_r'].shape"
   ]
  },
  {
   "cell_type": "code",
   "execution_count": null,
   "id": "a82fa088-8449-4840-aa8b-ebec383369ae",
   "metadata": {},
   "outputs": [],
   "source": [
    "t2 = time.time()\n",
    "print('Graficando con un solo dieléctrico ...')\n",
    "\n",
    "ep1_r_mean = round(np.mean(traza_1layer['ep1_r']),3)\n",
    "ep1_r_std = round(np.std(traza_1layer['ep1_r']),3)\n",
    "\n",
    "ep1_i_mean = round(np.mean(traza_1layer['ep1_i']),3)\n",
    "ep1_i_std = round(np.std(traza_1layer['ep1_i']),3)\n",
    "\n",
    "# plotear = np.stack((traza['ep1'], traza['ep2'], traza['d'], traza['s1'], traza['s2'])).T \n",
    "# dfplotear = pd.DataFrame(plotear, columns = ['ep1','ep2','d','s1','s2'])\n",
    "\n",
    "plotear = np.stack((traza_1layer['ep1_r'], traza_1layer['ep1_i'])).T \n",
    "dfplotear = pd.DataFrame(plotear, columns = ['ep1_r', 'ep1_i'])\n",
    "\n",
    "\n",
    "g = sns.PairGrid(dfplotear)\n",
    "g.fig.suptitle('Medición sintética con un solo medio material', y=1.01, fontsize = 'large')\n",
    "g.map_upper(sns.histplot)\n",
    "g.map_lower(sns.kdeplot, fill=True)\n",
    "g.map_diag(sns.histplot, kde=True, color='.5')\n",
    "# g.axes[0,0].axvline(np.real(ep1_obs), color='r', linestyle='solid', linewidth=0.5)\n",
    "# g.axes[1,0].scatter(np.real(ep1_obs), np.imag(ep1_obs), marker=\"+\", c='r', s=200)\n",
    "# g.axes[1,1].axvline(np.imag(ep1_obs), color='r', linestyle='solid', linewidth=0.5)\n",
    "\n",
    "\n",
    "print()\n",
    "print('input ep1_r: ', np.real(ep1_obs))\n",
    "print('output ep1_r: ', str(ep1_r_mean)+\"\\u00B1\"+str(ep1_r_std))\n",
    "print()\n",
    "print('input ep1_i: ', np.imag(ep1_obs))\n",
    "print('output ep1_i: ', str(ep1_i_mean)+\"\\u00B1\"+str(ep1_i_std))\n",
    "print()\n",
    "\n",
    "t3 = time.time()\n",
    "print('Tiempo insumido - Gráficos: '+str(round(t3-t2,2))+' seg', '('+str(round((t3-t2)/60,2))+' min)')\n",
    "print()\n",
    "\n",
    "print('Tiempo insumido - TOTAL: '+str(round(t3-t0,2))+' seg', '('+str(round((t3-t0)/60,2))+' min)')\n",
    "print()\n",
    "print()\n",
    "print()"
   ]
  },
  {
   "cell_type": "code",
   "execution_count": null,
   "id": "e1bdd9c7-2a68-4a31-905f-780201bd2b1d",
   "metadata": {},
   "outputs": [],
   "source": [
    "EP1 = ep1_r_mean + 1j*ep1_i_mean\n",
    "S_fit = Scal*R_ep(EP1)\n",
    "\n",
    "fig , ax = plt.subplots(nrows=1, ncols=3, figsize=(16,6))\n",
    "\n",
    "ax[0].plot(fpos/1e9,np.real(Star),'-.',label=\"Medicion\")\n",
    "ax[0].plot(fpos/1e9,np.real(S_fit),label=\"Ajuste\")\n",
    "ax[0].grid()\n",
    "ax[0].set_xlabel('Frec [GHz]')\n",
    "ax[0].set_title('Parte Real')\n",
    "ax[0].legend(loc=\"best\")\n",
    "\n",
    "ax[1].plot(fpos/1e9,np.imag(Star),'-.',label=\"Medicion\")\n",
    "ax[1].plot(fpos/1e9,np.imag(S_fit),label=\"Ajuste\")\n",
    "ax[1].grid()\n",
    "ax[1].set_xlabel('Frec [GHz]')\n",
    "ax[1].set_title('Parte Imag.')\n",
    "ax[1].legend(loc=\"best\")\n",
    "\n",
    "ax[2].plot(fpos/1e9,np.abs(Star),'-.',label=\"Medicion\")\n",
    "ax[2].plot(fpos/1e9,np.abs(S_fit),label=\"Ajuste\")\n",
    "ax[2].grid()\n",
    "ax[2].set_xlabel('Frec [GHz]')\n",
    "ax[2].set_title('Módulo')\n",
    "ax[2].legend(loc=\"best\")\n",
    "plt.show()"
   ]
  }
 ],
 "metadata": {
  "kernelspec": {
   "display_name": "Python 3",
   "language": "python",
   "name": "python3"
  },
  "language_info": {
   "codemirror_mode": {
    "name": "ipython",
    "version": 3
   },
   "file_extension": ".py",
   "mimetype": "text/x-python",
   "name": "python",
   "nbconvert_exporter": "python",
   "pygments_lexer": "ipython3",
   "version": "3.8.8"
  }
 },
 "nbformat": 4,
 "nbformat_minor": 5
}
