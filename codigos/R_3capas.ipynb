{
 "cells": [
  {
   "cell_type": "markdown",
   "id": "b4b33157-87e8-40fe-a000-03a55a21ead9",
   "metadata": {},
   "source": [
    "## Coeficiente de fresnell para 3 capas de dieléctrico"
   ]
  },
  {
   "cell_type": "code",
   "execution_count": null,
   "id": "ff186dce-f152-4598-a0b3-ab2923d7693e",
   "metadata": {},
   "outputs": [],
   "source": [
    "import numpy as np"
   ]
  },
  {
   "cell_type": "code",
   "execution_count": 1,
   "id": "c45eef02-60ea-4167-9b29-3d0693a59977",
   "metadata": {},
   "outputs": [],
   "source": [
    "def R_3capas(ep1, ep2, ep3, d1, d2, f):\n",
    "  '''\n",
    "  Coeficiente de reflexion de fresnell 2 interfases\n",
    "    Entradas:\n",
    "    -ep1: ϵ de la 1ra capa\n",
    "    -ep2: ϵ de la 2da capa\n",
    "    -ep: ϵ de la 3ra capa\n",
    "    -d1: ancho de la 1er capa\n",
    "    -d2: ancho de la 2da capa\n",
    "    -f: frecuencia incidente\n",
    "\n",
    "    Salidas:\n",
    "    -R\n",
    "  '''\n",
    "  import numpy as np\n",
    "  phi1 = (2*np.pi*f*np.sqrt(ep1)*d1)/3e8\n",
    "  phi2 = (2*np.pi*f*np.sqrt(ep2)*d2)/3e8\n",
    "  R0 = (1-np.sqrt(ep1))/(1+np.sqrt(ep1))\n",
    "  R1 = (np.sqrt(ep1)-np.sqrt(ep2))/(np.sqrt(ep1)+np.sqrt(ep2))\n",
    "  R2 = (np.sqrt(ep2)-np.sqrt(ep3))/(np.sqrt(ep2)+np.sqrt(ep3))\n",
    "\n",
    "  RR1=(R1+R2*np.exp(-2*1j*phi2))/(1+R1*R2*np.exp(-2*1j*phi2))\n",
    "\n",
    "  a = R0+RR1*np.exp(-2*1j*phi1)\n",
    "  b = 1+R0*RR1*np.exp(-2*1j*phi1)\n",
    "\n",
    "  R = a/b\n",
    "  return R"
   ]
  },
  {
   "cell_type": "code",
   "execution_count": null,
   "id": "e025b199-e4ec-4fef-a808-a9a43f8d3dd3",
   "metadata": {},
   "outputs": [],
   "source": []
  }
 ],
 "metadata": {
  "kernelspec": {
   "display_name": "Python 3",
   "language": "python",
   "name": "python3"
  },
  "language_info": {
   "codemirror_mode": {
    "name": "ipython",
    "version": 3
   },
   "file_extension": ".py",
   "mimetype": "text/x-python",
   "name": "python",
   "nbconvert_exporter": "python",
   "pygments_lexer": "ipython3",
   "version": "3.8.8"
  }
 },
 "nbformat": 4,
 "nbformat_minor": 5
}
