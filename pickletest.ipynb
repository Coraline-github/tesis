{
 "cells": [
  {
   "cell_type": "markdown",
   "metadata": {},
   "source": [
    "# Analisis"
   ]
  },
  {
   "cell_type": "code",
   "execution_count": 8,
   "metadata": {},
   "outputs": [],
   "source": [
    "import numpy as np\n",
    "from sklearn import linear_model\n",
    "from matplotlib import pyplot as plt"
   ]
  },
  {
   "cell_type": "code",
   "execution_count": 38,
   "metadata": {},
   "outputs": [],
   "source": [
    "%run codigos/mv_to_ep.ipynb\n",
    "%run codigos/R_Fresnel.ipynb"
   ]
  },
  {
   "cell_type": "code",
   "execution_count": 9,
   "metadata": {},
   "outputs": [],
   "source": [
    "#-----------------------------------\n",
    "## Parámetros globales de la antena\n",
    "#-----------------------------------\n",
    "\n",
    "Fs = 23.328e9 #Frecuencia de muestreo [Hz] \n",
    "Ts = 1/Fs\n",
    "BW = 1.5e9 \n",
    "corte = 150\n",
    "Nfft= 1024 # nro de frecs -> conviene que sea multiplo de 2 para calcular la FFT de manera eficiente. \n",
    "#Tiene que ser mayor a la longitud de la señal (285 para 2m, 439 para 3m)\n",
    "\n",
    "#------------------------------\n",
    "#Elegir frecuencia portadora\n",
    "#------------------------------\n",
    "portadora = input('portadora? (Fc7 o Fc8)')\n",
    "\n",
    "if portadora == 'Fc7':\n",
    "    fc = 7.290e9 \n",
    "    Fc = '7.29GHz'\n",
    "elif portadora == 'Fc8':\n",
    "    fc = 8.748e9\n",
    "    Fc = '8.74GHz'\n",
    "else:\n",
    "    print('Error: portadora debe ser Fc7 o Fc8')"
   ]
  },
  {
   "cell_type": "markdown",
   "metadata": {},
   "source": [
    "## Importo variables"
   ]
  },
  {
   "cell_type": "code",
   "execution_count": 10,
   "metadata": {},
   "outputs": [
    {
     "name": "stdout",
     "output_type": "stream",
     "text": [
      "dict_keys(['h1_may', 'h2_may', 'f_may', 'S1_may', 'S2_may'])\n",
      "dict_keys(['h1_jun', 'h2_jun', 'f_jun', 'S1_jun', 'S2_jun', 'hz_jun', 'Z2_jun', 'tita_jun'])\n",
      "dict_keys(['h1_jul', 'h2_jul', 'f_jul', 'S1_jul', 'S2_jul', 'hz_jul', 'Z2_jul', 'tita_jul'])\n",
      "dict_keys(['h_ag', 'f_ag', 'S1A_ag', 'S1B_ag', 'S2_ag', 'M2_ag', 'hz_ag', 'Z2_ag', 'MZ2_ag', 'tita_ag'])\n"
     ]
    }
   ],
   "source": [
    "import pickle\n",
    "if portadora == 'Fc8':\n",
    "    with open('mayo_Fc8.pkl','rb') as g1:\n",
    "        Mayo8 = pickle.load(g1)\n",
    "    with open('junio_Fc8.pkl','rb') as g2:\n",
    "        Junio8 = pickle.load(g2)\n",
    "    with open('julio_Fc8.pkl','rb') as g3:\n",
    "        Julio8 = pickle.load(g3)\n",
    "    with open('agosto_Fc8.pkl','rb') as g4:\n",
    "        Agosto8 = pickle.load(g4)\n",
    "\n",
    "    print(Mayo8.keys())\n",
    "    print(Junio8.keys())\n",
    "    print(Julio8.keys())\n",
    "    print(Agosto8.keys())\n",
    "else:\n",
    "    with open('mayo_Fc7.pkl','rb') as g1:\n",
    "        Mayo7 = pickle.load(g1)\n",
    "    with open('junio_Fc7.pkl','rb') as g2:\n",
    "        Junio7 = pickle.load(g2)\n",
    "    with open('julio_Fc7.pkl','rb') as g3:\n",
    "        Julio7 = pickle.load(g3)\n",
    "    with open('agosto_Fc7.pkl','rb') as g4:\n",
    "        Agosto7 = pickle.load(g4)\n",
    "    print(Mayo7.keys())\n",
    "    print(Junio7.keys())\n",
    "    print(Julio7.keys())\n",
    "    print(Agosto7.keys())"
   ]
  },
  {
   "cell_type": "code",
   "execution_count": 50,
   "metadata": {},
   "outputs": [
    {
     "name": "stdout",
     "output_type": "stream",
     "text": [
      "[-1.34033528e-02-5.02637104e-03j -9.59640280e-03-3.70414463e-03j\n",
      " -5.64206435e-03-4.89325762e-03j -2.86208938e-03-8.18393809e-03j\n",
      " -2.34382533e-03-1.26600102e-02j -4.37641993e-03-1.65020592e-02j\n",
      " -7.47733655e-03-1.84195298e-02j -1.03131169e-02-1.91415045e-02j\n",
      " -1.33628073e-02-1.92405551e-02j -1.64447938e-02-1.76749472e-02j\n",
      " -1.76486426e-02-1.47485808e-02j -1.68855919e-02-1.28147656e-02j\n",
      " -1.62906287e-02-1.22351852e-02j -1.59100980e-02-1.13466950e-02j\n",
      " -1.42380358e-02-1.08808088e-02j -1.27157836e-02-1.26673249e-02j\n",
      " -1.36311578e-02-1.50259381e-02j -1.54710026e-02-1.55755317e-02j\n",
      " -1.63415146e-02-1.56824580e-02j -1.78996881e-02-1.63890651e-02j\n",
      " -2.04512445e-02-1.52161033e-02j -2.04870267e-02-1.20535942e-02j\n",
      " -1.74906606e-02-1.10403483e-02j -1.53022084e-02-1.32221922e-02j\n",
      " -1.47837874e-02-1.59484370e-02j -1.45588163e-02-1.98062006e-02j\n",
      " -1.75319092e-02-2.58623795e-02j -2.56880242e-02-2.92519178e-02j\n",
      " -3.34764586e-02-2.68426255e-02j -3.77409247e-02-2.40926184e-02j\n",
      " -4.46177526e-02-2.29535187e-02j -5.51864659e-02-1.50569573e-02j\n",
      " -5.85877993e-02+1.70418606e-03j -5.03595153e-02+1.60245258e-02j\n",
      " -3.96021117e-02+2.24174158e-02j -2.95200748e-02+2.74801041e-02j\n",
      " -1.31760376e-02+3.01521153e-02j  5.85082484e-03+2.00514133e-02j\n",
      "  1.41369788e-02-5.24037388e-04j  1.13676167e-02-1.91711036e-02j\n",
      "  5.60921406e-03-3.64003127e-02j -9.40368407e-03-5.77496925e-02j\n",
      " -4.24393511e-02-7.06945662e-02j -8.02947075e-02-5.99767256e-02j\n",
      " -1.05207435e-01-3.34308539e-02j -1.20555089e-01-3.38366418e-03j\n",
      " -1.30283928e-01+3.72948880e-02j -1.16664216e-01+9.09237404e-02j\n",
      " -6.87360921e-02+1.32561559e-01j -6.64806893e-03+1.40529482e-01j\n",
      "  4.76037671e-02+1.21656922e-01j  9.26461254e-02+8.47454522e-02j\n",
      "  1.21746498e-01+2.43128662e-02j  1.12702923e-01-4.99490028e-02j\n",
      "  6.27060337e-02-1.05475002e-01j -2.46831189e-03-1.24637125e-01j\n",
      " -6.42853255e-02-1.15594649e-01j -1.20004944e-01-8.13925676e-02j\n",
      " -1.54988160e-01-1.80549675e-02j -1.47944622e-01+5.64189549e-02j\n",
      " -1.03915165e-01+1.10568071e-01j -4.70868491e-02+1.34480689e-01j\n",
      "  1.13773764e-02+1.34979034e-01j  6.77196577e-02+1.09616571e-01j\n",
      "  1.04795581e-01+5.70913533e-02j  1.08189413e-01-3.42328685e-03j\n",
      "  8.67294737e-02-5.13086669e-02j  5.41330107e-02-8.54707578e-02j\n",
      "  1.03322852e-02-1.07951423e-01j -4.29274234e-02-1.09234771e-01j\n",
      " -9.06499731e-02-8.41792201e-02j -1.19792349e-01-4.16482122e-02j\n",
      " -1.26635456e-01+7.37704247e-03j -1.09620691e-01+5.19686618e-02j\n",
      " -7.56789607e-02+7.71652253e-02j -4.51269292e-02+7.97581692e-02j\n",
      " -2.86081183e-02+7.75507108e-02j -1.21814678e-02+8.29059728e-02j\n",
      "  1.64235821e-02+8.31790483e-02j  4.57683246e-02+6.43944714e-02j\n",
      "  6.05376026e-02+3.31741413e-02j  6.05705097e-02+9.62099940e-04j\n",
      "  4.79576286e-02-2.95183089e-02j  2.03302966e-02-5.16959475e-02j\n",
      " -1.41712119e-02-5.44792974e-02j -3.97595976e-02-4.08757475e-02j\n",
      " -5.43291421e-02-2.40871042e-02j -6.54103482e-02-5.61643761e-03j\n",
      " -6.93010867e-02+1.98024869e-02j -5.79461465e-02+4.45155128e-02j\n",
      " -3.80931412e-02+5.69332896e-02j -2.09383144e-02+6.04035912e-02j\n",
      " -4.08221276e-03+6.21602007e-02j  1.66932174e-02+5.67827176e-02j\n",
      "  3.24413289e-02+3.90492995e-02j  3.48377140e-02+1.78209099e-02j\n",
      "  2.91171176e-02+2.12898158e-03j  2.07934243e-02-1.01600137e-02j\n",
      "  6.92874858e-03-1.96094411e-02j -1.07874422e-02-1.94967254e-02j\n",
      " -2.27425166e-02-1.00781353e-02j -2.68926545e-02-5.45569864e-04j\n",
      " -3.00979294e-02+7.01187576e-03j -3.22374124e-02+1.83773408e-02j\n",
      " -2.61687084e-02+3.16976496e-02j -1.29117130e-02+3.80045299e-02j\n",
      " -1.05013262e-03+3.58451717e-02j  6.65313839e-03+3.08686467e-02j\n",
      "  1.26517687e-02+2.43998643e-02j  1.52723545e-02+1.50378490e-02j\n",
      "  1.18902479e-02+6.51342365e-03j  6.14666184e-03+3.02124030e-03j\n",
      "  2.40038435e-03+2.14390526e-03j -1.18023543e-03+6.57604039e-04j\n",
      " -6.83153049e-03+1.01317066e-03j -1.12640695e-02+5.57336288e-03j\n",
      " -1.13815824e-02+1.11542733e-02j -9.33903270e-03+1.45305552e-02j\n",
      " -7.42196442e-03+1.69889368e-02j -4.18814444e-03+1.95603341e-02j\n",
      "  8.90826259e-04+1.99026198e-02j  4.85949477e-03+1.70153826e-02j\n",
      "  6.04813196e-03+1.35410295e-02j  6.22749114e-03+1.11309259e-02j\n",
      "  6.24524367e-03+8.54315709e-03j  4.54895850e-03+5.82783666e-03j\n",
      "  1.45646424e-03+5.36594148e-03j -2.68309840e-05+7.29739012e-03j\n",
      "  9.19721063e-04+8.61789480e-03j  1.74927246e-03+8.15097762e-03j\n",
      "  1.37919080e-03+8.00029091e-03j  1.76991459e-03+8.99596928e-03j\n",
      "  3.67127132e-03+9.13727552e-03j  5.18404114e-03+7.55915715e-03j\n",
      "  5.42814010e-03+5.75989036e-03j  5.41248613e-03+4.23147334e-03j\n",
      "  4.86745973e-03+2.12743252e-03j  2.55204787e-03+4.48881967e-04j\n",
      " -2.88474419e-04+1.17808708e-03j -1.09842882e-03+3.41942204e-03j\n",
      " -1.85328387e-04+4.60531509e-03j  3.72991692e-04+4.73586335e-03j\n",
      "  7.89101691e-04+5.34737439e-03j  2.44410190e-03+5.72878792e-03j\n",
      "  4.32641950e-03+4.22138123e-03j  4.43845175e-03+1.63856941e-03j\n",
      "  3.03827881e-03-7.07945222e-05j  1.50991900e-03-6.95488888e-04j\n",
      "  1.07364799e-04-8.25403680e-04j -1.14866626e-03-3.80763921e-04j\n",
      " -1.80670108e-03+3.43192655e-04j -2.30293297e-03+7.33349234e-04j\n",
      " -3.29847574e-03+1.50140954e-03j]\n"
     ]
    }
   ],
   "source": [
    "print(Mayo8.get('S1_may')[2,:])"
   ]
  },
  {
   "cell_type": "code",
   "execution_count": 11,
   "metadata": {},
   "outputs": [],
   "source": [
    "#chequeo que las frecuencias sean iguales\n",
    "# fm = Mayo8.get('f_may')\n",
    "# fjn = Junio8.get('f_jun')\n",
    "# fjl = Julio8.get('f_jul')\n",
    "# fa = Agosto8.get('f_ag')\n",
    "\n",
    "# L = [fm,fjn,fjl,fa]\n",
    "# out = (np.diff(np.vstack(L).reshape(len(L),-1),axis=0)==0).all()\n",
    "# print('todas las frecuencias son siempre iguales?',out)\n",
    "\n",
    "# if out:\n",
    "#     f = fm\n",
    "#     print('renombro las frecuencias como f')\n",
    "# else:\n",
    "#     print('diferentes')\n",
    "\n",
    "f = Mayo8.get('f_may')"
   ]
  },
  {
   "cell_type": "code",
   "execution_count": 14,
   "metadata": {},
   "outputs": [],
   "source": [
    "with open('codigos/hydra_may.pkl','rb') as g5:\n",
    "        hydra_may = pickle.load(g5)\n",
    "with open('codigos/hydra_jun.pkl','rb') as g6:\n",
    "        hydra_jun = pickle.load(g6)\n",
    "with open('codigos/hydra_jul.pkl','rb') as g7:\n",
    "        hydra_jul = pickle.load(g7)\n",
    "with open('codigos/hydra_ag.pkl','rb') as g8:\n",
    "        hydra_ag = pickle.load(g8)"
   ]
  },
  {
   "cell_type": "markdown",
   "metadata": {},
   "source": [
    "## \n"
   ]
  },
  {
   "cell_type": "markdown",
   "metadata": {},
   "source": [
    "# Valores para el modelo de suelo"
   ]
  },
  {
   "cell_type": "code",
   "execution_count": 39,
   "metadata": {},
   "outputs": [
    {
     "name": "stdout",
     "output_type": "stream",
     "text": [
      "0.0 0.376\n"
     ]
    }
   ],
   "source": [
    "mv_min_med = np.min([np.min(hydra_may.get('mv_med_may')), np.min(hydra_jun.get('mv_med_jun')), np.min(hydra_jul.get('mv_med_jul')), np.min(hydra_ag.get('mv_med_ag'))])\n",
    "mv_max_med = np.max([np.max(hydra_may.get('mv_med_may')), np.max(hydra_jun.get('mv_med_jun')), np.max(hydra_jul.get('mv_med_jul')), np.max(hydra_ag.get('mv_med_ag'))])\n",
    "print(mv_min_med,mv_max_med)"
   ]
  },
  {
   "cell_type": "code",
   "execution_count": 40,
   "metadata": {},
   "outputs": [
    {
     "name": "stdout",
     "output_type": "stream",
     "text": [
      "ep min: (2.007-0.198j)\n",
      "ep max: (28.246537500000002+6.16719125j)\n"
     ]
    }
   ],
   "source": [
    "#grilla de valores para MV\n",
    "mv_min, mv_max, n_mv = 0, 0.55, 100\n",
    "MV = np.linspace(mv_min,mv_max,n_mv)\n",
    "\n",
    "Sand = 0.5\n",
    "Clay = 0.5\n",
    "\n",
    "ep_teo = mv_to_ep(MV,Sand,Clay,0)['ep']\n",
    "\n",
    "#usando el error\n",
    "#ep_std = 0.01 #std para estimar el error en ep del modelo teórico\n",
    "#ep_teo = mv_to_ep(MV,Sand,Clay,ep_std)['ep']\n",
    "#ep_error = mod.mv_to_ep(MV,Sand, Clay,ep_std)['ep_error']\n",
    "\n",
    "ep_min, ep_max = np.min(ep_teo), np.max(ep_teo)\n",
    "print('ep min:', ep_min)\n",
    "print('ep max:', ep_max)\n"
   ]
  },
  {
   "cell_type": "markdown",
   "metadata": {},
   "source": [
    "## medio semi-infinito"
   ]
  },
  {
   "cell_type": "code",
   "execution_count": 56,
   "metadata": {},
   "outputs": [
    {
     "name": "stdout",
     "output_type": "stream",
     "text": [
      "153\n"
     ]
    },
    {
     "ename": "ValueError",
     "evalue": "could not broadcast input array from shape (153,) into shape (100,)",
     "output_type": "error",
     "traceback": [
      "\u001b[0;31m---------------------------------------------------------------------------\u001b[0m",
      "\u001b[0;31mValueError\u001b[0m                                Traceback (most recent call last)",
      "\u001b[1;32m/home/gordotony/Documents/GitHub/tesis/pickletest.ipynb Cell 15\u001b[0m in \u001b[0;36m<cell line: 10>\u001b[0;34m()\u001b[0m\n\u001b[1;32m     <a href='vscode-notebook-cell:/home/gordotony/Documents/GitHub/tesis/pickletest.ipynb#X16sZmlsZQ%3D%3D?line=13'>14</a>\u001b[0m \u001b[39m#coef de reflexion depende solo de ep\u001b[39;00m\n\u001b[1;32m     <a href='vscode-notebook-cell:/home/gordotony/Documents/GitHub/tesis/pickletest.ipynb#X16sZmlsZQ%3D%3D?line=14'>15</a>\u001b[0m R \u001b[39m=\u001b[39m R_1capa(ep)\n\u001b[0;32m---> <a href='vscode-notebook-cell:/home/gordotony/Documents/GitHub/tesis/pickletest.ipynb#X16sZmlsZQ%3D%3D?line=15'>16</a>\u001b[0m S1teo_may[hm,:] \u001b[39m=\u001b[39m S1_may[hm,:]\u001b[39m*\u001b[39mR\n\u001b[1;32m     <a href='vscode-notebook-cell:/home/gordotony/Documents/GitHub/tesis/pickletest.ipynb#X16sZmlsZQ%3D%3D?line=17'>18</a>\u001b[0m \u001b[39m##error\u001b[39;00m\n\u001b[1;32m     <a href='vscode-notebook-cell:/home/gordotony/Documents/GitHub/tesis/pickletest.ipynb#X16sZmlsZQ%3D%3D?line=18'>19</a>\u001b[0m e_mae[hm,i] \u001b[39m=\u001b[39m np\u001b[39m.\u001b[39msum(np\u001b[39m.\u001b[39mabs(np\u001b[39m.\u001b[39mabs(S1teo_may[hm])\u001b[39m-\u001b[39mnp\u001b[39m.\u001b[39mabs(S1_may[hm])))\u001b[39m/\u001b[39mnp\u001b[39m.\u001b[39mshape(S1_may)[\u001b[39m1\u001b[39m]\n",
      "\u001b[0;31mValueError\u001b[0m: could not broadcast input array from shape (153,) into shape (100,)"
     ]
    }
   ],
   "source": [
    "# vector para guardar las métricas de error\n",
    "h1_may = Mayo8.get('h1_may')\n",
    "S1_may = Mayo8.get('S1_may')\n",
    "e_mae = np.zeros((len(h1_may),n_mv),dtype=float)\n",
    "S1teo_may = np.zeros((len(h1_may),n_mv), dtype=complex)\n",
    "\n",
    "print(np.shape(S1_may)[1])\n",
    "\n",
    "#obs: len(ep_teo)=len(MV)=n_mv\n",
    "for hm in range(len(h1_may)):\n",
    "    for i in range(n_mv):\n",
    "        ep = ep_teo[i]\n",
    "    \n",
    "        #coef de reflexion depende solo de ep\n",
    "        R = R_1capa(ep)\n",
    "        S1teo_may[hm,i] = S1_may[hm,:]*R\n",
    "\n",
    "        ##error\n",
    "        e_mae[hm,i] = np.sum(np.abs(np.abs(S1teo_may[hm])-np.abs(S1_may[hm])))/np.shape(S1_may)[1]\n",
    "\n",
    "    ind = np.zeros(len(h1_may))\n",
    "    ind[hm] = np.argmin(e_mae[hm])\n",
    "\n",
    "    # mv_op = MV[ind]\n",
    "    # ep_op = ep_teo[ind]\n",
    "    # S_op = Scal_avg_fpos*R_1capa(ep_op)\n",
    "    # error_mae = e_mae[ind]"
   ]
  }
 ],
 "metadata": {
  "kernelspec": {
   "display_name": "Python 3.8.10 64-bit",
   "language": "python",
   "name": "python3"
  },
  "language_info": {
   "codemirror_mode": {
    "name": "ipython",
    "version": 3
   },
   "file_extension": ".py",
   "mimetype": "text/x-python",
   "name": "python",
   "nbconvert_exporter": "python",
   "pygments_lexer": "ipython3",
   "version": "3.8.10"
  },
  "orig_nbformat": 4,
  "vscode": {
   "interpreter": {
    "hash": "916dbcbb3f70747c44a77c7bcd40155683ae19c65e1c03b4aa3499c5328201f1"
   }
  }
 },
 "nbformat": 4,
 "nbformat_minor": 2
}
