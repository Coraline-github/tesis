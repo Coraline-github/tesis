{
 "cells": [
  {
   "cell_type": "code",
   "execution_count": 5,
   "metadata": {},
   "outputs": [],
   "source": [
    "import numpy as np"
   ]
  },
  {
   "cell_type": "code",
   "execution_count": 1,
   "metadata": {},
   "outputs": [],
   "source": [
    "import pickle\n",
    "\n",
    "with open('mayo_Fc8.pkl','rb') as f:\n",
    "    Mayo8 = pickle.load(f)\n",
    "\n",
    "with open('junio_Fc8.pkl','rb') as g:\n",
    "    Junio8 = pickle.load(g)\n",
    "    "
   ]
  },
  {
   "cell_type": "code",
   "execution_count": 7,
   "metadata": {},
   "outputs": [
    {
     "name": "stdout",
     "output_type": "stream",
     "text": [
      "dict_keys(['h1_may', 'h2_may', 'f_may', 'S1_may', 'S2_may'])\n",
      "dict_keys(['h1_jun', 'h2_jun', 'f_jun', 'S1_jun', 'S2_jun', 'hz_jun', 'Z2_jun', 'tita_jun'])\n",
      "iguales frecuencias\n",
      "renombro como f\n"
     ]
    }
   ],
   "source": [
    "print(Mayo8.keys())\n",
    "print(Junio8.keys())\n",
    "\n",
    "fm = Mayo8.get('f_may')\n",
    "fj = Junio8.get('f_jun')\n",
    "\n",
    "if np.array_equal(fm,fj) == True:\n",
    "    print('iguales frecuencias')\n",
    "    print('renombro como f')\n",
    "    f = fm\n",
    "else:\n",
    "    print('no son iguales las frecuencias')"
   ]
  }
 ],
 "metadata": {
  "kernelspec": {
   "display_name": "Python 3.8.8 ('base')",
   "language": "python",
   "name": "python3"
  },
  "language_info": {
   "codemirror_mode": {
    "name": "ipython",
    "version": 3
   },
   "file_extension": ".py",
   "mimetype": "text/x-python",
   "name": "python",
   "nbconvert_exporter": "python",
   "pygments_lexer": "ipython3",
   "version": "3.8.8"
  },
  "orig_nbformat": 4,
  "vscode": {
   "interpreter": {
    "hash": "f6180580deba733ae6b67ff07d0619bc0e45d8154c010e604be71bef248e603e"
   }
  }
 },
 "nbformat": 4,
 "nbformat_minor": 2
}
