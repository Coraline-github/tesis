{
 "cells": [
  {
   "cell_type": "markdown",
   "metadata": {},
   "source": [
    "# Analisis"
   ]
  },
  {
   "cell_type": "code",
   "execution_count": null,
   "metadata": {},
   "outputs": [],
   "source": [
    "import numpy as np\n",
    "from sklearn import linear_model\n",
    "from matplotlib import pyplot as plt"
   ]
  },
  {
   "cell_type": "code",
   "execution_count": null,
   "metadata": {},
   "outputs": [],
   "source": [
    "#-----------------------------------\n",
    "## Parámetros globales de la antena\n",
    "#-----------------------------------\n",
    "\n",
    "Fs = 23.328e9 #Frecuencia de muestreo [Hz] \n",
    "Ts = 1/Fs\n",
    "BW = 1.5e9 \n",
    "corte = 150\n",
    "Nfft= 1024 # nro de frecs -> conviene que sea multiplo de 2 para calcular la FFT de manera eficiente. \n",
    "#Tiene que ser mayor a la longitud de la señal (285 para 2m, 439 para 3m)\n",
    "\n",
    "#------------------------------\n",
    "#Elegir frecuencia portadora\n",
    "#------------------------------\n",
    "portadora = input('portadora? (Fc7 o Fc8)')\n",
    "\n",
    "if portadora == 'Fc7':\n",
    "    fc = 7.290e9 \n",
    "    Fc = '7.29GHz'\n",
    "elif portadora == 'Fc8':\n",
    "    fc = 8.748e9\n",
    "    Fc = '8.74GHz'\n",
    "else:\n",
    "    print('Error: portadora debe ser Fc7 o Fc8')"
   ]
  },
  {
   "cell_type": "markdown",
   "metadata": {},
   "source": [
    "## Importo variables"
   ]
  },
  {
   "cell_type": "code",
   "execution_count": 3,
   "metadata": {},
   "outputs": [],
   "source": [
    "import pickle\n",
    "if portadora == 'Fc8':\n",
    "    with open('mayo_Fc8.pkl','rb') as f:\n",
    "        Mayo8 = pickle.load(f)\n",
    "    with open('junio_Fc8.pkl','rb') as g:\n",
    "        Junio8 = pickle.load(g)\n",
    "    with open('julio_Fc8.pkl','rb') as r:\n",
    "        Julio8 = pickle.load(r)\n",
    "    with open('agosto_Fc8.pkl','rb') as t:\n",
    "        Agosto8 = pickle.load(t)\n",
    "\n",
    "    print(Mayo8.keys())\n",
    "    print(Junio8.keys())\n",
    "    print(Julio8.keys())\n",
    "    print(Agosto8.keys())\n",
    "else:\n",
    "    with open('mayo_Fc7.pkl','rb') as f:\n",
    "        Mayo7 = pickle.load(f)\n",
    "    with open('junio_Fc7.pkl','rb') as g:\n",
    "        Junio7 = pickle.load(g)\n",
    "    with open('julio_Fc7.pkl','rb') as r:\n",
    "        Julio7 = pickle.load(r)\n",
    "    with open('agosto_Fc7.pkl','rb') as t:\n",
    "        Agosto7 = pickle.load(t)\n",
    "    print(Mayo7.keys())\n",
    "    print(Junio7.keys())\n",
    "    print(Julio7.keys())\n",
    "    print(Agosto7.keys())"
   ]
  },
  {
   "cell_type": "code",
   "execution_count": 5,
   "metadata": {},
   "outputs": [
    {
     "name": "stdout",
     "output_type": "stream",
     "text": [
      "dict_keys(['h1_may', 'h2_may', 'f_may', 'S1_may', 'S2_may'])\n",
      "dict_keys(['h1_jun', 'h2_jun', 'f_jun', 'S1_jun', 'S2_jun', 'hz_jun', 'Z2_jun', 'tita_jun'])\n",
      "dict_keys(['h1_jul', 'h2_jul', 'f_jul', 'S1_jul', 'S2_jul', 'hz_jul', 'Z2_jul', 'tita_jul'])\n",
      "dict_keys(['h_ag', 'f_ag', 'S1A_ag', 'S1B_ag', 'S2_ag', 'M2_ag', 'hz_ag', 'Z2_ag', 'MZ2_ag', 'tita_ag'])\n"
     ]
    }
   ],
   "source": [
    "#Las mediciones ya transformadas y los datos de altura y angulo de incidencia por fecha\n"
   ]
  },
  {
   "cell_type": "code",
   "execution_count": 4,
   "metadata": {},
   "outputs": [
    {
     "name": "stdout",
     "output_type": "stream",
     "text": [
      "todas las frecuencias son siempre iguales? True\n",
      "renombro las frecuencias como f\n"
     ]
    }
   ],
   "source": [
    "#chequeo que las frecuencias sean iguales\n",
    "# fm = Mayo8.get('f_may')\n",
    "# fjn = Junio8.get('f_jun')\n",
    "# fjl = Julio8.get('f_jul')\n",
    "# fa = Agosto8.get('f_ag')\n",
    "\n",
    "# L = [fm,fjn,fjl,fa]\n",
    "# out = (np.diff(np.vstack(L).reshape(len(L),-1),axis=0)==0).all()\n",
    "# print('todas las frecuencias son siempre iguales?',out)\n",
    "\n",
    "# if out:\n",
    "#     f = fm\n",
    "#     print('renombro las frecuencias como f')\n",
    "# else:\n",
    "#     print('diferentes')\n",
    "\n",
    "f = Mayo8.get('f_may')"
   ]
  },
  {
   "cell_type": "markdown",
   "metadata": {},
   "source": [
    "## \n"
   ]
  },
  {
   "cell_type": "code",
   "execution_count": null,
   "metadata": {},
   "outputs": [],
   "source": []
  }
 ],
 "metadata": {
  "kernelspec": {
   "display_name": "Python 3.8.8 ('base')",
   "language": "python",
   "name": "python3"
  },
  "language_info": {
   "codemirror_mode": {
    "name": "ipython",
    "version": 3
   },
   "file_extension": ".py",
   "mimetype": "text/x-python",
   "name": "python",
   "nbconvert_exporter": "python",
   "pygments_lexer": "ipython3",
   "version": "3.8.8"
  },
  "orig_nbformat": 4,
  "vscode": {
   "interpreter": {
    "hash": "f6180580deba733ae6b67ff07d0619bc0e45d8154c010e604be71bef248e603e"
   }
  }
 },
 "nbformat": 4,
 "nbformat_minor": 2
}
