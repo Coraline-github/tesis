{
 "cells": [
  {
   "cell_type": "markdown",
   "metadata": {},
   "source": [
    "# Analisis"
   ]
  },
  {
   "cell_type": "code",
   "execution_count": null,
   "metadata": {},
   "outputs": [],
   "source": [
    "import numpy as np\n",
    "from sklearn import linear_model\n",
    "from matplotlib import pyplot as plt"
   ]
  },
  {
   "cell_type": "code",
   "execution_count": null,
   "metadata": {},
   "outputs": [],
   "source": [
    "%run codigos/mv_to_ep.ipynb\n",
    "%run codigos/R_Fresnel.ipynb"
   ]
  },
  {
   "cell_type": "code",
   "execution_count": null,
   "metadata": {},
   "outputs": [],
   "source": [
    "#-----------------------------------\n",
    "## Parámetros globales de la antena\n",
    "#-----------------------------------\n",
    "\n",
    "Fs = 23.328e9 #Frecuencia de muestreo [Hz] \n",
    "Ts = 1/Fs\n",
    "BW = 1.5e9 \n",
    "corte = 150\n",
    "Nfft= 1024 # nro de frecs -> conviene que sea multiplo de 2 para calcular la FFT de manera eficiente. \n",
    "#Tiene que ser mayor a la longitud de la señal (285 para 2m, 439 para 3m)\n",
    "\n",
    "#------------------------------\n",
    "#Elegir frecuencia portadora\n",
    "#------------------------------\n",
    "portadora = input('portadora? (Fc7 o Fc8)')\n",
    "\n",
    "if portadora == 'Fc7':\n",
    "    fc = 7.290e9 \n",
    "    Fc = '7.29GHz'\n",
    "elif portadora == 'Fc8':\n",
    "    fc = 8.748e9\n",
    "    Fc = '8.74GHz'\n",
    "else:\n",
    "    print('Error: portadora debe ser Fc7 o Fc8')"
   ]
  },
  {
   "cell_type": "markdown",
   "metadata": {},
   "source": [
    "## Importo variables"
   ]
  },
  {
   "cell_type": "code",
   "execution_count": 96,
   "metadata": {},
   "outputs": [
    {
     "name": "stdout",
     "output_type": "stream",
     "text": [
      "dict_keys(['h1_may', 'h2_may', 'f_may', 'S1_may', 'S2_may'])\n",
      "dict_keys(['h1_jun', 'h2_jun', 'f_jun', 'S1_jun', 'S2_jun', 'hz_jun', 'Z2_jun', 'tita_jun'])\n",
      "dict_keys(['h1_jul', 'h2_jul', 'f_jul', 'S1_jul', 'S2_jul', 'hz_jul', 'Z2_jul', 'tita_jul'])\n",
      "dict_keys(['h_ag', 'f_ag', 'S1A_ag', 'S1B_ag', 'S2_ag', 'M2_ag', 'hz_ag', 'Z2_ag', 'MZ2_ag', 'tita_ag'])\n"
     ]
    }
   ],
   "source": [
    "import pickle\n",
    "if portadora == 'Fc8':\n",
    "    with open('mayo_Fc8.pkl','rb') as g1:\n",
    "        Mayo8 = pickle.load(g1)\n",
    "    with open('junio_Fc8.pkl','rb') as g2:\n",
    "        Junio8 = pickle.load(g2)\n",
    "    with open('julio_Fc8.pkl','rb') as g3:\n",
    "        Julio8 = pickle.load(g3)\n",
    "    with open('agosto_Fc8.pkl','rb') as g4:\n",
    "        Agosto8 = pickle.load(g4)\n",
    "\n",
    "    print(Mayo8.keys())\n",
    "    print(Junio8.keys())\n",
    "    print(Julio8.keys())\n",
    "    print(Agosto8.keys())\n",
    "else:\n",
    "    with open('mayo_Fc7.pkl','rb') as g1:\n",
    "        Mayo7 = pickle.load(g1)\n",
    "    with open('junio_Fc7.pkl','rb') as g2:\n",
    "        Junio7 = pickle.load(g2)\n",
    "    with open('julio_Fc7.pkl','rb') as g3:\n",
    "        Julio7 = pickle.load(g3)\n",
    "    with open('agosto_Fc7.pkl','rb') as g4:\n",
    "        Agosto7 = pickle.load(g4)\n",
    "    print(Mayo7.keys())\n",
    "    print(Junio7.keys())\n",
    "    print(Julio7.keys())\n",
    "    print(Agosto7.keys())"
   ]
  },
  {
   "cell_type": "code",
   "execution_count": null,
   "metadata": {},
   "outputs": [],
   "source": [
    "# print(Mayo8.get('S1_may')[2,:])"
   ]
  },
  {
   "cell_type": "code",
   "execution_count": null,
   "metadata": {},
   "outputs": [],
   "source": [
    "#chequeo que las frecuencias sean iguales\n",
    "# fm = Mayo8.get('f_may')\n",
    "# fjn = Junio8.get('f_jun')\n",
    "# fjl = Julio8.get('f_jul')\n",
    "# fa = Agosto8.get('f_ag')\n",
    "\n",
    "# L = [fm,fjn,fjl,fa]\n",
    "# out = (np.diff(np.vstack(L).reshape(len(L),-1),axis=0)==0).all()\n",
    "# print('todas las frecuencias son siempre iguales?',out)\n",
    "\n",
    "# if out:\n",
    "#     f = fm\n",
    "#     print('renombro las frecuencias como f')\n",
    "# else:\n",
    "#     print('diferentes')\n",
    "\n",
    "f = Mayo8.get('f_may')"
   ]
  },
  {
   "cell_type": "code",
   "execution_count": null,
   "metadata": {},
   "outputs": [],
   "source": [
    "with open('codigos/hydra_may.pkl','rb') as g5:\n",
    "        hydra_may = pickle.load(g5)\n",
    "with open('codigos/hydra_jun.pkl','rb') as g6:\n",
    "        hydra_jun = pickle.load(g6)\n",
    "with open('codigos/hydra_jul.pkl','rb') as g7:\n",
    "        hydra_jul = pickle.load(g7)\n",
    "with open('codigos/hydra_ag.pkl','rb') as g8:\n",
    "        hydra_ag = pickle.load(g8)"
   ]
  },
  {
   "cell_type": "code",
   "execution_count": 97,
   "metadata": {},
   "outputs": [],
   "source": [
    "h1_may = Mayo8.get('h1_may')\n",
    "S1_may = Mayo8.get('S1_may')\n",
    "S2_may = Mayo8.get('S2_may')\n",
    "#---------------------------\n",
    "h1_jun = Junio8.get('h1_jun')\n",
    "S1_jun = Junio8.get('S1_jun')\n",
    "S2_jun = Junio8.get('S2_jun')\n",
    "#---------------------------\n",
    "h1_jul = Julio8.get('h1_jul')\n",
    "S1_jul = Julio8.get('S1_jul')\n",
    "S2_jul = Julio8.get('S2_jul')\n",
    "#---------------------------\n",
    "h_ag = Agosto8.get('h_ag')\n",
    "S1A_ag = Agosto8.get('S1A_ag')\n",
    "S1B_ag = Agosto8.get('S1B_ag')\n",
    "S2_ag = Agosto8.get('S2_ag')\n",
    "M2_ag = Agosto8.get('M2_ag')\n"
   ]
  },
  {
   "cell_type": "markdown",
   "metadata": {},
   "source": [
    "## \n"
   ]
  },
  {
   "cell_type": "markdown",
   "metadata": {},
   "source": [
    "# Valores para el modelo de suelo"
   ]
  },
  {
   "cell_type": "code",
   "execution_count": null,
   "metadata": {},
   "outputs": [],
   "source": [
    "mv_min_med = np.min([np.min(hydra_may.get('mv_med_may')), np.min(hydra_jun.get('mv_med_jun')), np.min(hydra_jul.get('mv_med_jul')), np.min(hydra_ag.get('mv_med_ag'))])\n",
    "mv_max_med = np.max([np.max(hydra_may.get('mv_med_may')), np.max(hydra_jun.get('mv_med_jun')), np.max(hydra_jul.get('mv_med_jul')), np.max(hydra_ag.get('mv_med_ag'))])\n",
    "print(mv_min_med,mv_max_med)"
   ]
  },
  {
   "cell_type": "code",
   "execution_count": null,
   "metadata": {},
   "outputs": [],
   "source": [
    "#grilla de valores para MV\n",
    "mv_min, mv_max, n_mv = 0, 5, 10000\n",
    "MV = np.linspace(mv_min,mv_max,n_mv)\n",
    "\n",
    "Sand = 0.5\n",
    "Clay = 0.5\n",
    "\n",
    "ep_teo = mv_to_ep(MV,Sand,Clay,0)['ep']\n",
    "\n",
    "#usando el error\n",
    "#ep_std = 0.01 #std para estimar el error en ep del modelo teórico\n",
    "#ep_teo = mv_to_ep(MV,Sand,Clay,ep_std)['ep']\n",
    "#ep_error = mod.mv_to_ep(MV,Sand, Clay,ep_std)['ep_error']\n",
    "\n",
    "ep_min, ep_max = np.min(ep_teo), np.max(ep_teo)\n",
    "print('ep min:', ep_min)\n",
    "print('ep max:', ep_max)\n",
    "print(np.shape(ep_teo))"
   ]
  },
  {
   "cell_type": "markdown",
   "metadata": {},
   "source": [
    "## medio semi-infinito"
   ]
  },
  {
   "cell_type": "code",
   "execution_count": null,
   "metadata": {},
   "outputs": [],
   "source": [
    "\n",
    "ind = []\n",
    "for i in range(len(h1_may)):\n",
    "    aux = np.zeros(n_mv,dtype=float)\n",
    "    for j in range(n_mv):\n",
    "        ep = ep_teo[j]\n",
    "    \n",
    "        #coef de reflexion depende solo de ep\n",
    "        R = R_1capa(ep)\n",
    "        S2teo_may = S1_may[i]*R\n",
    "        error = np.sum(np.abs(np.abs(S2teo_may)-np.abs(S1_may)))/np.shape(S1_may)[1]\n",
    "        ##error\n",
    "        aux[j] = error  \n",
    "    ind.append(np.argmin(aux))\n",
    "# ind = np.asarray(ind).T\n",
    "# print(np.shape(ind))\n",
    "print(ind)\n",
    "type(ind)\n"
   ]
  },
  {
   "cell_type": "code",
   "execution_count": null,
   "metadata": {},
   "outputs": [],
   "source": [
    "#LE FALTA PERFECCIONAMIENTO --> FUNCION EN R_FRESNEL\n",
    "for i in range(len(h1_may)):\n",
    "    ind_i = ind[i]\n",
    "    if ind_i < 9999:\n",
    "        print(ind_i)\n",
    "        mv_op = MV[ind[i]]\n",
    "        ep_op = ep_teo[ind[i]]\n",
    "        S_op = S1_may*R_1capa(ep_op)\n",
    "        error_mae = e_mae[i,ind[i]]\n",
    "\n",
    "        plt.plot(f,np.abs(S_op[i]), label='teo')\n",
    "        plt.plot(f,np.abs(S2_may[i]), label='med')\n",
    "        plt.legend()\n",
    "    else:\n",
    "        print('error')\n",
    "\n",
    "    \n",
    "# print(np.shape(S_op))"
   ]
  },
  {
   "cell_type": "code",
   "execution_count": null,
   "metadata": {},
   "outputs": [],
   "source": [
    "S2_teo_jun = S_teo_A(h1_jun, f, S1_jun, S2_jun, ep_teo, n_mv)\n",
    "print(np.shape(S2_teo_jun))"
   ]
  },
  {
   "cell_type": "markdown",
   "metadata": {},
   "source": [
    "## Modelo 2 capas"
   ]
  },
  {
   "cell_type": "code",
   "execution_count": 107,
   "metadata": {},
   "outputs": [
    {
     "name": "stdout",
     "output_type": "stream",
     "text": [
      "ep1: (2.007-0.198j) (801.11815+52.46114999999999j)\n",
      "ep2: (2.30805-0.22769999999999999j) (1087.231775+71.19727499999999j)\n",
      "d: 0.0 0.08\n"
     ]
    }
   ],
   "source": [
    "n_ep = 20\n",
    "ep1Range = np.linspace(ep_min,0.7*ep_max,n_ep)\n",
    "ep2Range = np.linspace(1.15*ep_min,0.95*ep_max,n_ep)\n",
    "\n",
    "print('ep1:',ep1Range[0],ep1Range[-1])\n",
    "print('ep2:',ep2Range[0],ep2Range[-1])\n",
    "\n",
    "# espesor de la primera capa\n",
    "d_min, d_max, n_d = 0, 0.08, 40\n",
    "dRange = np.linspace(d_min,d_max,n_d)\n",
    "\n",
    "print('d:',np.min(dRange),np.max(dRange))"
   ]
  },
  {
   "cell_type": "markdown",
   "metadata": {},
   "source": [
    "### Agosto"
   ]
  },
  {
   "cell_type": "code",
   "execution_count": 101,
   "metadata": {},
   "outputs": [
    {
     "name": "stdout",
     "output_type": "stream",
     "text": [
      "(2, 153) (2, 153)\n"
     ]
    }
   ],
   "source": [
    "print(np.shape(S1A_ag), np.shape(S1B_ag))"
   ]
  },
  {
   "cell_type": "code",
   "execution_count": 109,
   "metadata": {},
   "outputs": [
    {
     "name": "stdout",
     "output_type": "stream",
     "text": [
      "(153,)\n",
      "indices optimos (39, 1, 19)\n",
      "indices optimos (39, 1, 19)\n"
     ]
    }
   ],
   "source": [
    "# vector para guardar el error para cada para (EP1,EP2) usado en el ajuste\n",
    "Err_A = np.zeros((n_d,n_ep,n_ep),dtype=float)\n",
    "Err_B = np.zeros((n_d,n_ep,n_ep),dtype=float)\n",
    "# vector en donde guardo la señal teórica que mejor ajusta a cada medición\n",
    "S_optima = np.zeros(np.shape(S1A_ag)[1], dtype=complex)\n",
    "print(np.shape(S_optima))\n",
    "for i0 in range(n_d):\n",
    "    D = dRange[i0]\n",
    "    for i1 in range(n_ep):\n",
    "        EP1 = ep1Range[i1]\n",
    "        for i2 in range(n_ep):\n",
    "            EP2 = ep2Range[i2]\n",
    "\n",
    "            # coef de reflexión con EP1, EP2, D\n",
    "            R = R_ep1_ep2(EP1,EP2,D,f)\n",
    "            SA_teo = S1A_ag[1]*R \n",
    "            SB_teo = S1B_ag[1]*R\n",
    "            ## Calculo métricas de error #\n",
    "            Err_A[i0,i1,i2] = np.sum(np.abs(np.abs(SA_teo)-np.abs(S1A_ag[1])))/len(SA_teo)\n",
    "            Err_B[i0,i1,i2] = np.sum(np.abs(np.abs(SB_teo)-np.abs(S1B_ag[1])))/len(SB_teo)\n",
    "\n",
    "print('indices optimos', np.unravel_index(Err_A.argmin(),Err_A.shape))\n",
    "print('indices optimos', np.unravel_index(Err_B.argmin(),Err_B.shape))\n",
    "# indice_d_opt = np.unravel_index(Errores.argmin(),Errores.shape)[0]\n",
    "# D_opt = dRange[indice_d_opt]\n",
    "\n",
    "# indice_ep1_opt = np.unravel_index(Errores.argmin(),Errores.shape)[1]\n",
    "# EP1_opt = ep1Range[indice_ep1_opt]\n",
    "\n",
    "# indice_ep2_opt = np.unravel_index(Errores.argmin(),Errores.shape)[2]\n",
    "# EP2_opt = ep2Range[indice_ep2_opt]\n",
    "\n",
    "# # Señal optima:\n",
    "# R_opt = R_ep1_ep2(EP1_opt,EP2_opt,D_opt,f_pos) \n",
    "# S_opt = Scal_avg_fpos*R_opt #*np.exp(-1j*2*D*2*np.pi*f_pos/3e8)\n",
    "\n",
    "\n",
    "# fig , ax = plt.subplots(nrows=1, ncols=3, figsize=(18,6))\n",
    "\n",
    "# ax[0].plot(f_norm,np.real(Star_avg_fpos),'--',label='Medición')\n",
    "# ax[0].plot(f_norm,np.real(S_opt),'-.',label='Teórico')\n",
    "# ax[0].grid('on')\n",
    "# ax[0].legend(loc=\"best\",fontsize=10)\n",
    "# ax[0].set_xlabel('Frec [GHz]')\n",
    "# ax[0].set_ylabel('Amplitud')\n",
    "# ax[0].set_title( 'medición vs. ajuste (parte Real)', fontsize=14) #, fontstyle='normal')\n",
    "\n",
    "# ax[1].plot(f_norm,np.imag(Star_avg_fpos),'--',label='Medición')\n",
    "# ax[1].plot(f_norm,np.imag(S_opt),'-.',label='Teórico')\n",
    "# ax[1].grid('on')\n",
    "# ax[1].legend(loc=\"best\",fontsize=10)\n",
    "# ax[1].set_xlabel('Frec [GHz]')\n",
    "# ax[1].set_ylabel('Amplitud')\n",
    "# ax[1].set_title( 'medición vs. ajuste (parte Imag)', fontsize=14) #, fontstyle='normal')\n",
    "\n",
    "# ax[2].plot(f_norm,np.abs(Star_avg_fpos),'--',label='Medición')\n",
    "# ax[2].plot(f_norm,np.abs(S_opt),'-.',label='Teórico')\n",
    "# ax[2].grid('on')\n",
    "# ax[2].legend(loc=\"best\",fontsize=10)\n",
    "# ax[2].set_xlabel('Frec [GHz]')\n",
    "# ax[2].set_ylabel('Amplitud')\n",
    "# ax[2].set_title( 'medición vs. ajuste (Módulo)', fontsize=14) #, fontstyle='normal')\n",
    "# plt.show()\n",
    "\n",
    "# print('d_opt:', str(round(100*D_opt,3))+' cm')\n",
    "# print('comparo con las mediciones medidas para depth=', depth[1])\n",
    "# print()\n",
    "# print('ep1_opt:',round(np.real(EP1_opt),3))\n",
    "# print('ep1_medido (2,5cm):', ep_med[1])\n",
    "# print()\n",
    "# print('ep2_opt:',round(np.real(EP2_opt),3))\n",
    "# print('ep2_medido (7cm):',ep_med[2])"
   ]
  }
 ],
 "metadata": {
  "kernelspec": {
   "display_name": "Python 3.8.10 64-bit",
   "language": "python",
   "name": "python3"
  },
  "language_info": {
   "codemirror_mode": {
    "name": "ipython",
    "version": 3
   },
   "file_extension": ".py",
   "mimetype": "text/x-python",
   "name": "python",
   "nbconvert_exporter": "python",
   "pygments_lexer": "ipython3",
   "version": "3.8.10"
  },
  "orig_nbformat": 4,
  "vscode": {
   "interpreter": {
    "hash": "916dbcbb3f70747c44a77c7bcd40155683ae19c65e1c03b4aa3499c5328201f1"
   }
  }
 },
 "nbformat": 4,
 "nbformat_minor": 2
}
